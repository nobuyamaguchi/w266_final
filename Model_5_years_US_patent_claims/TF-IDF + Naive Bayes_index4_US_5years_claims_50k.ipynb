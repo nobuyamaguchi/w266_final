{
 "cells": [
  {
   "cell_type": "code",
   "execution_count": 1,
   "metadata": {},
   "outputs": [
    {
     "name": "stderr",
     "output_type": "stream",
     "text": [
      "[nltk_data] Downloading package stopwords to\n",
      "[nltk_data]     /home/nobu_yamaguchi/nltk_data...\n",
      "[nltk_data]   Unzipping corpora/stopwords.zip.\n",
      "[nltk_data] Downloading package wordnet to\n",
      "[nltk_data]     /home/nobu_yamaguchi/nltk_data...\n",
      "[nltk_data]   Unzipping corpora/wordnet.zip.\n"
     ]
    }
   ],
   "source": [
    "# Reference: https://towardsdatascience.com/text-classification-with-nlp-tf-idf-vs-word2vec-vs-bert-41ff868d1794\n",
    "\n",
    "## for data\n",
    "import json\n",
    "import pandas as pd\n",
    "import numpy as np\n",
    "import nltk\n",
    "nltk.download('stopwords')\n",
    "nltk.download('wordnet')\n",
    "import re\n",
    "\n",
    "## for plotting\n",
    "import matplotlib.pyplot as plt\n",
    "import seaborn as sns\n",
    "\n",
    "## for bag-of-words\n",
    "from sklearn import feature_extraction, model_selection, naive_bayes, pipeline, manifold, preprocessing, feature_selection, metrics"
   ]
  },
  {
   "cell_type": "code",
   "execution_count": 2,
   "metadata": {},
   "outputs": [
    {
     "data": {
      "text/plain": [
       "(50000, 30)"
      ]
     },
     "execution_count": 2,
     "metadata": {},
     "output_type": "execute_result"
    }
   ],
   "source": [
    "# to navigate to the data location\n",
    "import os\n",
    "\n",
    "# get current directory \n",
    "path = os.getcwd() \n",
    "\n",
    "# parent directory\n",
    "parent = os.path.dirname(path)\n",
    "\n",
    "df_merge_quality = pd.read_csv(parent + '/US_patent_abstract_50000_2015_with_title_1_5y.csv')\n",
    "df_merge_quality.shape"
   ]
  },
  {
   "cell_type": "code",
   "execution_count": 3,
   "metadata": {},
   "outputs": [
    {
     "data": {
      "text/html": [
       "<div>\n",
       "<style scoped>\n",
       "    .dataframe tbody tr th:only-of-type {\n",
       "        vertical-align: middle;\n",
       "    }\n",
       "\n",
       "    .dataframe tbody tr th {\n",
       "        vertical-align: top;\n",
       "    }\n",
       "\n",
       "    .dataframe thead th {\n",
       "        text-align: right;\n",
       "    }\n",
       "</style>\n",
       "<table border=\"1\" class=\"dataframe\">\n",
       "  <thead>\n",
       "    <tr style=\"text-align: right;\">\n",
       "      <th></th>\n",
       "      <th>claims_text</th>\n",
       "      <th>quality_rank</th>\n",
       "    </tr>\n",
       "  </thead>\n",
       "  <tbody>\n",
       "    <tr>\n",
       "      <th>0</th>\n",
       "      <td>What is claimed is: \\n     \\n       1. A user ...</td>\n",
       "      <td>1</td>\n",
       "    </tr>\n",
       "    <tr>\n",
       "      <th>1</th>\n",
       "      <td>I claim: \\n     \\n       1. A mechanism for as...</td>\n",
       "      <td>0</td>\n",
       "    </tr>\n",
       "    <tr>\n",
       "      <th>2</th>\n",
       "      <td>We claim: \\n     \\n       1. An aircraft landi...</td>\n",
       "      <td>1</td>\n",
       "    </tr>\n",
       "    <tr>\n",
       "      <th>3</th>\n",
       "      <td>1. A method for culturing primate pluripotent ...</td>\n",
       "      <td>1</td>\n",
       "    </tr>\n",
       "    <tr>\n",
       "      <th>4</th>\n",
       "      <td>What is claimed is: \\n     \\n       1. A metho...</td>\n",
       "      <td>0</td>\n",
       "    </tr>\n",
       "    <tr>\n",
       "      <th>...</th>\n",
       "      <td>...</td>\n",
       "      <td>...</td>\n",
       "    </tr>\n",
       "    <tr>\n",
       "      <th>49995</th>\n",
       "      <td>What is claimed is: \\n     \\n       1. A sched...</td>\n",
       "      <td>0</td>\n",
       "    </tr>\n",
       "    <tr>\n",
       "      <th>49996</th>\n",
       "      <td>What is claimed is: \\n     \\n       1. An appa...</td>\n",
       "      <td>0</td>\n",
       "    </tr>\n",
       "    <tr>\n",
       "      <th>49997</th>\n",
       "      <td>What is claimed is: \\n     \\n       1. An imag...</td>\n",
       "      <td>1</td>\n",
       "    </tr>\n",
       "    <tr>\n",
       "      <th>49998</th>\n",
       "      <td>I claim: \\n     \\n       1. A method comprisin...</td>\n",
       "      <td>0</td>\n",
       "    </tr>\n",
       "    <tr>\n",
       "      <th>49999</th>\n",
       "      <td>What is claimed is: \\n     \\n       1. An inst...</td>\n",
       "      <td>0</td>\n",
       "    </tr>\n",
       "  </tbody>\n",
       "</table>\n",
       "<p>50000 rows × 2 columns</p>\n",
       "</div>"
      ],
      "text/plain": [
       "                                             claims_text  quality_rank\n",
       "0      What is claimed is: \\n     \\n       1. A user ...             1\n",
       "1      I claim: \\n     \\n       1. A mechanism for as...             0\n",
       "2      We claim: \\n     \\n       1. An aircraft landi...             1\n",
       "3      1. A method for culturing primate pluripotent ...             1\n",
       "4      What is claimed is: \\n     \\n       1. A metho...             0\n",
       "...                                                  ...           ...\n",
       "49995  What is claimed is: \\n     \\n       1. A sched...             0\n",
       "49996  What is claimed is: \\n     \\n       1. An appa...             0\n",
       "49997  What is claimed is: \\n     \\n       1. An imag...             1\n",
       "49998  I claim: \\n     \\n       1. A method comprisin...             0\n",
       "49999  What is claimed is: \\n     \\n       1. An inst...             0\n",
       "\n",
       "[50000 rows x 2 columns]"
      ]
     },
     "execution_count": 3,
     "metadata": {},
     "output_type": "execute_result"
    }
   ],
   "source": [
    "df = df_merge_quality[['claims_text', 'quality_rank']]\n",
    "df"
   ]
  },
  {
   "cell_type": "code",
   "execution_count": 4,
   "metadata": {},
   "outputs": [],
   "source": [
    "'''\n",
    "Preprocess a string.\n",
    ":parameter\n",
    "    :param text: string - name of column containing text\n",
    "    :param lst_stopwords: list - list of stopwords to remove\n",
    "    :param flg_stemm: bool - whether stemming is to be applied\n",
    "    :param flg_lemm: bool - whether lemmitisation is to be applied\n",
    ":return\n",
    "    cleaned text\n",
    "'''\n",
    "def utils_preprocess_text(text, flg_stemm=False, flg_lemm=True, lst_stopwords=None):\n",
    "    ## clean (convert to lowercase and remove punctuations and characters and then strip)\n",
    "    text = re.sub(r'[^\\w\\s]', '', str(text).lower().strip())\n",
    "            \n",
    "    ## Tokenize (convert from string to list)\n",
    "    lst_text = text.split()\n",
    "    ## remove Stopwords\n",
    "    if lst_stopwords is not None:\n",
    "        lst_text = [word for word in lst_text if word not in \n",
    "                    lst_stopwords]\n",
    "                \n",
    "    ## Stemming (remove -ing, -ly, ...)\n",
    "    if flg_stemm == True:\n",
    "        ps = nltk.stem.porter.PorterStemmer()\n",
    "        lst_text = [ps.stem(word) for word in lst_text]\n",
    "                \n",
    "    ## Lemmatisation (convert the word into root word)\n",
    "    if flg_lemm == True:\n",
    "        lem = nltk.stem.wordnet.WordNetLemmatizer()\n",
    "        lst_text = [lem.lemmatize(word) for word in lst_text]\n",
    "            \n",
    "    ## back to string from list\n",
    "    text = \" \".join(lst_text)\n",
    "    return text"
   ]
  },
  {
   "cell_type": "code",
   "execution_count": 5,
   "metadata": {},
   "outputs": [
    {
     "data": {
      "text/plain": [
       "['i',\n",
       " 'me',\n",
       " 'my',\n",
       " 'myself',\n",
       " 'we',\n",
       " 'our',\n",
       " 'ours',\n",
       " 'ourselves',\n",
       " 'you',\n",
       " \"you're\",\n",
       " \"you've\",\n",
       " \"you'll\",\n",
       " \"you'd\",\n",
       " 'your',\n",
       " 'yours',\n",
       " 'yourself',\n",
       " 'yourselves',\n",
       " 'he',\n",
       " 'him',\n",
       " 'his',\n",
       " 'himself',\n",
       " 'she',\n",
       " \"she's\",\n",
       " 'her',\n",
       " 'hers',\n",
       " 'herself',\n",
       " 'it',\n",
       " \"it's\",\n",
       " 'its',\n",
       " 'itself',\n",
       " 'they',\n",
       " 'them',\n",
       " 'their',\n",
       " 'theirs',\n",
       " 'themselves',\n",
       " 'what',\n",
       " 'which',\n",
       " 'who',\n",
       " 'whom',\n",
       " 'this',\n",
       " 'that',\n",
       " \"that'll\",\n",
       " 'these',\n",
       " 'those',\n",
       " 'am',\n",
       " 'is',\n",
       " 'are',\n",
       " 'was',\n",
       " 'were',\n",
       " 'be',\n",
       " 'been',\n",
       " 'being',\n",
       " 'have',\n",
       " 'has',\n",
       " 'had',\n",
       " 'having',\n",
       " 'do',\n",
       " 'does',\n",
       " 'did',\n",
       " 'doing',\n",
       " 'a',\n",
       " 'an',\n",
       " 'the',\n",
       " 'and',\n",
       " 'but',\n",
       " 'if',\n",
       " 'or',\n",
       " 'because',\n",
       " 'as',\n",
       " 'until',\n",
       " 'while',\n",
       " 'of',\n",
       " 'at',\n",
       " 'by',\n",
       " 'for',\n",
       " 'with',\n",
       " 'about',\n",
       " 'against',\n",
       " 'between',\n",
       " 'into',\n",
       " 'through',\n",
       " 'during',\n",
       " 'before',\n",
       " 'after',\n",
       " 'above',\n",
       " 'below',\n",
       " 'to',\n",
       " 'from',\n",
       " 'up',\n",
       " 'down',\n",
       " 'in',\n",
       " 'out',\n",
       " 'on',\n",
       " 'off',\n",
       " 'over',\n",
       " 'under',\n",
       " 'again',\n",
       " 'further',\n",
       " 'then',\n",
       " 'once',\n",
       " 'here',\n",
       " 'there',\n",
       " 'when',\n",
       " 'where',\n",
       " 'why',\n",
       " 'how',\n",
       " 'all',\n",
       " 'any',\n",
       " 'both',\n",
       " 'each',\n",
       " 'few',\n",
       " 'more',\n",
       " 'most',\n",
       " 'other',\n",
       " 'some',\n",
       " 'such',\n",
       " 'no',\n",
       " 'nor',\n",
       " 'not',\n",
       " 'only',\n",
       " 'own',\n",
       " 'same',\n",
       " 'so',\n",
       " 'than',\n",
       " 'too',\n",
       " 'very',\n",
       " 's',\n",
       " 't',\n",
       " 'can',\n",
       " 'will',\n",
       " 'just',\n",
       " 'don',\n",
       " \"don't\",\n",
       " 'should',\n",
       " \"should've\",\n",
       " 'now',\n",
       " 'd',\n",
       " 'll',\n",
       " 'm',\n",
       " 'o',\n",
       " 're',\n",
       " 've',\n",
       " 'y',\n",
       " 'ain',\n",
       " 'aren',\n",
       " \"aren't\",\n",
       " 'couldn',\n",
       " \"couldn't\",\n",
       " 'didn',\n",
       " \"didn't\",\n",
       " 'doesn',\n",
       " \"doesn't\",\n",
       " 'hadn',\n",
       " \"hadn't\",\n",
       " 'hasn',\n",
       " \"hasn't\",\n",
       " 'haven',\n",
       " \"haven't\",\n",
       " 'isn',\n",
       " \"isn't\",\n",
       " 'ma',\n",
       " 'mightn',\n",
       " \"mightn't\",\n",
       " 'mustn',\n",
       " \"mustn't\",\n",
       " 'needn',\n",
       " \"needn't\",\n",
       " 'shan',\n",
       " \"shan't\",\n",
       " 'shouldn',\n",
       " \"shouldn't\",\n",
       " 'wasn',\n",
       " \"wasn't\",\n",
       " 'weren',\n",
       " \"weren't\",\n",
       " 'won',\n",
       " \"won't\",\n",
       " 'wouldn',\n",
       " \"wouldn't\"]"
      ]
     },
     "execution_count": 5,
     "metadata": {},
     "output_type": "execute_result"
    }
   ],
   "source": [
    "# stopwords candidate\n",
    "lst_stopwords = nltk.corpus.stopwords.words(\"english\")\n",
    "lst_stopwords"
   ]
  },
  {
   "cell_type": "code",
   "execution_count": 6,
   "metadata": {},
   "outputs": [
    {
     "name": "stderr",
     "output_type": "stream",
     "text": [
      "/home/nobu_yamaguchi/anaconda3/lib/python3.7/site-packages/ipykernel_launcher.py:1: SettingWithCopyWarning: \n",
      "A value is trying to be set on a copy of a slice from a DataFrame.\n",
      "Try using .loc[row_indexer,col_indexer] = value instead\n",
      "\n",
      "See the caveats in the documentation: https://pandas.pydata.org/pandas-docs/stable/user_guide/indexing.html#returning-a-view-versus-a-copy\n",
      "  \"\"\"Entry point for launching an IPython kernel.\n"
     ]
    },
    {
     "data": {
      "text/html": [
       "<div>\n",
       "<style scoped>\n",
       "    .dataframe tbody tr th:only-of-type {\n",
       "        vertical-align: middle;\n",
       "    }\n",
       "\n",
       "    .dataframe tbody tr th {\n",
       "        vertical-align: top;\n",
       "    }\n",
       "\n",
       "    .dataframe thead th {\n",
       "        text-align: right;\n",
       "    }\n",
       "</style>\n",
       "<table border=\"1\" class=\"dataframe\">\n",
       "  <thead>\n",
       "    <tr style=\"text-align: right;\">\n",
       "      <th></th>\n",
       "      <th>claims_text</th>\n",
       "      <th>quality_rank</th>\n",
       "      <th>text_clean</th>\n",
       "    </tr>\n",
       "  </thead>\n",
       "  <tbody>\n",
       "    <tr>\n",
       "      <th>0</th>\n",
       "      <td>What is claimed is: \\n     \\n       1. A user ...</td>\n",
       "      <td>1</td>\n",
       "      <td>claimed 1 user equipment ue device ue device c...</td>\n",
       "    </tr>\n",
       "    <tr>\n",
       "      <th>1</th>\n",
       "      <td>I claim: \\n     \\n       1. A mechanism for as...</td>\n",
       "      <td>0</td>\n",
       "      <td>claim 1 mechanism assembling connecting furnit...</td>\n",
       "    </tr>\n",
       "    <tr>\n",
       "      <th>2</th>\n",
       "      <td>We claim: \\n     \\n       1. An aircraft landi...</td>\n",
       "      <td>1</td>\n",
       "      <td>claim 1 aircraft landing gear wheel comprising...</td>\n",
       "    </tr>\n",
       "    <tr>\n",
       "      <th>3</th>\n",
       "      <td>1. A method for culturing primate pluripotent ...</td>\n",
       "      <td>1</td>\n",
       "      <td>1 method culturing primate pluripotent stem ce...</td>\n",
       "    </tr>\n",
       "    <tr>\n",
       "      <th>4</th>\n",
       "      <td>What is claimed is: \\n     \\n       1. A metho...</td>\n",
       "      <td>0</td>\n",
       "      <td>claimed 1 method least partially executed comp...</td>\n",
       "    </tr>\n",
       "  </tbody>\n",
       "</table>\n",
       "</div>"
      ],
      "text/plain": [
       "                                         claims_text  quality_rank  \\\n",
       "0  What is claimed is: \\n     \\n       1. A user ...             1   \n",
       "1  I claim: \\n     \\n       1. A mechanism for as...             0   \n",
       "2  We claim: \\n     \\n       1. An aircraft landi...             1   \n",
       "3  1. A method for culturing primate pluripotent ...             1   \n",
       "4  What is claimed is: \\n     \\n       1. A metho...             0   \n",
       "\n",
       "                                          text_clean  \n",
       "0  claimed 1 user equipment ue device ue device c...  \n",
       "1  claim 1 mechanism assembling connecting furnit...  \n",
       "2  claim 1 aircraft landing gear wheel comprising...  \n",
       "3  1 method culturing primate pluripotent stem ce...  \n",
       "4  claimed 1 method least partially executed comp...  "
      ]
     },
     "execution_count": 6,
     "metadata": {},
     "output_type": "execute_result"
    }
   ],
   "source": [
    "df[\"text_clean\"] = df[\"claims_text\"].apply(lambda x: \n",
    "          utils_preprocess_text(x, flg_stemm=False, flg_lemm=True, \n",
    "          lst_stopwords=lst_stopwords))\n",
    "df.head()"
   ]
  },
  {
   "cell_type": "code",
   "execution_count": 11,
   "metadata": {},
   "outputs": [],
   "source": [
    "x_train_raw = df['text_clean'][:35000].values\n",
    "x_dev_raw = df['text_clean'][35000:45000].values\n",
    "x_test_raw = df['text_clean'][45000:].values\n",
    "\n",
    "y_train = df['quality_rank'][:35000].values\n",
    "y_dev = df['quality_rank'][35000:45000].values\n",
    "y_test = df['quality_rank'][45000:].values"
   ]
  },
  {
   "cell_type": "code",
   "execution_count": 12,
   "metadata": {},
   "outputs": [
    {
     "data": {
      "text/plain": [
       "0.5947142857142858"
      ]
     },
     "execution_count": 12,
     "metadata": {},
     "output_type": "execute_result"
    }
   ],
   "source": [
    "1 - sum(y_train) / len(y_train) # majority class in train set = 0.58"
   ]
  },
  {
   "cell_type": "code",
   "execution_count": 13,
   "metadata": {},
   "outputs": [
    {
     "data": {
      "text/plain": [
       "0.5898"
      ]
     },
     "execution_count": 13,
     "metadata": {},
     "output_type": "execute_result"
    }
   ],
   "source": [
    "1 - sum(y_dev) / len(y_dev) # majority class in dev set = 0.576"
   ]
  },
  {
   "cell_type": "code",
   "execution_count": 14,
   "metadata": {},
   "outputs": [
    {
     "data": {
      "text/plain": [
       "0.5992"
      ]
     },
     "execution_count": 14,
     "metadata": {},
     "output_type": "execute_result"
    }
   ],
   "source": [
    "1 - sum(y_test) / len(y_test) # majority class in dev set = 0.576"
   ]
  },
  {
   "cell_type": "code",
   "execution_count": 15,
   "metadata": {},
   "outputs": [
    {
     "data": {
      "text/plain": [
       "array(['claimed 1 user equipment ue device ue device comprising antenna performing wireless communication base station memory store plurality set communication scenario information plurality ue communication scenario wherein stored plurality set communication scenario information based two receiver type multiple inputmultiple output mimo scheme amount doppler shift wherein set communication scenario information useable generating channel quality indicator respective communication scenario processor configured determine current communication scenario ue device operation ue wherein determining current communication scenario based two receiver type mimo scheme amount doppler shift select first set communication scenario information plurality set communication scenario information based determined current communication scenario ue device determine current channel estimation ue device generate least one channel quality indicator based selected first set communication scenario information current channel estimation wherein current channel estimation used generate channel quality indicator plurality ue communication scenario wherein ue device configured transmit channel quality indicator base station 2 ue device claim 1 wherein stored plurality set communication scenario information based receiver type multiple inputmultiple output mimo scheme amount doppler shift wherein said determining current communication scenario ue comprises determining receiver type ue mimo scheme used base station amount doppler shift experienced ue 3 ue device claim 1 wherein stored plurality set communication scenario information comprises one mapping table mapping spectral efficiency channel quality indicator 4 ue device claim 1 wherein stored plurality set communication scenario information comprises least 1 first mapping table mapping signal noise ratio spectral efficiency 2 second mapping table mapping spectral efficiency channel quality indicator 5 method performed wireless user equipment ue method comprising determining current communication scenario ue operation ue wherein determining current communication scenario based two receiver type mimo scheme amount doppler shift selecting first set communication scenario information based determined current communication scenario ue wherein first set communication scenario information selected stored plurality set communication scenario information wherein stored plurality set communication scenario information based two receiver type multiple inputmultiple output mimo scheme amount doppler shift wherein set communication scenario information corresponds respective ue communication scenario determining current channel estimation ue generating least one channel quality indicator based selected first set communication scenario information based current channel estimation ue wherein current channel estimation used generate channel quality indicator communication scenario transmitting channel quality indicator base station 6 method claim 5 wherein stored plurality set communication scenario information based receiver type multiple inputmultiple output mimo scheme amount doppler shift wherein said determining current communication scenario ue comprises determining receiver type ue mimo scheme used base station amount doppler shift experienced ue 7 method claim 5 wherein stored plurality set communication scenario information comprises one mapping table mapping spectral efficiency channel quality indicator 8 method claim 5 wherein stored plurality set communication scenario information comprises least 1 first mapping table mapping signal noise ratio spectral efficiency 2 second mapping table mapping spectral efficiency channel quality indicator 9 method operating wireless user equipment ue method comprising storing plurality set communication scenario information plurality ue communication scenario wherein stored plurality set communication scenario information based two receiver type multiple inputmultiple output mimo scheme amount doppler shift wherein set communication scenario information useable generating channel quality indicator respective communication scenario determining current communication scenario ue operation ue wherein determining current communication scenario based two receiver type mimo scheme amount doppler shift selecting first set communication scenario information plurality set communication scenario information based determined current communication scenario ue determining current channel estimation ue device generating least one channel quality indicator based selected first set communication scenario information current channel estimation wherein current channel estimation used generate channel quality indicator plurality ue communication scenario providing channel quality indicator base station 10 method claim 9 wherein stored plurality set communication scenario information based receiver type multiple inputmultiple output mimo scheme amount doppler shift wherein said determining current communication scenario ue comprises determining receiver type ue mimo scheme used base station amount doppler shift experienced ue 11 method claim 9 wherein stored plurality set communication scenario information comprises one mapping table mapping spectral efficiency channel quality indicator 12 method claim 9 wherein stored plurality set communication scenario information comprises least 1 first mapping table mapping signal noise ratio spectral efficiency 2 second mapping table mapping spectral efficiency channel quality indicator 13 nontransitory computeraccessible memory medium storing program instruction wherein program instruction executed computer system cause computer system determine current communication scenario ue operation ue wherein determining current communication scenario based two receiver type mimo scheme amount doppler shift select first set communication scenario information based determined current communication scenario ue wherein first set communication scenario information selected stored plurality set communication scenario information wherein stored plurality set communication scenario information based two receiver type multiple inputmultiple output mimo scheme amount doppler shift wherein set communication scenario information corresponds respective ue communication scenario determine current channel estimation ue generate least one channel quality indicator based selected first set communication scenario information based current channel estimation ue wherein current channel estimation used generate channel quality indicator communication scenario wherein channel quality indicator configured transmitted base station 14 nontransitory computeraccessible memory medium claim 13 wherein stored plurality set communication scenario information based receiver type multiple inputmultiple output mimo scheme amount doppler shift 15 nontransitory computeraccessible memory medium claim 13 wherein stored plurality set communication scenario information comprises one mapping table mapping spectral efficiency channel quality indicator 16 method configuring wireless user equipment ue method comprising performing channel quality indicator adaptation method plurality ue communication scenario determine plurality set communication scenario information wherein stored plurality set communication scenario information based two receiver type multiple inputmultiple output mimo scheme amount doppler shift wherein set communication scenario information corresponds one ue communication scenario storing plurality set communication scenario information ue configuring ue selectively utilize one plurality set communication scenario information generate channel quality indicator based current communication condition ue based current channel estimation ue wherein current channel estimation used generate channel quality indicator plurality ue communication scenario 17 method claim 16 wherein said performing channel quality indicator adaptation method plurality ue communication scenario comprises selecting signal noise ratio value b defining spectral efficiency value based signal noise ratio c determining modulation coding scheme based signal noise ratio generating channel quality indicator value based modulation coding scheme selected signal noise ratio value performing ad plurality time generate mapping table map spectral efficiency value channel quality indicator value wherein mapping table comprises communication scenario information 18 method claim 16 wherein stored plurality set communication scenario information based receiver type multiple inputmultiple output mimo scheme amount doppler shift 19 method claim 16 wherein said configuring ue comprises storing software program memory ue executable processor 20 ue device claim 1 wherein current communication scenario based receiver type wherein receiver type comprise one linear minimum mean square error lmmse maximum likelihood method mlm linear minimum mean square error serial interference cancellation lmmsesic 21 method claim 5 wherein current communication scenario based receiver type wherein receiver type comprise one linear minimum mean square error lmmse maximum likelihood method mlm linear minimum mean square error serial interference cancellation lmmsesic 22 method claim 9 wherein current communication scenario based receiver type wherein receiver type comprise one linear minimum mean square error lmmse maximum likelihood method mlm linear minimum mean square error serial interference cancellation lmmsesic 23 nontransitory computer accessible memory medium claim 13 wherein current communication scenario based receiver type wherein receiver type comprise one linear minimum mean square error lmmse maximum likelihood method mlm linear minimum mean square error serial interference cancellation lmmsesic 24 method claim 16 wherein communication scenario based receiver type wherein receiver type comprise one linear minimum mean square error lmmse maximum likelihood method mlm linear minimum mean square error serial interference cancellation lmmsesic',\n",
       "       'claim 1 mechanism assembling connecting furniture base top surface furniture box least one scissor glider recliner mechanism affixed thereto comprising first cam piece top bottom said bottom seated top surface said base said first cam piece configured first cam interlock first positioning element second cam piece top bottom securely affixed fixed position lowermost section said least one scissor glider recliner mechanism said second cam piece configured second cam interlock second positioning element wherein said first cam piece moved toward said second cam piece connection direction said first second positioning element aligned engage said first cam interlock said second cam interlock aligned mate resiliently interlock one another top second cam piece extending top first cam piece 2 mechanism claim 1 wherein said first cam piece comprises two first cam element 3 mechanism claim 1 wherein said second cam piece comprises two second cam element 4 mechanism claim 1 wherein said first cam piece comprises two first cam interlock 5 mechanism claim 4 wherein said second cam piece comprises two second cam interlock corresponding said two first cam interlock 6 mechanism claim 5 wherein said two first second cam interlock comprise locking orifice adapted receive engage locking tab wherein bottom second cam piece rest portion first cam piece top first cam piece 7 mechanism claim 1 wherein said base selected group consisting recliner base rocker base glider base swivel base swivel rocker base swivel glider base twin sleeper base full sleeper base queen sleeper base king sleeper base 8 mechanism claim 1 wherein said first cam piece comprises one support receiver said second cam piece comprises one corresponding slot adapted fit said one support receiver first cam piece second cam piece interlocked 9 mechanism claim 1 wherein said first cam interlock said first cam piece constructed unitary piece 10 mechanism claim 1 wherein said second cam interlock said second cam piece constructed unitary piece 11 mechanism claim 1 wherein first cam interlock said second cam interlock connect snapfit locking arrangement 12 connecting assembly claim 1 wherein said first second cam piece disengageable 13 method connecting furniture base top surface furniture box least one scissor glider recliner mechanism affixed thereto said method comprising step providing first cam piece second cam piece according claim 1 seating said first cam piece top said furniture base securely affixing said second cam piece fixed position lowermost section said least one scissor glider recliner mechanism positioning said first second cam piece align respective cam interlock said first second positioning element along connection direction interlocking said first second cam piece one another engaging first second cam interlock engaging first second positioning element'],\n",
       "      dtype=object)"
      ]
     },
     "execution_count": 15,
     "metadata": {},
     "output_type": "execute_result"
    }
   ],
   "source": [
    "x_train_raw[:2]"
   ]
  },
  {
   "cell_type": "code",
   "execution_count": 16,
   "metadata": {},
   "outputs": [
    {
     "data": {
      "text/plain": [
       "(10000,)"
      ]
     },
     "execution_count": 16,
     "metadata": {},
     "output_type": "execute_result"
    }
   ],
   "source": [
    "y_dev.shape\n",
    "x_dev_raw.shape"
   ]
  },
  {
   "cell_type": "code",
   "execution_count": 17,
   "metadata": {},
   "outputs": [
    {
     "data": {
      "text/plain": [
       "(5000,)"
      ]
     },
     "execution_count": 17,
     "metadata": {},
     "output_type": "execute_result"
    }
   ],
   "source": [
    "y_test.shape\n",
    "x_test_raw.shape"
   ]
  },
  {
   "cell_type": "code",
   "execution_count": 18,
   "metadata": {},
   "outputs": [],
   "source": [
    "## Tf-Idf (advanced variant of BoW)\n",
    "vectorizer = feature_extraction.text.TfidfVectorizer(max_features=10000, ngram_range=(1,2))"
   ]
  },
  {
   "cell_type": "code",
   "execution_count": 19,
   "metadata": {},
   "outputs": [
    {
     "data": {
      "text/plain": [
       "TfidfVectorizer(analyzer='word', binary=False, decode_error='strict',\n",
       "                dtype=<class 'numpy.float64'>, encoding='utf-8',\n",
       "                input='content', lowercase=True, max_df=1.0, max_features=10000,\n",
       "                min_df=1, ngram_range=(1, 2), norm='l2', preprocessor=None,\n",
       "                smooth_idf=True, stop_words=None, strip_accents=None,\n",
       "                sublinear_tf=False, token_pattern='(?u)\\\\b\\\\w\\\\w+\\\\b',\n",
       "                tokenizer=None, use_idf=True, vocabulary=None)"
      ]
     },
     "execution_count": 19,
     "metadata": {},
     "output_type": "execute_result"
    }
   ],
   "source": [
    "vectorizer.fit(x_train_raw)"
   ]
  },
  {
   "cell_type": "code",
   "execution_count": 20,
   "metadata": {},
   "outputs": [],
   "source": [
    "X_train = vectorizer.transform(x_train_raw)"
   ]
  },
  {
   "cell_type": "code",
   "execution_count": 21,
   "metadata": {},
   "outputs": [
    {
     "data": {
      "text/plain": [
       "<35000x10000 sparse matrix of type '<class 'numpy.float64'>'\n",
       "\twith 4770458 stored elements in Compressed Sparse Row format>"
      ]
     },
     "execution_count": 21,
     "metadata": {},
     "output_type": "execute_result"
    }
   ],
   "source": [
    "X_train"
   ]
  },
  {
   "cell_type": "code",
   "execution_count": 22,
   "metadata": {},
   "outputs": [],
   "source": [
    "# vocabulary dictinoary\n",
    "dic_vocabulary = vectorizer.vocabulary_"
   ]
  },
  {
   "cell_type": "code",
   "execution_count": 23,
   "metadata": {},
   "outputs": [
    {
     "data": {
      "text/plain": [
       "Text(0.5, 1, 'Sparse Matrix Sample')"
      ]
     },
     "execution_count": 23,
     "metadata": {},
     "output_type": "execute_result"
    },
    {
     "data": {
      "image/png": "[encoded data removed]",
      "text/plain": [
       "<Figure size 432x288 with 1 Axes>"
      ]
     },
     "metadata": {
      "needs_background": "light"
     },
     "output_type": "display_data"
    }
   ],
   "source": [
    "# to visualize its sparsity\n",
    "sns.heatmap(X_train.todense()[:,np.random.randint(0,X_train.shape[1],100)]==0, vmin=0, vmax=1, cbar=False).set_title('Sparse Matrix Sample')"
   ]
  },
  {
   "cell_type": "code",
   "execution_count": 24,
   "metadata": {},
   "outputs": [],
   "source": [
    "# for the time-being, perhaps let's keep entire 10K vocabulary and se the result"
   ]
  },
  {
   "cell_type": "code",
   "execution_count": 25,
   "metadata": {},
   "outputs": [],
   "source": [
    "# try Naive Bayes classifier\n",
    "\n",
    "classifier = naive_bayes.MultinomialNB()"
   ]
  },
  {
   "cell_type": "code",
   "execution_count": 26,
   "metadata": {},
   "outputs": [
    {
     "data": {
      "text/plain": [
       "Pipeline(memory=None,\n",
       "         steps=[('vectorizer',\n",
       "                 TfidfVectorizer(analyzer='word', binary=False,\n",
       "                                 decode_error='strict',\n",
       "                                 dtype=<class 'numpy.float64'>,\n",
       "                                 encoding='utf-8', input='content',\n",
       "                                 lowercase=True, max_df=1.0, max_features=10000,\n",
       "                                 min_df=1, ngram_range=(1, 2), norm='l2',\n",
       "                                 preprocessor=None, smooth_idf=True,\n",
       "                                 stop_words=None, strip_accents=None,\n",
       "                                 sublinear_tf=False,\n",
       "                                 token_pattern='(?u)\\\\b\\\\w\\\\w+\\\\b',\n",
       "                                 tokenizer=None, use_idf=True,\n",
       "                                 vocabulary=None)),\n",
       "                ('classifier',\n",
       "                 MultinomialNB(alpha=1.0, class_prior=None, fit_prior=True))],\n",
       "         verbose=False)"
      ]
     },
     "execution_count": 26,
     "metadata": {},
     "output_type": "execute_result"
    }
   ],
   "source": [
    "## pipeline\n",
    "model = pipeline.Pipeline([(\"vectorizer\", vectorizer),  \n",
    "                           (\"classifier\", classifier)])\n",
    "## train classifier\n",
    "model.fit(x_train_raw, y_train)\n"
   ]
  },
  {
   "cell_type": "code",
   "execution_count": 27,
   "metadata": {},
   "outputs": [],
   "source": [
    "## dev\n",
    "\n",
    "predicted = model.predict(x_dev_raw)\n",
    "predicted_prob = model.predict_proba(x_dev_raw)\n"
   ]
  },
  {
   "cell_type": "code",
   "execution_count": 28,
   "metadata": {
    "scrolled": true
   },
   "outputs": [
    {
     "name": "stdout",
     "output_type": "stream",
     "text": [
      "10000\n"
     ]
    },
    {
     "data": {
      "text/plain": [
       "array([0, 0, 0, ..., 0, 0, 0])"
      ]
     },
     "execution_count": 28,
     "metadata": {},
     "output_type": "execute_result"
    }
   ],
   "source": [
    "print(len(predicted))\n",
    "predicted"
   ]
  },
  {
   "cell_type": "code",
   "execution_count": 29,
   "metadata": {},
   "outputs": [
    {
     "name": "stdout",
     "output_type": "stream",
     "text": [
      "(10000, 2)\n"
     ]
    },
    {
     "data": {
      "text/plain": [
       "array([[0.54835459, 0.45164541],\n",
       "       [0.53542455, 0.46457545],\n",
       "       [0.75449669, 0.24550331],\n",
       "       ...,\n",
       "       [0.70921995, 0.29078005],\n",
       "       [0.74495982, 0.25504018],\n",
       "       [0.51210634, 0.48789366]])"
      ]
     },
     "execution_count": 29,
     "metadata": {},
     "output_type": "execute_result"
    }
   ],
   "source": [
    "print(predicted_prob.shape)\n",
    "predicted_prob"
   ]
  },
  {
   "cell_type": "code",
   "execution_count": 31,
   "metadata": {},
   "outputs": [],
   "source": [
    "# save predicted probability to file for later ensemble model\n",
    "\n",
    "np.savetxt('Predict_Output/TFIDF_NaiveBayes_5yr_claims_dev_prob_50k.csv', predicted_prob)"
   ]
  },
  {
   "cell_type": "code",
   "execution_count": 32,
   "metadata": {},
   "outputs": [
    {
     "name": "stdout",
     "output_type": "stream",
     "text": [
      "Accuracy: 0.655\n",
      "Auc: 0.612\n",
      "Detail:\n",
      "              precision    recall  f1-score   support\n",
      "\n",
      "           0       0.66      0.85      0.74      5898\n",
      "           1       0.63      0.37      0.47      4102\n",
      "\n",
      "    accuracy                           0.65     10000\n",
      "   macro avg       0.65      0.61      0.61     10000\n",
      "weighted avg       0.65      0.65      0.63     10000\n",
      "\n"
     ]
    },
    {
     "data": {
      "image/png": "[encoded data removed]",
      "text/plain": [
       "<Figure size 432x288 with 1 Axes>"
      ]
     },
     "metadata": {
      "needs_background": "light"
     },
     "output_type": "display_data"
    },
    {
     "data": {
      "image/png": "[encoded data removed]",
      "text/plain": [
       "<Figure size 432x288 with 2 Axes>"
      ]
     },
     "metadata": {
      "needs_background": "light"
     },
     "output_type": "display_data"
    }
   ],
   "source": [
    "#y_test = y_dev\n",
    "\n",
    "classes = np.unique(y_dev)\n",
    "y_dev_array = pd.get_dummies(y_dev, drop_first=False).values\n",
    "    \n",
    "## Accuracy, Precision, Recall\n",
    "accuracy = metrics.accuracy_score(y_dev, predicted)\n",
    "auc = metrics.roc_auc_score(y_dev, predicted)  # predicted_prob), check doc, seems the second argument required to be shape (n_samples,) for binary case \n",
    "                            #multi_class=\"ovr\") # check documentation and seems \"ovr\" not good for only binary target class\n",
    "print(\"Accuracy:\",  round(accuracy,3))\n",
    "print(\"Auc:\", round(auc,3))\n",
    "print(\"Detail:\")\n",
    "print(metrics.classification_report(y_dev, predicted))\n",
    "    \n",
    "## Plot confusion matrix\n",
    "cm = metrics.confusion_matrix(y_dev, predicted)\n",
    "fig, ax = plt.subplots()\n",
    "sns.heatmap(cm, annot=True, fmt='d', ax=ax, cmap=plt.cm.Blues, \n",
    "            cbar=False)\n",
    "ax.set(xlabel=\"Pred\", ylabel=\"True\", xticklabels=classes, \n",
    "       yticklabels=classes, title=\"Confusion matrix\")\n",
    "plt.yticks(rotation=0)\n",
    "\n",
    "fig, ax = plt.subplots(nrows=1, ncols=2)\n",
    "## Plot roc\n",
    "for i in range(len(classes)):\n",
    "    fpr, tpr, thresholds = metrics.roc_curve(y_dev_array[:,i],  \n",
    "                           predicted_prob[:,i])\n",
    "    ax[0].plot(fpr, tpr, lw=3, \n",
    "              label='{0} (area={1:0.2f})'.format(classes[i], \n",
    "                              metrics.auc(fpr, tpr))\n",
    "               )\n",
    "ax[0].plot([0,1], [0,1], color='navy', lw=3, linestyle='--')\n",
    "ax[0].set(xlim=[-0.05,1.0], ylim=[0.0,1.05], \n",
    "          xlabel='False Positive Rate', \n",
    "          ylabel=\"True Positive Rate (Recall)\", \n",
    "          title=\"Receiver operating characteristic\")\n",
    "ax[0].legend(loc=\"lower right\")\n",
    "ax[0].grid(True)\n",
    "    \n",
    "## Plot precision-recall curve\n",
    "for i in range(len(classes)):\n",
    "    precision, recall, thresholds = metrics.precision_recall_curve(\n",
    "                 y_dev_array[:,i], predicted_prob[:,i])\n",
    "    ax[1].plot(recall, precision, lw=3, \n",
    "               label='{0} (area={1:0.2f})'.format(classes[i], \n",
    "                                  metrics.auc(recall, precision))\n",
    "              )\n",
    "ax[1].set(xlim=[0.0,1.05], ylim=[0.0,1.05], xlabel='Recall', \n",
    "          ylabel=\"Precision\", title=\"Precision-Recall curve\")\n",
    "ax[1].legend(loc=\"best\")\n",
    "ax[1].grid(True)\n",
    "plt.show()"
   ]
  },
  {
   "cell_type": "code",
   "execution_count": 33,
   "metadata": {},
   "outputs": [
    {
     "name": "stdout",
     "output_type": "stream",
     "text": [
      "Accuracy: 0.662\n",
      "Auc: 0.614\n",
      "Detail:\n",
      "              precision    recall  f1-score   support\n",
      "\n",
      "           0       0.67      0.85      0.75      2996\n",
      "           1       0.63      0.38      0.47      2004\n",
      "\n",
      "    accuracy                           0.66      5000\n",
      "   macro avg       0.65      0.61      0.61      5000\n",
      "weighted avg       0.66      0.66      0.64      5000\n",
      "\n"
     ]
    },
    {
     "data": {
      "image/png": "[encoded data removed]",
      "text/plain": [
       "<Figure size 432x288 with 1 Axes>"
      ]
     },
     "metadata": {
      "needs_background": "light"
     },
     "output_type": "display_data"
    },
    {
     "data": {
      "image/png": "[encoded data removed]",
      "text/plain": [
       "<Figure size 432x288 with 2 Axes>"
      ]
     },
     "metadata": {
      "needs_background": "light"
     },
     "output_type": "display_data"
    }
   ],
   "source": [
    "predicted_test = model.predict(x_test_raw)\n",
    "predicted_prob_test = model.predict_proba(x_test_raw)\n",
    "\n",
    "np.savetxt('Predict_Output/TFIDF_NaiveBayes_5yr_claims_test_prob_50k.csv', predicted_prob_test)\n",
    "classes = np.unique(y_test)\n",
    "y_test_array = pd.get_dummies(y_test, drop_first=False).values\n",
    "    \n",
    "## Accuracy, Precision, Recall\n",
    "accuracy = metrics.accuracy_score(y_test, predicted_test)\n",
    "auc = metrics.roc_auc_score(y_test, predicted_test)  # predicted_prob), check doc, seems the second argument required to be shape (n_samples,) for binary case \n",
    "                            #multi_class=\"ovr\") # check documentation and seems \"ovr\" not good for only binary target class\n",
    "print(\"Accuracy:\",  round(accuracy,3))\n",
    "print(\"Auc:\", round(auc,3))\n",
    "print(\"Detail:\")\n",
    "print(metrics.classification_report(y_test, predicted_test))\n",
    "    \n",
    "## Plot confusion matrix\n",
    "cm = metrics.confusion_matrix(y_test, predicted_test)\n",
    "fig, ax = plt.subplots()\n",
    "sns.heatmap(cm, annot=True, fmt='d', ax=ax, cmap=plt.cm.Blues, \n",
    "            cbar=False)\n",
    "ax.set(xlabel=\"Pred\", ylabel=\"True\", xticklabels=classes, \n",
    "       yticklabels=classes, title=\"Confusion matrix\")\n",
    "plt.yticks(rotation=0)\n",
    "\n",
    "fig, ax = plt.subplots(nrows=1, ncols=2)\n",
    "## Plot roc\n",
    "for i in range(len(classes)):\n",
    "    fpr, tpr, thresholds = metrics.roc_curve(y_test_array[:,i],  \n",
    "                           predicted_prob_test[:,i])\n",
    "    ax[0].plot(fpr, tpr, lw=3, \n",
    "              label='{0} (area={1:0.2f})'.format(classes[i], \n",
    "                              metrics.auc(fpr, tpr))\n",
    "               )\n",
    "ax[0].plot([0,1], [0,1], color='navy', lw=3, linestyle='--')\n",
    "ax[0].set(xlim=[-0.05,1.0], ylim=[0.0,1.05], \n",
    "          xlabel='False Positive Rate', \n",
    "          ylabel=\"True Positive Rate (Recall)\", \n",
    "          title=\"Receiver operating characteristic\")\n",
    "ax[0].legend(loc=\"lower right\")\n",
    "ax[0].grid(True)\n",
    "    \n",
    "## Plot precision-recall curve\n",
    "for i in range(len(classes)):\n",
    "    precision, recall, thresholds = metrics.precision_recall_curve(\n",
    "                 y_test_array[:,i], predicted_prob_test[:,i])\n",
    "    ax[1].plot(recall, precision, lw=3, \n",
    "               label='{0} (area={1:0.2f})'.format(classes[i], \n",
    "                                  metrics.auc(recall, precision))\n",
    "              )\n",
    "ax[1].set(xlim=[0.0,1.05], ylim=[0.0,1.05], xlabel='Recall', \n",
    "          ylabel=\"Precision\", title=\"Precision-Recall curve\")\n",
    "ax[1].legend(loc=\"best\")\n",
    "ax[1].grid(True)\n",
    "plt.show()"
   ]
  },
  {
   "cell_type": "code",
   "execution_count": null,
   "metadata": {},
   "outputs": [],
   "source": []
  },
  {
   "cell_type": "code",
   "execution_count": null,
   "metadata": {},
   "outputs": [],
   "source": []
  }
 ],
 "metadata": {
  "kernelspec": {
   "display_name": "Python 3",
   "language": "python",
   "name": "python3"
  },
  "language_info": {
   "codemirror_mode": {
    "name": "ipython",
    "version": 3
   },
   "file_extension": ".py",
   "mimetype": "text/x-python",
   "name": "python",
   "nbconvert_exporter": "python",
   "pygments_lexer": "ipython3",
   "version": "3.7.6"
  }
 },
 "nbformat": 4,
 "nbformat_minor": 4
}
