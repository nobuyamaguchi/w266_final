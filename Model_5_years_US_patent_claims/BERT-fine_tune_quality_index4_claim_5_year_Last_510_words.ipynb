{
 "cells": [
  {
   "cell_type": "code",
   "execution_count": 1,
   "metadata": {},
   "outputs": [
    {
     "name": "stdout",
     "output_type": "stream",
     "text": [
      "TensorFlow Version: 2.2.0\n",
      "Hub version:  0.8.0\n"
     ]
    }
   ],
   "source": [
    "# Import modules\n",
    "import pandas as pd\n",
    "import numpy as np\n",
    "import bert\n",
    "import tensorflow as tf\n",
    "import tensorflow_hub as hub\n",
    "from tensorflow.keras.utils import to_categorical\n",
    "from tensorflow.keras.models import  Model\n",
    "from tensorflow.keras.layers import Input, Dense, Dropout\n",
    "from tensorflow.keras.optimizers import Adam\n",
    "from tensorflow.keras.callbacks import ModelCheckpoint, TensorBoard\n",
    "from tqdm import tqdm\n",
    "import matplotlib.pyplot as plt\n",
    "\n",
    "# string processing\n",
    "import re\n",
    "from keras.utils.np_utils import to_categorical\n",
    "from sklearn import feature_extraction, model_selection, naive_bayes, pipeline, manifold, preprocessing, feature_selection, metrics\n",
    "\n",
    "print(\"TensorFlow Version:\",tf.__version__)\n",
    "print(\"Hub version: \",hub.__version__)\n",
    "pd.set_option('display.max_colwidth',1000)"
   ]
  },
  {
   "cell_type": "markdown",
   "metadata": {},
   "source": [
    "### Start here:"
   ]
  },
  {
   "cell_type": "code",
   "execution_count": 2,
   "metadata": {},
   "outputs": [
    {
     "data": {
      "text/plain": [
       "(5000, 30)"
      ]
     },
     "execution_count": 2,
     "metadata": {},
     "output_type": "execute_result"
    }
   ],
   "source": [
    "# to navigate to the data location\n",
    "import os\n",
    "\n",
    "# get current directory \n",
    "path = os.getcwd() \n",
    "\n",
    "# parent directory\n",
    "parent = os.path.dirname(path)\n",
    "\n",
    "df_merge_quality = pd.read_csv(parent + '/data/US_patent_abstract_5000_2015_with_title_1_5y.csv')\n",
    "df_merge_quality.shape"
   ]
  },
  {
   "cell_type": "code",
   "execution_count": 3,
   "metadata": {},
   "outputs": [
    {
     "data": {
      "text/html": [
       "<div>\n",
       "<style scoped>\n",
       "    .dataframe tbody tr th:only-of-type {\n",
       "        vertical-align: middle;\n",
       "    }\n",
       "\n",
       "    .dataframe tbody tr th {\n",
       "        vertical-align: top;\n",
       "    }\n",
       "\n",
       "    .dataframe thead th {\n",
       "        text-align: right;\n",
       "    }\n",
       "</style>\n",
       "<table border=\"1\" class=\"dataframe\">\n",
       "  <thead>\n",
       "    <tr style=\"text-align: right;\">\n",
       "      <th></th>\n",
       "      <th>claims_text</th>\n",
       "      <th>quality_rank</th>\n",
       "    </tr>\n",
       "  </thead>\n",
       "  <tbody>\n",
       "    <tr>\n",
       "      <th>0</th>\n",
       "      <td>What is claimed is: \\n     \\n       1. An invitation information push method comprising:\\n after receiving an invitation request sent by a microblog user, a server sending invitation information to clients corresponding to a number of invited users carried in the invitation request, wherein the invited users are users who have not registered microblog, and the number of the invited users N is greater than or equal to 1; and \\n upon receiving the invitation information, each client creating an invitation information guide to guide the user who has not registered microblog to register microblog; \\n wherein the server sending the invitation information to the clients corresponding to the invited users comprises: \\n determining, by the server, whether one or more of the invited users carried in the invitation request are in a restricted list; and \\n if none of the invited users carried in the invitation request is in the restricted list, sending the invitation information to the client...</td>\n",
       "      <td>0</td>\n",
       "    </tr>\n",
       "    <tr>\n",
       "      <th>1</th>\n",
       "      <td>What is claimed is: \\n     \\n       1. An implant connector comprising:\\n a first member including a first cavity that defines a longitudinal axis along which a first implant is configured for disposal in a fixed orientation; and \\n a second member connected to the first member along a first axis and defining a second cavity, the second cavity comprising a U-shaped configuration with an open top portion that faces away from the first member and defines a longitudinal axis along which a second implant is configured for disposal, the second cavity being rotatable about a second axis that is disposed in a transverse orientation and intersecting the longitudinal axis of the second cavity such that the second implant is rotatable in a first plane relative to the first implant. \\n \\n     \\n     \\n       2. An implant connector according to  claim 1 , wherein the first member further includes a lateral opening in communication with the first cavity and disposed for receiving the first imp...</td>\n",
       "      <td>0</td>\n",
       "    </tr>\n",
       "    <tr>\n",
       "      <th>2</th>\n",
       "      <td>What is claimed is: \\n     \\n       1. A spearfishing device, the device comprising:\\n an elongate barrel including a first planar end, a second planar end, a first surface, a second surface, a third surface, and a fourth surface, the barrel including a length along a shooting axis and a width across the shooting axis with the length being greater than the width, the barrel defining a spear conduit along the shooting axis and two band conduits that are parallel to the spear conduit, each of the spear conduit and the two band conduits extending entirely within the barrel from the first planar end to the second planar end, and each of the first, second, third, and fourth surfaces extending from the first planar end to the second planar end. \\n \\n     \\n     \\n       2. The device of  claim 1 , wherein the spear conduit is coaxial with the shooting axis. \\n     \\n     \\n       3. The device of  claim 2 , wherein the spear conduit is located between the two band conduits. \\n     \\n    ...</td>\n",
       "      <td>1</td>\n",
       "    </tr>\n",
       "    <tr>\n",
       "      <th>3</th>\n",
       "      <td>1. A computer-implemented method for the automated selection and loading of media items from a computer into a media presentation device, the method comprising:\\n at the time of initiating the removal and loading process,\\n receiving a media item current playlist from the media presentation device; \\n receiving current user taste data associated with a user of the media presentation device, the taste data reflecting recent use of the presentation device by the said user; \\n generating a recommended playlist responsive to the user taste data; \\n ranking the media items in the recommended playlist responsive to the user taste data; \\n determining an amount of memory storage space available on the media presentation device for storing new items; and \\n automatically removing as many media items from the media presentation device as necessary to free memory space sufficient to accommodate at least the highest ranked one of the ranked media items, wherein the media items are removed fro...</td>\n",
       "      <td>1</td>\n",
       "    </tr>\n",
       "    <tr>\n",
       "      <th>4</th>\n",
       "      <td>What is claimed is: \\n     \\n       1. A semiconductor integrated circuit comprising:\\n a state holding circuit that inputs an output of one inverter to another inverter with each other; \\n an input circuit that causes a state of the state holding circuit to transition based on a data signal; \\n a first first-conductive transistor that is inserted between an input of the one inverter and an output of the another inverter and is controlled by the data signal; \\n a first second-conductive transistor that is connected in parallel with the first first-conductive transistor and is controlled by the data signal; \\n a first P-channel field-effect transistor that inputs a data signal to the one inverter of the state holding circuit when a clock signal is in a low level; \\n a second P-channel field-effect transistor that inputs an inverted data signal to the another inverter of the state holding circuit when the clock signal is in a low level; \\n a first N-channel field-effect transistor th...</td>\n",
       "      <td>0</td>\n",
       "    </tr>\n",
       "    <tr>\n",
       "      <th>...</th>\n",
       "      <td>...</td>\n",
       "      <td>...</td>\n",
       "    </tr>\n",
       "    <tr>\n",
       "      <th>4995</th>\n",
       "      <td>What is claimed is: \\n     \\n       1. A computer implemented method for creating cross-platform maps, comprising:\\n receiving geographic information system (GIS) datasets encoded in respective source formats, wherein each GIS dataset includes one or more map assets, each map asset describing a feature, characteristic, or element of a respective map; \\n translating said GIS datasets into a platform independent format, wherein said platform independent format differs from said source formats; \\n extracting metadata from at least a portion of said one or more map assets; \\n storing said metadata for subsequent access by one or more client platforms, wherein said metadata is stored in a first low latency non-persistent memory and said map assets are stored in a second persistent storage; and \\n providing said translated GIS datasets and their respective map assets in said platform independent format to one or more client platforms, \\n wherein said translating, extracting, and providin...</td>\n",
       "      <td>1</td>\n",
       "    </tr>\n",
       "    <tr>\n",
       "      <th>4996</th>\n",
       "      <td>What is claimed is: \\n     \\n       1. A display substrate comprising:\\n a plurality of gate lines extended along a first direction and on a base substrate; \\n a plurality of data lines extended in a second direction and crossing with the gate lines; \\n a plurality of transverse storage lines extended in the first direction and crossing with the data lines; \\n a plurality of longitudinal storage lines extended in the second direction and crossing with the transverse storage lines, \\n wherein at least a first of the transverse storage lines has an exposed portion partially exposing the first transverse storage line such that the first transverse storage line can be contacted at its exposed portion; and \\n a contact electrode covering and making contact with the exposed portion of the first transverse storage line, the contact electrode further making contact with a crossing-by first of the longitudinal storage lines. \\n \\n     \\n     \\n       2. The display substrate of  claim 1 , w...</td>\n",
       "      <td>1</td>\n",
       "    </tr>\n",
       "    <tr>\n",
       "      <th>4997</th>\n",
       "      <td>What is claimed is: \\n     \\n       1. A compound having formula (III) \\n       \\n         \\n           \\n           \\n               \\n               \\n           \\n         \\n         wherein each of X 9 , X 10  and X 11  is independently CR e R f , NR e , O or S, with the proviso that at least one of X 9 , X 10  and X 11  is CR e R f ; \\n         D is a bond, methylene or ethylene; \\n         each of R e  and R f  is independently H, C 1-6  alkyl, C 1-6  alkylacyl, C 3-8  cycloalkyl, C 6-10  aryl-C 1-6 -alkyl, or C 1-6  haloalkyl; and \\n         n is 1 or 2. \\n       \\n     \\n     \\n       2. A compound having one of the following structures: \\n       \\n         \\n           \\n           \\n               \\n               \\n           \\n         \\n         \\n           \\n           \\n               \\n               \\n           \\n         \\n         \\n           \\n           \\n               \\n               \\n           \\n         \\n         \\n           \\n           \\n         ...</td>\n",
       "      <td>1</td>\n",
       "    </tr>\n",
       "    <tr>\n",
       "      <th>4998</th>\n",
       "      <td>The invention claimed is: \\n     \\n       1. A method for displaying information in a vehicle cockpit, the method comprising:\\n controlling display of a display of a menu including a plurality of graphical objects on a display device positioned to be viewed by a driver of the vehicle via a control apparatus so that the display device is in a first or a second display mode; \\n measuring a speed of the vehicle, and \\n displaying, in a first speed range, the plurality of graphical objects in the first display mode and displaying, in the second speed range, the same plurality of graphical objects in the second display mode; wherein transition from one to the other display mode prompts the control apparatus to actuate the display device to display the plurality of objects presented in one display mode to move toward one another until the displayed plurality of objects combine in a central area, and subsequently move away from one another in a direction of presentation positions in the o...</td>\n",
       "      <td>1</td>\n",
       "    </tr>\n",
       "    <tr>\n",
       "      <th>4999</th>\n",
       "      <td>What is claimed is: \\n     \\n       1. A flow meter, comprising:\\n an orifice fitting body comprising a housing, a bore for passing a fluid stream, and a plurality of tap holes, wherein the housing is configured to house an orifice plate; \\n a first ultrasonic transducer disposed in a first of the plurality of tap holes; \\n wherein the first ultrasonic transducer is configured to generate and receive an acoustic signal. \\n \\n     \\n     \\n       2. The flow meter of  claim 1 , wherein the first ultrasonic transducer is configured to direct an acoustic signal across the bore. \\n     \\n     \\n       3. The flow meter of  claim 1 , configured such that the first ultrasonic transducer receives an acoustic signal that is reflected off of an inner wall of the bore. \\n     \\n     \\n       4. The flow meter of  claim 1 , wherein the acoustic signal generated by the first ultrasonic transducer is at a frequency equal to or greater than 20 KHz. \\n     \\n     \\n       5. The flow meter of  cl...</td>\n",
       "      <td>1</td>\n",
       "    </tr>\n",
       "  </tbody>\n",
       "</table>\n",
       "<p>5000 rows × 2 columns</p>\n",
       "</div>"
      ],
      "text/plain": [
       "                                                                                                                                                                                                                                                                                                                                                                                                                                                                                                                                                                                                                                                                                                                                                                                                                                                                                                                                                                                                                                  claims_text  \\\n",
       "0     What is claimed is: \\n     \\n       1. An invitation information push method comprising:\\n after receiving an invitation request sent by a microblog user, a server sending invitation information to clients corresponding to a number of invited users carried in the invitation request, wherein the invited users are users who have not registered microblog, and the number of the invited users N is greater than or equal to 1; and \\n upon receiving the invitation information, each client creating an invitation information guide to guide the user who has not registered microblog to register microblog; \\n wherein the server sending the invitation information to the clients corresponding to the invited users comprises: \\n determining, by the server, whether one or more of the invited users carried in the invitation request are in a restricted list; and \\n if none of the invited users carried in the invitation request is in the restricted list, sending the invitation information to the client...   \n",
       "1     What is claimed is: \\n     \\n       1. An implant connector comprising:\\n a first member including a first cavity that defines a longitudinal axis along which a first implant is configured for disposal in a fixed orientation; and \\n a second member connected to the first member along a first axis and defining a second cavity, the second cavity comprising a U-shaped configuration with an open top portion that faces away from the first member and defines a longitudinal axis along which a second implant is configured for disposal, the second cavity being rotatable about a second axis that is disposed in a transverse orientation and intersecting the longitudinal axis of the second cavity such that the second implant is rotatable in a first plane relative to the first implant. \\n \\n     \\n     \\n       2. An implant connector according to  claim 1 , wherein the first member further includes a lateral opening in communication with the first cavity and disposed for receiving the first imp...   \n",
       "2     What is claimed is: \\n     \\n       1. A spearfishing device, the device comprising:\\n an elongate barrel including a first planar end, a second planar end, a first surface, a second surface, a third surface, and a fourth surface, the barrel including a length along a shooting axis and a width across the shooting axis with the length being greater than the width, the barrel defining a spear conduit along the shooting axis and two band conduits that are parallel to the spear conduit, each of the spear conduit and the two band conduits extending entirely within the barrel from the first planar end to the second planar end, and each of the first, second, third, and fourth surfaces extending from the first planar end to the second planar end. \\n \\n     \\n     \\n       2. The device of  claim 1 , wherein the spear conduit is coaxial with the shooting axis. \\n     \\n     \\n       3. The device of  claim 2 , wherein the spear conduit is located between the two band conduits. \\n     \\n    ...   \n",
       "3     1. A computer-implemented method for the automated selection and loading of media items from a computer into a media presentation device, the method comprising:\\n at the time of initiating the removal and loading process,\\n receiving a media item current playlist from the media presentation device; \\n receiving current user taste data associated with a user of the media presentation device, the taste data reflecting recent use of the presentation device by the said user; \\n generating a recommended playlist responsive to the user taste data; \\n ranking the media items in the recommended playlist responsive to the user taste data; \\n determining an amount of memory storage space available on the media presentation device for storing new items; and \\n automatically removing as many media items from the media presentation device as necessary to free memory space sufficient to accommodate at least the highest ranked one of the ranked media items, wherein the media items are removed fro...   \n",
       "4     What is claimed is: \\n     \\n       1. A semiconductor integrated circuit comprising:\\n a state holding circuit that inputs an output of one inverter to another inverter with each other; \\n an input circuit that causes a state of the state holding circuit to transition based on a data signal; \\n a first first-conductive transistor that is inserted between an input of the one inverter and an output of the another inverter and is controlled by the data signal; \\n a first second-conductive transistor that is connected in parallel with the first first-conductive transistor and is controlled by the data signal; \\n a first P-channel field-effect transistor that inputs a data signal to the one inverter of the state holding circuit when a clock signal is in a low level; \\n a second P-channel field-effect transistor that inputs an inverted data signal to the another inverter of the state holding circuit when the clock signal is in a low level; \\n a first N-channel field-effect transistor th...   \n",
       "...                                                                                                                                                                                                                                                                                                                                                                                                                                                                                                                                                                                                                                                                                                                                                                                                                                                                                                                                                                                                                                       ...   \n",
       "4995  What is claimed is: \\n     \\n       1. A computer implemented method for creating cross-platform maps, comprising:\\n receiving geographic information system (GIS) datasets encoded in respective source formats, wherein each GIS dataset includes one or more map assets, each map asset describing a feature, characteristic, or element of a respective map; \\n translating said GIS datasets into a platform independent format, wherein said platform independent format differs from said source formats; \\n extracting metadata from at least a portion of said one or more map assets; \\n storing said metadata for subsequent access by one or more client platforms, wherein said metadata is stored in a first low latency non-persistent memory and said map assets are stored in a second persistent storage; and \\n providing said translated GIS datasets and their respective map assets in said platform independent format to one or more client platforms, \\n wherein said translating, extracting, and providin...   \n",
       "4996  What is claimed is: \\n     \\n       1. A display substrate comprising:\\n a plurality of gate lines extended along a first direction and on a base substrate; \\n a plurality of data lines extended in a second direction and crossing with the gate lines; \\n a plurality of transverse storage lines extended in the first direction and crossing with the data lines; \\n a plurality of longitudinal storage lines extended in the second direction and crossing with the transverse storage lines, \\n wherein at least a first of the transverse storage lines has an exposed portion partially exposing the first transverse storage line such that the first transverse storage line can be contacted at its exposed portion; and \\n a contact electrode covering and making contact with the exposed portion of the first transverse storage line, the contact electrode further making contact with a crossing-by first of the longitudinal storage lines. \\n \\n     \\n     \\n       2. The display substrate of  claim 1 , w...   \n",
       "4997  What is claimed is: \\n     \\n       1. A compound having formula (III) \\n       \\n         \\n           \\n           \\n               \\n               \\n           \\n         \\n         wherein each of X 9 , X 10  and X 11  is independently CR e R f , NR e , O or S, with the proviso that at least one of X 9 , X 10  and X 11  is CR e R f ; \\n         D is a bond, methylene or ethylene; \\n         each of R e  and R f  is independently H, C 1-6  alkyl, C 1-6  alkylacyl, C 3-8  cycloalkyl, C 6-10  aryl-C 1-6 -alkyl, or C 1-6  haloalkyl; and \\n         n is 1 or 2. \\n       \\n     \\n     \\n       2. A compound having one of the following structures: \\n       \\n         \\n           \\n           \\n               \\n               \\n           \\n         \\n         \\n           \\n           \\n               \\n               \\n           \\n         \\n         \\n           \\n           \\n               \\n               \\n           \\n         \\n         \\n           \\n           \\n         ...   \n",
       "4998  The invention claimed is: \\n     \\n       1. A method for displaying information in a vehicle cockpit, the method comprising:\\n controlling display of a display of a menu including a plurality of graphical objects on a display device positioned to be viewed by a driver of the vehicle via a control apparatus so that the display device is in a first or a second display mode; \\n measuring a speed of the vehicle, and \\n displaying, in a first speed range, the plurality of graphical objects in the first display mode and displaying, in the second speed range, the same plurality of graphical objects in the second display mode; wherein transition from one to the other display mode prompts the control apparatus to actuate the display device to display the plurality of objects presented in one display mode to move toward one another until the displayed plurality of objects combine in a central area, and subsequently move away from one another in a direction of presentation positions in the o...   \n",
       "4999  What is claimed is: \\n     \\n       1. A flow meter, comprising:\\n an orifice fitting body comprising a housing, a bore for passing a fluid stream, and a plurality of tap holes, wherein the housing is configured to house an orifice plate; \\n a first ultrasonic transducer disposed in a first of the plurality of tap holes; \\n wherein the first ultrasonic transducer is configured to generate and receive an acoustic signal. \\n \\n     \\n     \\n       2. The flow meter of  claim 1 , wherein the first ultrasonic transducer is configured to direct an acoustic signal across the bore. \\n     \\n     \\n       3. The flow meter of  claim 1 , configured such that the first ultrasonic transducer receives an acoustic signal that is reflected off of an inner wall of the bore. \\n     \\n     \\n       4. The flow meter of  claim 1 , wherein the acoustic signal generated by the first ultrasonic transducer is at a frequency equal to or greater than 20 KHz. \\n     \\n     \\n       5. The flow meter of  cl...   \n",
       "\n",
       "      quality_rank  \n",
       "0                0  \n",
       "1                0  \n",
       "2                1  \n",
       "3                1  \n",
       "4                0  \n",
       "...            ...  \n",
       "4995             1  \n",
       "4996             1  \n",
       "4997             1  \n",
       "4998             1  \n",
       "4999             1  \n",
       "\n",
       "[5000 rows x 2 columns]"
      ]
     },
     "execution_count": 3,
     "metadata": {},
     "output_type": "execute_result"
    }
   ],
   "source": [
    "df = df_merge_quality[['claims_text', 'quality_rank']]\n",
    "df"
   ]
  },
  {
   "cell_type": "code",
   "execution_count": 4,
   "metadata": {},
   "outputs": [
    {
     "name": "stderr",
     "output_type": "stream",
     "text": [
      "/home/lin_menghsien/anaconda3/lib/python3.7/site-packages/ipykernel_launcher.py:1: SettingWithCopyWarning: \n",
      "A value is trying to be set on a copy of a slice from a DataFrame.\n",
      "Try using .loc[row_indexer,col_indexer] = value instead\n",
      "\n",
      "See the caveats in the documentation: https://pandas.pydata.org/pandas-docs/stable/user_guide/indexing.html#returning-a-view-versus-a-copy\n",
      "  \"\"\"Entry point for launching an IPython kernel.\n"
     ]
    }
   ],
   "source": [
    "df['claims_text'] = df['claims_text'].apply(str)"
   ]
  },
  {
   "cell_type": "code",
   "execution_count": 5,
   "metadata": {},
   "outputs": [
    {
     "data": {
      "text/plain": [
       "claims_text     0\n",
       "quality_rank    0\n",
       "dtype: int64"
      ]
     },
     "execution_count": 5,
     "metadata": {},
     "output_type": "execute_result"
    }
   ],
   "source": [
    "df.apply(lambda x: sum(x.isnull()), axis=0)"
   ]
  },
  {
   "cell_type": "code",
   "execution_count": 6,
   "metadata": {},
   "outputs": [],
   "source": [
    "# Functions for constructing BERT Embeddings: input_ids, input_masks, input_segments and Inputs\n",
    "MAX_SEQ_LEN=512 # max sequence length\n",
    "\n",
    "def get_masks(tokens):\n",
    "    \"\"\"Masks: 1 for real tokens and 0 for paddings\"\"\"\n",
    "    return [1]*len(tokens) + [0] * (MAX_SEQ_LEN - len(tokens))\n",
    " \n",
    "def get_segments(tokens):\n",
    "    \"\"\"Segments: 0 for the first sequence, 1 for the second\"\"\"  \n",
    "    segments = []\n",
    "    current_segment_id = 0\n",
    "    for token in tokens:\n",
    "        segments.append(current_segment_id)\n",
    "        if token == \"[SEP]\":\n",
    "            current_segment_id = 1\n",
    "    return segments + [0] * (MAX_SEQ_LEN - len(tokens))\n",
    "\n",
    "def get_ids(tokens, tokenizer):\n",
    "    \"\"\"Token ids from Tokenizer vocab\"\"\"\n",
    "    token_ids = tokenizer.convert_tokens_to_ids(tokens,)\n",
    "    input_ids = token_ids + [0] * (MAX_SEQ_LEN - len(token_ids))\n",
    "    return input_ids\n",
    "\n",
    "def create_single_input(sentence, tokenizer, max_len):\n",
    "    \"\"\"Create an input from a sentence\"\"\"\n",
    "    stokens = tokenizer.tokenize(sentence)\n",
    "    stokens = stokens[-max_len:] # last n words\n",
    "    stokens = [\"[CLS]\"] + stokens + [\"[SEP]\"]\n",
    " \n",
    "    ids = get_ids(stokens, tokenizer)\n",
    "    masks = get_masks(stokens)\n",
    "    segments = get_segments(stokens)\n",
    "\n",
    "    return ids, masks, segments\n",
    " \n",
    "def convert_sentences_to_features(sentences, tokenizer):\n",
    "    \"\"\"Convert sentences to features: input_ids, input_masks and input_segments\"\"\"\n",
    "    input_ids, input_masks, input_segments = [], [], []\n",
    " \n",
    "    for sentence in tqdm(sentences,position=0, leave=True):\n",
    "      ids,masks,segments=create_single_input(sentence,tokenizer,MAX_SEQ_LEN-2)\n",
    "      assert len(ids) == MAX_SEQ_LEN\n",
    "      assert len(masks) == MAX_SEQ_LEN\n",
    "      assert len(segments) == MAX_SEQ_LEN\n",
    "      input_ids.append(ids)\n",
    "      input_masks.append(masks)\n",
    "      input_segments.append(segments)\n",
    "\n",
    "    return [np.asarray(input_ids, dtype=np.int32), \n",
    "          np.asarray(input_masks, dtype=np.int32), \n",
    "          np.asarray(input_segments, dtype=np.int32)]\n",
    "\n",
    "def create_tonkenizer(bert_layer):\n",
    "    \"\"\"Instantiate Tokenizer with vocab\"\"\"\n",
    "    vocab_file=bert_layer.resolved_object.vocab_file.asset_path.numpy()\n",
    "    do_lower_case=bert_layer.resolved_object.do_lower_case.numpy() \n",
    "    tokenizer=bert.bert_tokenization.FullTokenizer(vocab_file,do_lower_case)\n",
    "    return tokenizer"
   ]
  },
  {
   "cell_type": "code",
   "execution_count": 7,
   "metadata": {},
   "outputs": [
    {
     "name": "stdout",
     "output_type": "stream",
     "text": [
      "Model: \"model\"\n",
      "__________________________________________________________________________________________________\n",
      "Layer (type)                    Output Shape         Param #     Connected to                     \n",
      "==================================================================================================\n",
      "input_ids (InputLayer)          [(None, 512)]        0                                            \n",
      "__________________________________________________________________________________________________\n",
      "input_masks (InputLayer)        [(None, 512)]        0                                            \n",
      "__________________________________________________________________________________________________\n",
      "segment_ids (InputLayer)        [(None, 512)]        0                                            \n",
      "__________________________________________________________________________________________________\n",
      "keras_layer (KerasLayer)        [(None, 768), (None, 109482241   input_ids[0][0]                  \n",
      "                                                                 input_masks[0][0]                \n",
      "                                                                 segment_ids[0][0]                \n",
      "__________________________________________________________________________________________________\n",
      "dense (Dense)                   (None, 768)          590592      keras_layer[0][0]                \n",
      "__________________________________________________________________________________________________\n",
      "dropout (Dropout)               (None, 768)          0           dense[0][0]                      \n",
      "__________________________________________________________________________________________________\n",
      "dense_1 (Dense)                 (None, 2)            1538        dropout[0][0]                    \n",
      "==================================================================================================\n",
      "Total params: 110,074,371\n",
      "Trainable params: 110,074,370\n",
      "Non-trainable params: 1\n",
      "__________________________________________________________________________________________________\n"
     ]
    }
   ],
   "source": [
    "def bert_model(callable_object):\n",
    "    # Load the pre-trained BERT base model\n",
    "    bert_layer = hub.KerasLayer(handle=callable_object, trainable=True)  \n",
    "   \n",
    "    # BERT layer three inputs: ids, masks and segments\n",
    "    input_ids = Input(shape=(MAX_SEQ_LEN,), dtype=tf.int32, name=\"input_ids\")           \n",
    "    input_masks = Input(shape=(MAX_SEQ_LEN,), dtype=tf.int32, name=\"input_masks\")       \n",
    "    input_segments = Input(shape=(MAX_SEQ_LEN,), dtype=tf.int32, name=\"segment_ids\")\n",
    "    \n",
    "    inputs = [input_ids, input_masks, input_segments] # BERT inputs\n",
    "    pooled_output, sequence_output = bert_layer(inputs) # BERT outputs\n",
    "    \n",
    "    # Add a hidden layer\n",
    "    x = Dense(units=768, activation='relu')(pooled_output)\n",
    "    x = Dropout(0.1)(x)\n",
    " \n",
    "    # Add output layer\n",
    "    outputs = Dense(2, activation=\"sigmoid\")(x)\n",
    "\n",
    "    # Construct a new model\n",
    "    model = Model(inputs=inputs, outputs=outputs)\n",
    "    return model\n",
    "\n",
    "model = bert_model(\"https://tfhub.dev/tensorflow/bert_en_uncased_L-12_H-768_A-12/1\")\n",
    "model.summary()"
   ]
  },
  {
   "cell_type": "code",
   "execution_count": 8,
   "metadata": {},
   "outputs": [
    {
     "name": "stderr",
     "output_type": "stream",
     "text": [
      "/home/lin_menghsien/anaconda3/lib/python3.7/site-packages/ipykernel_launcher.py:1: SettingWithCopyWarning: \n",
      "A value is trying to be set on a copy of a slice from a DataFrame.\n",
      "Try using .loc[row_indexer,col_indexer] = value instead\n",
      "\n",
      "See the caveats in the documentation: https://pandas.pydata.org/pandas-docs/stable/user_guide/indexing.html#returning-a-view-versus-a-copy\n",
      "  \"\"\"Entry point for launching an IPython kernel.\n"
     ]
    }
   ],
   "source": [
    "df['quality_rank'] = df['quality_rank'].astype(int)"
   ]
  },
  {
   "cell_type": "code",
   "execution_count": 9,
   "metadata": {},
   "outputs": [
    {
     "name": "stderr",
     "output_type": "stream",
     "text": [
      "100%|██████████| 4000/4000 [01:07<00:00, 59.22it/s]\n",
      "100%|██████████| 1000/1000 [00:17<00:00, 58.16it/s]\n"
     ]
    }
   ],
   "source": [
    "# Create examples for training and testing\n",
    "# df = df.sample(frac=1) # Shuffle the dataset  # already shuffle in the csv file\n",
    "tokenizer = create_tonkenizer(model.layers[3])\n",
    "X_train = convert_sentences_to_features(df['claims_text'][:4000], tokenizer)\n",
    "X_test = convert_sentences_to_features(df['claims_text'][4000:], tokenizer)\n",
    "\n",
    "\n",
    "# for binary classification, since in the loss function I use binary_crossentropy, looks like prefer this single array\n",
    "y_train = to_categorical(df['quality_rank'][:4000].values)\n",
    "y_test =  to_categorical(df['quality_rank'][4000:].values)\n",
    "\n",
    "\n"
   ]
  },
  {
   "cell_type": "code",
   "execution_count": 10,
   "metadata": {},
   "outputs": [
    {
     "data": {
      "text/plain": [
       "(array([0, 1]), array([2397, 1603]))"
      ]
     },
     "execution_count": 10,
     "metadata": {},
     "output_type": "execute_result"
    }
   ],
   "source": [
    "# distribution of label value in train\n",
    "np.unique([np.argmax(i) for i in y_train], return_counts=True)"
   ]
  },
  {
   "cell_type": "code",
   "execution_count": 11,
   "metadata": {
    "scrolled": true
   },
   "outputs": [
    {
     "data": {
      "text/plain": [
       "(array([0, 1]), array([595, 405]))"
      ]
     },
     "execution_count": 11,
     "metadata": {},
     "output_type": "execute_result"
    }
   ],
   "source": [
    "# distribution of label value in test\n",
    "np.unique([np.argmax(i) for i in y_test], return_counts=True)"
   ]
  },
  {
   "cell_type": "code",
   "execution_count": 12,
   "metadata": {},
   "outputs": [
    {
     "name": "stdout",
     "output_type": "stream",
     "text": [
      "Latest checkpoint restored!!\n"
     ]
    }
   ],
   "source": [
    "# setup checkpoint\n",
    "\n",
    "checkpoint_path = \"ckpt_bert_fine_tune_last_n_words/\"\n",
    "\n",
    "ckpt = tf.train.Checkpoint(model = model) # https://www.tensorflow.org/api_docs/python/tf/train/Checkpoint\n",
    "\n",
    "ckpt_manager = tf.train.CheckpointManager(ckpt, checkpoint_path, max_to_keep=2)\n",
    "\n",
    "if ckpt_manager.latest_checkpoint:\n",
    "    ckpt.restore(ckpt_manager.latest_checkpoint)\n",
    "    print(\"Latest checkpoint restored!!\")"
   ]
  },
  {
   "cell_type": "code",
   "execution_count": 13,
   "metadata": {},
   "outputs": [],
   "source": [
    "class MyCustomCallback(tf.keras.callbacks.Callback):\n",
    "\n",
    "    def on_epoch_end(self, epoch, logs=None):\n",
    "        ckpt_manager.save()\n",
    "        print(\"Checkpoint saved at {}.\".format(checkpoint_path))"
   ]
  },
  {
   "cell_type": "code",
   "execution_count": null,
   "metadata": {
    "scrolled": true
   },
   "outputs": [
    {
     "name": "stdout",
     "output_type": "stream",
     "text": [
      "Epoch 1/4\n",
      "400/400 [==============================] - ETA: 0s - loss: 0.6370 - accuracy: 0.6467 Checkpoint saved at ckpt_bert_fine_tune_last_n_words/.\n",
      "400/400 [==============================] - 7852s 20s/step - loss: 0.6370 - accuracy: 0.6467 - val_loss: 0.5847 - val_accuracy: 0.6890\n",
      "Epoch 2/4\n",
      "400/400 [==============================] - ETA: 0s - loss: 0.5908 - accuracy: 0.6892 Checkpoint saved at ckpt_bert_fine_tune_last_n_words/.\n",
      "400/400 [==============================] - 9351s 23s/step - loss: 0.5908 - accuracy: 0.6892 - val_loss: 0.6109 - val_accuracy: 0.6890\n",
      "Epoch 3/4\n",
      "180/400 [============>.................] - ETA: 1:18:14 - loss: 0.5104 - accuracy: 0.7589"
     ]
    }
   ],
   "source": [
    "# Train the model\n",
    "BATCH_SIZE = 10\n",
    "EPOCHS = 4\n",
    "\n",
    "# Use Adam optimizer to minimize the categorical_crossentropy loss\n",
    "opt = Adam(learning_rate=2e-5)\n",
    "model.compile(optimizer=opt, \n",
    "              loss='binary_crossentropy', \n",
    "              metrics=['accuracy'])\n",
    "\n",
    "# Fit the data to the model\n",
    "history = model.fit(X_train, y_train,\n",
    "                    validation_data=(X_test, y_test),\n",
    "                    epochs=EPOCHS,\n",
    "                    batch_size=BATCH_SIZE,\n",
    "                    verbose = 1,\n",
    "                    callbacks=[MyCustomCallback()])\n"
   ]
  },
  {
   "cell_type": "code",
   "execution_count": 14,
   "metadata": {},
   "outputs": [
    {
     "name": "stdout",
     "output_type": "stream",
     "text": [
      "Epoch 1/2\n",
      "400/400 [==============================] - ETA: 0s - loss: 0.5214 - accuracy: 0.7477 Checkpoint saved at ckpt_bert_fine_tune_last_n_words/.\n",
      "400/400 [==============================] - 5427s 14s/step - loss: 0.5214 - accuracy: 0.7477 - val_loss: 0.6674 - val_accuracy: 0.6540\n",
      "Epoch 2/2\n",
      "400/400 [==============================] - ETA: 0s - loss: 0.3776 - accuracy: 0.8395 Checkpoint saved at ckpt_bert_fine_tune_last_n_words/.\n",
      "400/400 [==============================] - 5329s 13s/step - loss: 0.3776 - accuracy: 0.8395 - val_loss: 0.7390 - val_accuracy: 0.6510\n"
     ]
    }
   ],
   "source": [
    "# disconnected, re-start training from epoch = 3\n",
    "\n",
    "BATCH_SIZE = 10\n",
    "EPOCHS = 2\n",
    "\n",
    "\n",
    "# Use Adam optimizer to minimize the categorical_crossentropy loss\n",
    "opt = Adam(learning_rate=2e-5)\n",
    "model.compile(optimizer=opt, \n",
    "              loss='binary_crossentropy', \n",
    "              metrics=['accuracy'])\n",
    "\n",
    "# Fit the data to the model\n",
    "history = model.fit(X_train, y_train,\n",
    "                    validation_data=(X_test, y_test),\n",
    "                    epochs=EPOCHS,\n",
    "                    batch_size=BATCH_SIZE,\n",
    "                    verbose = 1,\n",
    "                    callbacks=[MyCustomCallback()])\n"
   ]
  },
  {
   "cell_type": "code",
   "execution_count": 15,
   "metadata": {},
   "outputs": [
    {
     "data": {
      "text/plain": [
       "array([[0.7840179 , 0.21532494],\n",
       "       [0.43648085, 0.57667387],\n",
       "       [0.29131627, 0.72529626],\n",
       "       ...,\n",
       "       [0.6094679 , 0.4348665 ],\n",
       "       [0.03140494, 0.968728  ],\n",
       "       [0.2674314 , 0.7325458 ]], dtype=float32)"
      ]
     },
     "execution_count": 15,
     "metadata": {},
     "output_type": "execute_result"
    }
   ],
   "source": [
    "pred_test = model.predict(X_test)\n",
    "pred_test"
   ]
  },
  {
   "cell_type": "code",
   "execution_count": 16,
   "metadata": {},
   "outputs": [],
   "source": [
    "np.savetxt('Predict_Output/BERT_fine_tune_5yr_claims_dev_prob_last_n_words.csv', pred_test)"
   ]
  },
  {
   "cell_type": "code",
   "execution_count": 17,
   "metadata": {},
   "outputs": [],
   "source": [
    "predicted = [np.argmax(pred) for pred in \n",
    "             pred_test]"
   ]
  },
  {
   "cell_type": "code",
   "execution_count": 18,
   "metadata": {
    "scrolled": true
   },
   "outputs": [
    {
     "data": {
      "text/plain": [
       "array([0, 1, 0, 0, 0, 1, 1, 1, 1, 1, 0, 1, 0, 1, 1, 0, 0, 0, 0, 0, 1, 0,\n",
       "       1, 0, 0, 0, 1, 1, 0, 0, 0, 1, 0, 1, 0, 0, 1, 0, 1, 0, 1, 0, 1, 1,\n",
       "       1, 0, 0, 1, 0, 0, 0, 1, 0, 1, 1, 0, 0, 1, 0, 0, 0, 1, 1, 0, 1, 0,\n",
       "       0, 1, 0, 1, 0, 0, 0, 1, 0, 1, 1, 0, 0, 0, 1, 0, 1, 0, 0, 0, 1, 1,\n",
       "       0, 0, 0, 1, 0, 0, 1, 0, 0, 0, 1, 0, 0, 1, 0, 1, 1, 1, 1, 1, 0, 0,\n",
       "       0, 0, 0, 0, 1, 1, 0, 0, 1, 0, 0, 1, 1, 0, 1, 0, 0, 1, 1, 0, 0, 1,\n",
       "       0, 0, 0, 1, 0, 0, 1, 0, 0, 0, 0, 0, 0, 0, 1, 0, 0, 0, 0, 0, 0, 1,\n",
       "       0, 1, 0, 1, 1, 0, 0, 0, 1, 1, 1, 1, 0, 0, 0, 0, 1, 0, 0, 0, 1, 1,\n",
       "       1, 0, 0, 0, 0, 1, 0, 0, 0, 0, 0, 0, 0, 0, 1, 0, 1, 1, 0, 0, 0, 0,\n",
       "       0, 0, 0, 0, 1, 0, 0, 1, 0, 1, 0, 1, 0, 1, 0, 1, 0, 1, 1, 0, 0, 0,\n",
       "       1, 1, 0, 0, 0, 1, 1, 0, 1, 1, 1, 0, 1, 0, 0, 0, 1, 0, 0, 1, 0, 0,\n",
       "       0, 0, 0, 1, 1, 0, 0, 0, 0, 1, 1, 1, 1, 0, 0, 0, 1, 1, 1, 1, 1, 0,\n",
       "       0, 1, 0, 1, 0, 0, 1, 1, 0, 0, 1, 1, 1, 0, 0, 0, 1, 1, 0, 0, 1, 0,\n",
       "       0, 0, 1, 1, 0, 1, 0, 0, 1, 0, 0, 0, 0, 0, 0, 0, 1, 0, 0, 1, 0, 0,\n",
       "       1, 1, 0, 0, 0, 0, 0, 1, 1, 1, 0, 0, 0, 0, 1, 0, 1, 1, 0, 1, 0, 1,\n",
       "       0, 1, 0, 0, 1, 0, 0, 1, 0, 0, 0, 0, 1, 1, 1, 0, 1, 1, 1, 0, 0, 0,\n",
       "       0, 0, 0, 0, 0, 0, 1, 0, 1, 0, 1, 0, 0, 0, 0, 0, 0, 0, 0, 0, 0, 1,\n",
       "       0, 0, 0, 1, 1, 1, 1, 0, 1, 0, 1, 0, 0, 1, 1, 0, 1, 0, 0, 0, 1, 0,\n",
       "       0, 0, 1, 1, 0, 1, 0, 1, 0, 1, 0, 0, 0, 0, 0, 0, 1, 1, 1, 1, 1, 0,\n",
       "       1, 1, 1, 0, 0, 1, 0, 0, 0, 0, 1, 0, 0, 0, 0, 1, 1, 1, 0, 0, 0, 0,\n",
       "       1, 1, 0, 1, 0, 0, 0, 1, 0, 1, 1, 0, 0, 0, 1, 0, 0, 0, 1, 1, 1, 0,\n",
       "       0, 0, 0, 1, 1, 1, 0, 1, 0, 0, 1, 1, 0, 1, 0, 0, 0, 0, 0, 1, 0, 0,\n",
       "       0, 1, 0, 1, 0, 1, 0, 0, 1, 0, 0, 0, 1, 0, 1, 0, 0, 1, 1, 0, 1, 0,\n",
       "       0, 0, 0, 0, 0, 1, 0, 0, 0, 0, 0, 0, 0, 0, 0, 0, 1, 1, 1, 0, 1, 0,\n",
       "       1, 1, 1, 1, 0, 0, 1, 0, 0, 0, 1, 1, 1, 0, 0, 1, 1, 1, 0, 1, 1, 0,\n",
       "       0, 0, 1, 0, 1, 0, 0, 1, 0, 1, 0, 0, 0, 0, 1, 1, 0, 0, 1, 1, 1, 0,\n",
       "       1, 0, 0, 0, 1, 0, 0, 0, 0, 0, 0, 0, 1, 1, 0, 0, 0, 1, 0, 0, 1, 0,\n",
       "       1, 0, 0, 1, 1, 1, 0, 0, 0, 0, 1, 0, 0, 0, 1, 0, 1, 1, 0, 0, 0, 1,\n",
       "       0, 0, 0, 0, 1, 0, 0, 0, 0, 0, 1, 0, 1, 1, 0, 0, 0, 0, 0, 0, 0, 1,\n",
       "       0, 1, 1, 0, 0, 0, 1, 1, 0, 1, 0, 0, 0, 0, 1, 0, 0, 1, 1, 0, 1, 0,\n",
       "       0, 0, 0, 0, 1, 0, 1, 1, 1, 1, 1, 1, 0, 1, 0, 1, 0, 1, 0, 1, 0, 1,\n",
       "       0, 1, 1, 0, 1, 0, 1, 0, 1, 1, 1, 1, 0, 0, 1, 1, 1, 0, 0, 0, 1, 0,\n",
       "       0, 0, 0, 0, 1, 1, 1, 0, 0, 1, 0, 1, 0, 1, 0, 0, 0, 0, 1, 0, 0, 0,\n",
       "       1, 0, 0, 0, 0, 0, 0, 0, 0, 1, 1, 0, 1, 0, 0, 1, 1, 1, 0, 1, 1, 0,\n",
       "       1, 1, 0, 1, 0, 0, 0, 1, 0, 1, 1, 0, 0, 1, 1, 1, 1, 0, 0, 0, 0, 0,\n",
       "       0, 1, 0, 0, 0, 1, 0, 0, 1, 1, 0, 0, 1, 1, 1, 1, 1, 1, 0, 0, 1, 0,\n",
       "       0, 1, 1, 0, 0, 1, 0, 0, 0, 0, 1, 1, 0, 0, 1, 0, 1, 1, 1, 1, 0, 0,\n",
       "       1, 1, 1, 0, 1, 1, 1, 1, 0, 0, 0, 0, 0, 0, 0, 0, 0, 1, 1, 0, 1, 0,\n",
       "       1, 1, 1, 0, 0, 0, 1, 0, 0, 0, 0, 0, 0, 1, 1, 1, 0, 1, 0, 0, 0, 1,\n",
       "       1, 1, 0, 0, 0, 0, 1, 1, 1, 0, 0, 0, 1, 0, 1, 0, 0, 0, 1, 0, 1, 0,\n",
       "       0, 0, 0, 1, 0, 1, 1, 1, 0, 0, 0, 0, 0, 1, 0, 0, 0, 0, 0, 0, 1, 1,\n",
       "       1, 0, 1, 0, 1, 0, 1, 1, 0, 0, 0, 0, 0, 0, 1, 1, 0, 0, 1, 1, 1, 0,\n",
       "       1, 1, 0, 0, 0, 0, 1, 0, 1, 1, 0, 0, 1, 0, 0, 0, 1, 0, 0, 0, 1, 0,\n",
       "       0, 0, 0, 0, 1, 1, 1, 0, 0, 0, 0, 1, 1, 0, 1, 0, 1, 1, 0, 1, 0, 1,\n",
       "       1, 1, 1, 1, 0, 0, 1, 1, 0, 0, 1, 1, 0, 0, 0, 1, 0, 1, 0, 0, 0, 1,\n",
       "       0, 0, 0, 0, 1, 1, 1, 1, 1, 1])"
      ]
     },
     "execution_count": 18,
     "metadata": {},
     "output_type": "execute_result"
    }
   ],
   "source": [
    "y_test_binary = df['quality_rank'][4000:].values\n",
    "y_test_binary"
   ]
  },
  {
   "cell_type": "code",
   "execution_count": 19,
   "metadata": {},
   "outputs": [
    {
     "name": "stdout",
     "output_type": "stream",
     "text": [
      "Accuracy: 0.651\n",
      "Auc: 0.621\n",
      "Detail:\n",
      "              precision    recall  f1-score   support\n",
      "\n",
      "           0       0.68      0.78      0.73       595\n",
      "           1       0.59      0.46      0.52       405\n",
      "\n",
      "    accuracy                           0.65      1000\n",
      "   macro avg       0.63      0.62      0.62      1000\n",
      "weighted avg       0.64      0.65      0.64      1000\n",
      "\n"
     ]
    }
   ],
   "source": [
    "## Accuracy, Precision, Recall\n",
    "accuracy = metrics.accuracy_score(y_test_binary, predicted)\n",
    "auc = metrics.roc_auc_score(y_test_binary, predicted)  # predicted_prob), check doc, seems the second argument required to be shape (n_samples,) for binary case \n",
    "                            #multi_class=\"ovr\") # check documentation and seems \"ovr\" not good for only binary target class\n",
    "print(\"Accuracy:\",  round(accuracy,3))\n",
    "print(\"Auc:\", round(auc,3))\n",
    "print(\"Detail:\")\n",
    "print(metrics.classification_report(y_test_binary, predicted))\n",
    "\n",
    "# Accuracy output 0.627 => align with model performance result!"
   ]
  },
  {
   "cell_type": "code",
   "execution_count": null,
   "metadata": {},
   "outputs": [],
   "source": []
  },
  {
   "cell_type": "code",
   "execution_count": 12,
   "metadata": {},
   "outputs": [
    {
     "name": "stdout",
     "output_type": "stream",
     "text": [
      "Latest checkpoint restored!!\n"
     ]
    }
   ],
   "source": [
    "# let's restore the 2nd epoch\n",
    "\n",
    "checkpoint_path = \"ckpt_bert_fine_tune_last_n_words/\"\n",
    "\n",
    "ckpt = tf.train.Checkpoint(model = model) # https://www.tensorflow.org/api_docs/python/tf/train/Checkpoint\n",
    "\n",
    "ckpt_manager = tf.train.CheckpointManager(ckpt, checkpoint_path, max_to_keep=2)\n",
    "\n",
    "if ckpt_manager.latest_checkpoint:\n",
    "    ckpt.restore('ckpt_bert_fine_tune_last_n_words/ckpt-2')\n",
    "    print(\"Latest checkpoint restored!!\")"
   ]
  },
  {
   "cell_type": "code",
   "execution_count": 13,
   "metadata": {},
   "outputs": [
    {
     "data": {
      "text/plain": [
       "array([[0.6688505 , 0.34002274],\n",
       "       [0.49800253, 0.48948818],\n",
       "       [0.48060858, 0.51535887],\n",
       "       ...,\n",
       "       [0.38333338, 0.60166514],\n",
       "       [0.27293935, 0.6813065 ],\n",
       "       [0.57289016, 0.43524444]], dtype=float32)"
      ]
     },
     "execution_count": 13,
     "metadata": {},
     "output_type": "execute_result"
    }
   ],
   "source": [
    "pred_test = model.predict(X_test)\n",
    "pred_test"
   ]
  },
  {
   "cell_type": "code",
   "execution_count": 14,
   "metadata": {},
   "outputs": [],
   "source": [
    "np.savetxt('Predict_Output/BERT_fine_tune_5yr_claims_dev_prob_last_n_words.csv', pred_test)"
   ]
  },
  {
   "cell_type": "code",
   "execution_count": 15,
   "metadata": {},
   "outputs": [],
   "source": [
    "predicted = [np.argmax(pred) for pred in \n",
    "             pred_test]"
   ]
  },
  {
   "cell_type": "code",
   "execution_count": 16,
   "metadata": {
    "scrolled": true
   },
   "outputs": [],
   "source": [
    "y_test_binary = df['quality_rank'][4000:].values\n",
    "#y_test_binary"
   ]
  },
  {
   "cell_type": "code",
   "execution_count": 17,
   "metadata": {},
   "outputs": [
    {
     "name": "stdout",
     "output_type": "stream",
     "text": [
      "Accuracy: 0.689\n",
      "Auc: 0.666\n",
      "Detail:\n",
      "              precision    recall  f1-score   support\n",
      "\n",
      "           0       0.72      0.79      0.75       595\n",
      "           1       0.64      0.54      0.59       405\n",
      "\n",
      "    accuracy                           0.69      1000\n",
      "   macro avg       0.68      0.67      0.67      1000\n",
      "weighted avg       0.68      0.69      0.68      1000\n",
      "\n"
     ]
    }
   ],
   "source": [
    "## Accuracy, Precision, Recall\n",
    "accuracy = metrics.accuracy_score(y_test_binary, predicted)\n",
    "auc = metrics.roc_auc_score(y_test_binary, predicted)  # predicted_prob), check doc, seems the second argument required to be shape (n_samples,) for binary case \n",
    "                            #multi_class=\"ovr\") # check documentation and seems \"ovr\" not good for only binary target class\n",
    "print(\"Accuracy:\",  round(accuracy,3))\n",
    "print(\"Auc:\", round(auc,3))\n",
    "print(\"Detail:\")\n",
    "print(metrics.classification_report(y_test_binary, predicted))\n",
    "\n",
    "# Accuracy output 0.627 => align with model performance result!"
   ]
  },
  {
   "cell_type": "code",
   "execution_count": null,
   "metadata": {},
   "outputs": [],
   "source": []
  },
  {
   "cell_type": "code",
   "execution_count": null,
   "metadata": {},
   "outputs": [],
   "source": []
  }
 ],
 "metadata": {
  "kernelspec": {
   "display_name": "Python 3",
   "language": "python",
   "name": "python3"
  },
  "language_info": {
   "codemirror_mode": {
    "name": "ipython",
    "version": 3
   },
   "file_extension": ".py",
   "mimetype": "text/x-python",
   "name": "python",
   "nbconvert_exporter": "python",
   "pygments_lexer": "ipython3",
   "version": "3.7.6"
  }
 },
 "nbformat": 4,
 "nbformat_minor": 4
}
