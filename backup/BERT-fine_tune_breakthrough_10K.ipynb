{
 "cells": [
  {
   "cell_type": "code",
   "execution_count": 1,
   "metadata": {},
   "outputs": [
    {
     "name": "stdout",
     "output_type": "stream",
     "text": [
      "TensorFlow Version: 2.1.0\n",
      "Hub version:  0.8.0\n"
     ]
    }
   ],
   "source": [
    "# Import modules\n",
    "import pandas as pd\n",
    "import numpy as np\n",
    "import bert\n",
    "import tensorflow as tf\n",
    "import tensorflow_hub as hub\n",
    "from tensorflow.keras.utils import to_categorical\n",
    "from tensorflow.keras.models import  Model\n",
    "from tensorflow.keras.layers import Input, Dense, Dropout\n",
    "from tensorflow.keras.optimizers import Adam\n",
    "from tensorflow.keras.callbacks import ModelCheckpoint, TensorBoard\n",
    "from tqdm import tqdm\n",
    "import matplotlib.pyplot as plt\n",
    "\n",
    "print(\"TensorFlow Version:\",tf.__version__)\n",
    "print(\"Hub version: \",hub.__version__)\n",
    "pd.set_option('display.max_colwidth',1000)"
   ]
  },
  {
   "cell_type": "markdown",
   "metadata": {},
   "source": [
    "### Start here:"
   ]
  },
  {
   "cell_type": "code",
   "execution_count": 3,
   "metadata": {},
   "outputs": [],
   "source": [
    "df = pd.read_csv('df_10K.csv')"
   ]
  },
  {
   "cell_type": "code",
   "execution_count": 4,
   "metadata": {},
   "outputs": [
    {
     "data": {
      "text/plain": [
       "0.0    9000\n",
       "1.0    1000\n",
       "Name: breakthrough, dtype: int64"
      ]
     },
     "execution_count": 4,
     "metadata": {},
     "output_type": "execute_result"
    }
   ],
   "source": [
    "df['breakthrough'].value_counts()"
   ]
  },
  {
   "cell_type": "code",
   "execution_count": 11,
   "metadata": {},
   "outputs": [],
   "source": [
    "df = df[['text','breakthrough']]"
   ]
  },
  {
   "cell_type": "code",
   "execution_count": 12,
   "metadata": {},
   "outputs": [
    {
     "data": {
      "text/html": [
       "<div>\n",
       "<style scoped>\n",
       "    .dataframe tbody tr th:only-of-type {\n",
       "        vertical-align: middle;\n",
       "    }\n",
       "\n",
       "    .dataframe tbody tr th {\n",
       "        vertical-align: top;\n",
       "    }\n",
       "\n",
       "    .dataframe thead th {\n",
       "        text-align: right;\n",
       "    }\n",
       "</style>\n",
       "<table border=\"1\" class=\"dataframe\">\n",
       "  <thead>\n",
       "    <tr style=\"text-align: right;\">\n",
       "      <th></th>\n",
       "      <th>text</th>\n",
       "      <th>breakthrough</th>\n",
       "    </tr>\n",
       "  </thead>\n",
       "  <tbody>\n",
       "    <tr>\n",
       "      <th>0</th>\n",
       "      <td>Systems and/or methods for supporting communications at a reduced bandwidth with a full bandwidth network such as a long-term evolution (LTE) network may be disclosed. For example, inband assignments such as downlink assignments and/or uplink grants may be provided and/or received and transmissions may be monitored and/or decoded based on the inband assignment. Additionally, information (e.g. a definition or configuration) associated with an ePDCCH may be provided and/or received and ePD -CCH resources may be monitored and/or decoded based on such information. An indication for support of a reduced bandwidth by the full bandwidth network may also be provided and/or received and control channels in the reduced or narrow bandwidth may be monitored and/or decoded based on the indication. A PRACH preamble and/or a multi-type sub frame definition may also be provided and/or used for support of such a reduced bandwidth.</td>\n",
       "      <td>1.0</td>\n",
       "    </tr>\n",
       "    <tr>\n",
       "      <th>1</th>\n",
       "      <td>A sealing system configured to receive a container and seal the container with a lidding. The system comprises an in-feeder that is configured to receive a plurality of containers and transport a batch of containers that are selected from the plurality of containers; and a modular seal assembly that is configured to seal the batch of containers with a lidding, wherein the modular seal assembly comprises: a docking station that is configured to hold a plurality of sealing modules; and a sealing module that is configured to be removable from the docking station without removing any other one of the plurality of sealing modules.</td>\n",
       "      <td>1.0</td>\n",
       "    </tr>\n",
       "    <tr>\n",
       "      <th>2</th>\n",
       "      <td>The present invention relates to an optical guide, its use in a lighting and / or signaling device equipping a motor vehicle, in particular a motor vehicle and its manufacturing process. It relates more particularly to an optical guide comprising a translucent polymer comprising nanoparticles, said nanoparticles permitting diffusion and / or emission of light.</td>\n",
       "      <td>1.0</td>\n",
       "    </tr>\n",
       "    <tr>\n",
       "      <th>3</th>\n",
       "      <td>A surgical stapler can comprise an anvil comprising a staple pocket formed in a tissue contacting surface. The staple pocket can comprise a midline or centerline, a first forming cup, and a second forming cup. The first forming cup can comprise a first interior sidewall comprising a first vertical portion which is substantially perpendicular to the tissue contacting surface. The second forming cup can comprise a second interior sidewall comprising a second vertical portion which is substantially perpendicular to the tissue contacting surface. The first vertical portion and the second vertical portion can extend through the centerline, wherein the first interior sidewall and the second interior sidewall can comprise a trap for deforming a first staple leg of a staple to a first side of the centerline and for deforming a second staple leg of the staple to a second side of the centerline.</td>\n",
       "      <td>1.0</td>\n",
       "    </tr>\n",
       "    <tr>\n",
       "      <th>4</th>\n",
       "      <td>The present invention provides a refrigerator, comprising: a cabinet that defines a first storage compartment; a first door that is opened or closed to allow or prevent access to an interior of the first storage compartment; a storing device coupled to the first door to define a second storage compartment, wherein, when the first door is closed, the second storage compartment is disposed in the first storage compartment; and a second door connected to the first door and configured to be opened or closed to allow or prevent access to an interior of the second storage compartment, wherein the interior of the second storage compartment is accessible when the first door is closed and the second door is opened, wherein the first door includes a plurality of first coupling parts to which the storing device is coupled, wherein the storing device includes: a frame; and a basket installed on the frame, wherein each of the frame and the basket includes at least one second coupling part inter...</td>\n",
       "      <td>1.0</td>\n",
       "    </tr>\n",
       "  </tbody>\n",
       "</table>\n",
       "</div>"
      ],
      "text/plain": [
       "                                                                                                                                                                                                                                                                                                                                                                                                                                                                                                                                                                                                                                                                                                                                                                                                                                                                                                                                                                                                                                      text  \\\n",
       "0                                                                          Systems and/or methods for supporting communications at a reduced bandwidth with a full bandwidth network such as a long-term evolution (LTE) network may be disclosed. For example, inband assignments such as downlink assignments and/or uplink grants may be provided and/or received and transmissions may be monitored and/or decoded based on the inband assignment. Additionally, information (e.g. a definition or configuration) associated with an ePDCCH may be provided and/or received and ePD -CCH resources may be monitored and/or decoded based on such information. An indication for support of a reduced bandwidth by the full bandwidth network may also be provided and/or received and control channels in the reduced or narrow bandwidth may be monitored and/or decoded based on the indication. A PRACH preamble and/or a multi-type sub frame definition may also be provided and/or used for support of such a reduced bandwidth.   \n",
       "1                                                                                                                                                                                                                                                                                                                                                                                A sealing system configured to receive a container and seal the container with a lidding. The system comprises an in-feeder that is configured to receive a plurality of containers and transport a batch of containers that are selected from the plurality of containers; and a modular seal assembly that is configured to seal the batch of containers with a lidding, wherein the modular seal assembly comprises: a docking station that is configured to hold a plurality of sealing modules; and a sealing module that is configured to be removable from the docking station without removing any other one of the plurality of sealing modules.   \n",
       "2                                                                                                                                                                                                                                                                                                                                                                                                                                                                                                                                                                                                                                                               The present invention relates to an optical guide, its use in a lighting and / or signaling device equipping a motor vehicle, in particular a motor vehicle and its manufacturing process. It relates more particularly to an optical guide comprising a translucent polymer comprising nanoparticles, said nanoparticles permitting diffusion and / or emission of light.   \n",
       "3                                                                                                       A surgical stapler can comprise an anvil comprising a staple pocket formed in a tissue contacting surface. The staple pocket can comprise a midline or centerline, a first forming cup, and a second forming cup. The first forming cup can comprise a first interior sidewall comprising a first vertical portion which is substantially perpendicular to the tissue contacting surface. The second forming cup can comprise a second interior sidewall comprising a second vertical portion which is substantially perpendicular to the tissue contacting surface. The first vertical portion and the second vertical portion can extend through the centerline, wherein the first interior sidewall and the second interior sidewall can comprise a trap for deforming a first staple leg of a staple to a first side of the centerline and for deforming a second staple leg of the staple to a second side of the centerline.   \n",
       "4  The present invention provides a refrigerator, comprising: a cabinet that defines a first storage compartment; a first door that is opened or closed to allow or prevent access to an interior of the first storage compartment; a storing device coupled to the first door to define a second storage compartment, wherein, when the first door is closed, the second storage compartment is disposed in the first storage compartment; and a second door connected to the first door and configured to be opened or closed to allow or prevent access to an interior of the second storage compartment, wherein the interior of the second storage compartment is accessible when the first door is closed and the second door is opened, wherein the first door includes a plurality of first coupling parts to which the storing device is coupled, wherein the storing device includes: a frame; and a basket installed on the frame, wherein each of the frame and the basket includes at least one second coupling part inter...   \n",
       "\n",
       "   breakthrough  \n",
       "0           1.0  \n",
       "1           1.0  \n",
       "2           1.0  \n",
       "3           1.0  \n",
       "4           1.0  "
      ]
     },
     "execution_count": 12,
     "metadata": {},
     "output_type": "execute_result"
    }
   ],
   "source": [
    "df.head(5)"
   ]
  },
  {
   "cell_type": "code",
   "execution_count": 13,
   "metadata": {},
   "outputs": [],
   "source": [
    "df['text'] = df['text'].apply(str)"
   ]
  },
  {
   "cell_type": "code",
   "execution_count": 14,
   "metadata": {},
   "outputs": [
    {
     "data": {
      "text/html": [
       "<div>\n",
       "<style scoped>\n",
       "    .dataframe tbody tr th:only-of-type {\n",
       "        vertical-align: middle;\n",
       "    }\n",
       "\n",
       "    .dataframe tbody tr th {\n",
       "        vertical-align: top;\n",
       "    }\n",
       "\n",
       "    .dataframe thead th {\n",
       "        text-align: right;\n",
       "    }\n",
       "</style>\n",
       "<table border=\"1\" class=\"dataframe\">\n",
       "  <thead>\n",
       "    <tr style=\"text-align: right;\">\n",
       "      <th></th>\n",
       "      <th>text</th>\n",
       "      <th>breakthrough</th>\n",
       "    </tr>\n",
       "  </thead>\n",
       "  <tbody>\n",
       "    <tr>\n",
       "      <th>0</th>\n",
       "      <td>Systems and/or methods for supporting communications at a reduced bandwidth with a full bandwidth network such as a long-term evolution (LTE) network may be disclosed. For example, inband assignments such as downlink assignments and/or uplink grants may be provided and/or received and transmissions may be monitored and/or decoded based on the inband assignment. Additionally, information (e.g. a definition or configuration) associated with an ePDCCH may be provided and/or received and ePD -CCH resources may be monitored and/or decoded based on such information. An indication for support of a reduced bandwidth by the full bandwidth network may also be provided and/or received and control channels in the reduced or narrow bandwidth may be monitored and/or decoded based on the indication. A PRACH preamble and/or a multi-type sub frame definition may also be provided and/or used for support of such a reduced bandwidth.</td>\n",
       "      <td>1</td>\n",
       "    </tr>\n",
       "    <tr>\n",
       "      <th>1</th>\n",
       "      <td>A sealing system configured to receive a container and seal the container with a lidding. The system comprises an in-feeder that is configured to receive a plurality of containers and transport a batch of containers that are selected from the plurality of containers; and a modular seal assembly that is configured to seal the batch of containers with a lidding, wherein the modular seal assembly comprises: a docking station that is configured to hold a plurality of sealing modules; and a sealing module that is configured to be removable from the docking station without removing any other one of the plurality of sealing modules.</td>\n",
       "      <td>1</td>\n",
       "    </tr>\n",
       "    <tr>\n",
       "      <th>2</th>\n",
       "      <td>The present invention relates to an optical guide, its use in a lighting and / or signaling device equipping a motor vehicle, in particular a motor vehicle and its manufacturing process. It relates more particularly to an optical guide comprising a translucent polymer comprising nanoparticles, said nanoparticles permitting diffusion and / or emission of light.</td>\n",
       "      <td>1</td>\n",
       "    </tr>\n",
       "    <tr>\n",
       "      <th>3</th>\n",
       "      <td>A surgical stapler can comprise an anvil comprising a staple pocket formed in a tissue contacting surface. The staple pocket can comprise a midline or centerline, a first forming cup, and a second forming cup. The first forming cup can comprise a first interior sidewall comprising a first vertical portion which is substantially perpendicular to the tissue contacting surface. The second forming cup can comprise a second interior sidewall comprising a second vertical portion which is substantially perpendicular to the tissue contacting surface. The first vertical portion and the second vertical portion can extend through the centerline, wherein the first interior sidewall and the second interior sidewall can comprise a trap for deforming a first staple leg of a staple to a first side of the centerline and for deforming a second staple leg of the staple to a second side of the centerline.</td>\n",
       "      <td>1</td>\n",
       "    </tr>\n",
       "    <tr>\n",
       "      <th>4</th>\n",
       "      <td>The present invention provides a refrigerator, comprising: a cabinet that defines a first storage compartment; a first door that is opened or closed to allow or prevent access to an interior of the first storage compartment; a storing device coupled to the first door to define a second storage compartment, wherein, when the first door is closed, the second storage compartment is disposed in the first storage compartment; and a second door connected to the first door and configured to be opened or closed to allow or prevent access to an interior of the second storage compartment, wherein the interior of the second storage compartment is accessible when the first door is closed and the second door is opened, wherein the first door includes a plurality of first coupling parts to which the storing device is coupled, wherein the storing device includes: a frame; and a basket installed on the frame, wherein each of the frame and the basket includes at least one second coupling part inter...</td>\n",
       "      <td>1</td>\n",
       "    </tr>\n",
       "    <tr>\n",
       "      <th>...</th>\n",
       "      <td>...</td>\n",
       "      <td>...</td>\n",
       "    </tr>\n",
       "    <tr>\n",
       "      <th>9995</th>\n",
       "      <td>The disclosure relates to a pump unit (10, 110) which comprises a pump, in particular a liquid ring pump (11, 11), and a connection unit (12, 112), the pump (11, 11) having a pump housing (12, 12) surrounding a first working space (15, 115), communicating via a first control disk (18,118) with a suction port (19,119) for a fluid to be conveyed and in which a first non-rotatably connected to a drive shaft (16,116) impeller (17,117) is arranged eccentrically, wherein the pump (11,111) releasably connected to the Connection unit (12,112) is connected and the connection unit has a suction nozzle (20,120) communicating with the suction port (19,119) of the pump (11,111), and wherein the connection unit (12,112) as a connection housing (13,113) is formed and the liquid ring pump (11,111) as plug-in unit detachably mounted in the connection housing (13,113) is mounted.</td>\n",
       "      <td>0</td>\n",
       "    </tr>\n",
       "    <tr>\n",
       "      <th>9996</th>\n",
       "      <td>The machine (1) for laying sliced food products (2) in containers (3), comprises: a first conveyor (4) able to convey slices (2) or groups of slices (2) along at least one advancement direction and provided with an end portion (40) from which the slices (2) are released; a second conveyor (5) able to convey containers (3) suitable for receiving one or more slices (2) from the end portion (40) of the first conveyor (4), the second conveyor (5) being placed below the first conveyor (4); and a positioning apparatus (45, 46, 47, 81, 82) for regulating the arrangement of the first and the second conveyor (4, 5) with respect to each other. \\n     The machine (1) further comprises a detection apparatus (6) able to determine the arrangement of the slices (2) or of the groups of slices (2) on the first conveyor (4), and a processing unit (7) connected to the positioning and detection apparatuses and configured to control the activation of the positioning apparatus according to detections ca...</td>\n",
       "      <td>0</td>\n",
       "    </tr>\n",
       "    <tr>\n",
       "      <th>9997</th>\n",
       "      <td>In a known method for the production of opaque quartz glass, a green body is produced from a finely divided, amorphous SiO  2  particles and coarse-particle SiO  2  embossing body-containing slip and this sintered by a sintering treatment to form a blank made of opaque quartz glass. The reinforcing bodies with a specific density D  K1  are embedded in a SiO  2  matrix with a specific glass density D  M.  In order to provide a rough crack-susceptible blank of opaque quartz glass, which has a homogeneous transmission even at low wall thicknesses, it is proposed according to the invention that sinterable reinforcing bodies be used whose specific density D  K0  before the sintering treatment is lower than the specific glass density D  M  , and which as a result of the sintering treatment reach the specific density D  K1  , which deviates from the specific glass density D  M  by less than 10%.</td>\n",
       "      <td>0</td>\n",
       "    </tr>\n",
       "    <tr>\n",
       "      <th>9998</th>\n",
       "      <td>The invention relates to a climate control system comprising: a climate control chamber (1) having a supply opening (2), which is designed to supply the climate control chamber (1) with a climate control medium provided by a climate control device (3); an assembly carrier (4), which forms a lateral boundary of the climate control chamber (1) and on which electronic devices are mounted, which are cooled by the climate control medium, which flows from the climate control chamber (1) through the assembly carrier (4); one or more chamber boundary elements (5), which bound the climate control chamber laterally and/or at the top; a pressure sensor (6) arranged inside the climate control chamber (1); and a control unit, which is connected to the pressure sensor (6) and which is designed to control supply properties of the climate control medium through the supply opening (2) according to a pressure difference between the climate control chamber (1) and a surrounding space (7) outside the ...</td>\n",
       "      <td>0</td>\n",
       "    </tr>\n",
       "    <tr>\n",
       "      <th>9999</th>\n",
       "      <td>Vector signaling codes providing guaranteed numbers of transitions per unit transmission interval are described, along with methods and systems for their generation and use. The described architecture may include multiple communications sub-systems, each having its own communications wire group or sub-channel, clock-embedded signaling code, pre- and post-processing stages to guarantee the desired code transition density, and global encoding and decoding stages to first distribute data elements among the sub-systems, and then to reconstitute the received data from its received sub-system elements.</td>\n",
       "      <td>0</td>\n",
       "    </tr>\n",
       "  </tbody>\n",
       "</table>\n",
       "<p>10000 rows × 2 columns</p>\n",
       "</div>"
      ],
      "text/plain": [
       "                                                                                                                                                                                                                                                                                                                                                                                                                                                                                                                                                                                                                                                                                                                                                                                                                                                                                                                                                                                                                                         text  \\\n",
       "0                                                                             Systems and/or methods for supporting communications at a reduced bandwidth with a full bandwidth network such as a long-term evolution (LTE) network may be disclosed. For example, inband assignments such as downlink assignments and/or uplink grants may be provided and/or received and transmissions may be monitored and/or decoded based on the inband assignment. Additionally, information (e.g. a definition or configuration) associated with an ePDCCH may be provided and/or received and ePD -CCH resources may be monitored and/or decoded based on such information. An indication for support of a reduced bandwidth by the full bandwidth network may also be provided and/or received and control channels in the reduced or narrow bandwidth may be monitored and/or decoded based on the indication. A PRACH preamble and/or a multi-type sub frame definition may also be provided and/or used for support of such a reduced bandwidth.   \n",
       "1                                                                                                                                                                                                                                                                                                                                                                                   A sealing system configured to receive a container and seal the container with a lidding. The system comprises an in-feeder that is configured to receive a plurality of containers and transport a batch of containers that are selected from the plurality of containers; and a modular seal assembly that is configured to seal the batch of containers with a lidding, wherein the modular seal assembly comprises: a docking station that is configured to hold a plurality of sealing modules; and a sealing module that is configured to be removable from the docking station without removing any other one of the plurality of sealing modules.   \n",
       "2                                                                                                                                                                                                                                                                                                                                                                                                                                                                                                                                                                                                                                                                  The present invention relates to an optical guide, its use in a lighting and / or signaling device equipping a motor vehicle, in particular a motor vehicle and its manufacturing process. It relates more particularly to an optical guide comprising a translucent polymer comprising nanoparticles, said nanoparticles permitting diffusion and / or emission of light.   \n",
       "3                                                                                                          A surgical stapler can comprise an anvil comprising a staple pocket formed in a tissue contacting surface. The staple pocket can comprise a midline or centerline, a first forming cup, and a second forming cup. The first forming cup can comprise a first interior sidewall comprising a first vertical portion which is substantially perpendicular to the tissue contacting surface. The second forming cup can comprise a second interior sidewall comprising a second vertical portion which is substantially perpendicular to the tissue contacting surface. The first vertical portion and the second vertical portion can extend through the centerline, wherein the first interior sidewall and the second interior sidewall can comprise a trap for deforming a first staple leg of a staple to a first side of the centerline and for deforming a second staple leg of the staple to a second side of the centerline.   \n",
       "4     The present invention provides a refrigerator, comprising: a cabinet that defines a first storage compartment; a first door that is opened or closed to allow or prevent access to an interior of the first storage compartment; a storing device coupled to the first door to define a second storage compartment, wherein, when the first door is closed, the second storage compartment is disposed in the first storage compartment; and a second door connected to the first door and configured to be opened or closed to allow or prevent access to an interior of the second storage compartment, wherein the interior of the second storage compartment is accessible when the first door is closed and the second door is opened, wherein the first door includes a plurality of first coupling parts to which the storing device is coupled, wherein the storing device includes: a frame; and a basket installed on the frame, wherein each of the frame and the basket includes at least one second coupling part inter...   \n",
       "...                                                                                                                                                                                                                                                                                                                                                                                                                                                                                                                                                                                                                                                                                                                                                                                                                                                                                                                                                                                                                                       ...   \n",
       "9995                                                                                                                               The disclosure relates to a pump unit (10, 110) which comprises a pump, in particular a liquid ring pump (11, 11), and a connection unit (12, 112), the pump (11, 11) having a pump housing (12, 12) surrounding a first working space (15, 115), communicating via a first control disk (18,118) with a suction port (19,119) for a fluid to be conveyed and in which a first non-rotatably connected to a drive shaft (16,116) impeller (17,117) is arranged eccentrically, wherein the pump (11,111) releasably connected to the Connection unit (12,112) is connected and the connection unit has a suction nozzle (20,120) communicating with the suction port (19,119) of the pump (11,111), and wherein the connection unit (12,112) as a connection housing (13,113) is formed and the liquid ring pump (11,111) as plug-in unit detachably mounted in the connection housing (13,113) is mounted.   \n",
       "9996  The machine (1) for laying sliced food products (2) in containers (3), comprises: a first conveyor (4) able to convey slices (2) or groups of slices (2) along at least one advancement direction and provided with an end portion (40) from which the slices (2) are released; a second conveyor (5) able to convey containers (3) suitable for receiving one or more slices (2) from the end portion (40) of the first conveyor (4), the second conveyor (5) being placed below the first conveyor (4); and a positioning apparatus (45, 46, 47, 81, 82) for regulating the arrangement of the first and the second conveyor (4, 5) with respect to each other. \\n     The machine (1) further comprises a detection apparatus (6) able to determine the arrangement of the slices (2) or of the groups of slices (2) on the first conveyor (4), and a processing unit (7) connected to the positioning and detection apparatuses and configured to control the activation of the positioning apparatus according to detections ca...   \n",
       "9997                                                                                                    In a known method for the production of opaque quartz glass, a green body is produced from a finely divided, amorphous SiO  2  particles and coarse-particle SiO  2  embossing body-containing slip and this sintered by a sintering treatment to form a blank made of opaque quartz glass. The reinforcing bodies with a specific density D  K1  are embedded in a SiO  2  matrix with a specific glass density D  M.  In order to provide a rough crack-susceptible blank of opaque quartz glass, which has a homogeneous transmission even at low wall thicknesses, it is proposed according to the invention that sinterable reinforcing bodies be used whose specific density D  K0  before the sintering treatment is lower than the specific glass density D  M  , and which as a result of the sintering treatment reach the specific density D  K1  , which deviates from the specific glass density D  M  by less than 10%.   \n",
       "9998  The invention relates to a climate control system comprising: a climate control chamber (1) having a supply opening (2), which is designed to supply the climate control chamber (1) with a climate control medium provided by a climate control device (3); an assembly carrier (4), which forms a lateral boundary of the climate control chamber (1) and on which electronic devices are mounted, which are cooled by the climate control medium, which flows from the climate control chamber (1) through the assembly carrier (4); one or more chamber boundary elements (5), which bound the climate control chamber laterally and/or at the top; a pressure sensor (6) arranged inside the climate control chamber (1); and a control unit, which is connected to the pressure sensor (6) and which is designed to control supply properties of the climate control medium through the supply opening (2) according to a pressure difference between the climate control chamber (1) and a surrounding space (7) outside the ...   \n",
       "9999                                                                                                                                                                                                                                                                                                                                                                                                              Vector signaling codes providing guaranteed numbers of transitions per unit transmission interval are described, along with methods and systems for their generation and use. The described architecture may include multiple communications sub-systems, each having its own communications wire group or sub-channel, clock-embedded signaling code, pre- and post-processing stages to guarantee the desired code transition density, and global encoding and decoding stages to first distribute data elements among the sub-systems, and then to reconstitute the received data from its received sub-system elements.   \n",
       "\n",
       "      breakthrough  \n",
       "0                1  \n",
       "1                1  \n",
       "2                1  \n",
       "3                1  \n",
       "4                1  \n",
       "...            ...  \n",
       "9995             0  \n",
       "9996             0  \n",
       "9997             0  \n",
       "9998             0  \n",
       "9999             0  \n",
       "\n",
       "[10000 rows x 2 columns]"
      ]
     },
     "execution_count": 14,
     "metadata": {},
     "output_type": "execute_result"
    }
   ],
   "source": [
    "df['breakthrough'] = df['breakthrough'].astype(int)\n",
    "df"
   ]
  },
  {
   "cell_type": "code",
   "execution_count": 15,
   "metadata": {},
   "outputs": [
    {
     "data": {
      "text/plain": [
       "(10000, 2)"
      ]
     },
     "execution_count": 15,
     "metadata": {},
     "output_type": "execute_result"
    }
   ],
   "source": [
    "df.shape"
   ]
  },
  {
   "cell_type": "code",
   "execution_count": 16,
   "metadata": {},
   "outputs": [
    {
     "data": {
      "text/plain": [
       "text            0\n",
       "breakthrough    0\n",
       "dtype: int64"
      ]
     },
     "execution_count": 16,
     "metadata": {},
     "output_type": "execute_result"
    }
   ],
   "source": [
    "df.apply(lambda x: sum(x.isnull()), axis=0)"
   ]
  },
  {
   "cell_type": "code",
   "execution_count": 19,
   "metadata": {},
   "outputs": [],
   "source": [
    "# Functions for constructing BERT Embeddings: input_ids, input_masks, input_segments and Inputs\n",
    "MAX_SEQ_LEN=500 # max sequence length\n",
    "\n",
    "def get_masks(tokens):\n",
    "    \"\"\"Masks: 1 for real tokens and 0 for paddings\"\"\"\n",
    "    return [1]*len(tokens) + [0] * (MAX_SEQ_LEN - len(tokens))\n",
    " \n",
    "def get_segments(tokens):\n",
    "    \"\"\"Segments: 0 for the first sequence, 1 for the second\"\"\"  \n",
    "    segments = []\n",
    "    current_segment_id = 0\n",
    "    for token in tokens:\n",
    "        segments.append(current_segment_id)\n",
    "        if token == \"[SEP]\":\n",
    "            current_segment_id = 1\n",
    "    return segments + [0] * (MAX_SEQ_LEN - len(tokens))\n",
    "\n",
    "def get_ids(tokens, tokenizer):\n",
    "    \"\"\"Token ids from Tokenizer vocab\"\"\"\n",
    "    token_ids = tokenizer.convert_tokens_to_ids(tokens,)\n",
    "    input_ids = token_ids + [0] * (MAX_SEQ_LEN - len(token_ids))\n",
    "    return input_ids\n",
    "\n",
    "def create_single_input(sentence, tokenizer, max_len):\n",
    "    \"\"\"Create an input from a sentence\"\"\"\n",
    "    stokens = tokenizer.tokenize(sentence)\n",
    "    stokens = stokens[:max_len]\n",
    "    stokens = [\"[CLS]\"] + stokens + [\"[SEP]\"]\n",
    " \n",
    "    ids = get_ids(stokens, tokenizer)\n",
    "    masks = get_masks(stokens)\n",
    "    segments = get_segments(stokens)\n",
    "\n",
    "    return ids, masks, segments\n",
    " \n",
    "def convert_sentences_to_features(sentences, tokenizer):\n",
    "    \"\"\"Convert sentences to features: input_ids, input_masks and input_segments\"\"\"\n",
    "    input_ids, input_masks, input_segments = [], [], []\n",
    " \n",
    "    for sentence in tqdm(sentences,position=0, leave=True):\n",
    "      ids,masks,segments=create_single_input(sentence,tokenizer,MAX_SEQ_LEN-2)\n",
    "      assert len(ids) == MAX_SEQ_LEN\n",
    "      assert len(masks) == MAX_SEQ_LEN\n",
    "      assert len(segments) == MAX_SEQ_LEN\n",
    "      input_ids.append(ids)\n",
    "      input_masks.append(masks)\n",
    "      input_segments.append(segments)\n",
    "\n",
    "    return [np.asarray(input_ids, dtype=np.int32), \n",
    "          np.asarray(input_masks, dtype=np.int32), \n",
    "          np.asarray(input_segments, dtype=np.int32)]\n",
    "\n",
    "def create_tonkenizer(bert_layer):\n",
    "    \"\"\"Instantiate Tokenizer with vocab\"\"\"\n",
    "    vocab_file=bert_layer.resolved_object.vocab_file.asset_path.numpy()\n",
    "    do_lower_case=bert_layer.resolved_object.do_lower_case.numpy() \n",
    "    tokenizer=bert.bert_tokenization.FullTokenizer(vocab_file,do_lower_case)\n",
    "    return tokenizer"
   ]
  },
  {
   "cell_type": "code",
   "execution_count": 20,
   "metadata": {},
   "outputs": [
    {
     "name": "stdout",
     "output_type": "stream",
     "text": [
      "Model: \"model\"\n",
      "__________________________________________________________________________________________________\n",
      "Layer (type)                    Output Shape         Param #     Connected to                     \n",
      "==================================================================================================\n",
      "input_ids (InputLayer)          [(None, 500)]        0                                            \n",
      "__________________________________________________________________________________________________\n",
      "input_masks (InputLayer)        [(None, 500)]        0                                            \n",
      "__________________________________________________________________________________________________\n",
      "segment_ids (InputLayer)        [(None, 500)]        0                                            \n",
      "__________________________________________________________________________________________________\n",
      "keras_layer (KerasLayer)        [(None, 768), (None, 109482241   input_ids[0][0]                  \n",
      "                                                                 input_masks[0][0]                \n",
      "                                                                 segment_ids[0][0]                \n",
      "__________________________________________________________________________________________________\n",
      "dense (Dense)                   (None, 768)          590592      keras_layer[0][0]                \n",
      "__________________________________________________________________________________________________\n",
      "dropout (Dropout)               (None, 768)          0           dense[0][0]                      \n",
      "__________________________________________________________________________________________________\n",
      "dense_1 (Dense)                 (None, 2)            1538        dropout[0][0]                    \n",
      "==================================================================================================\n",
      "Total params: 110,074,371\n",
      "Trainable params: 110,074,370\n",
      "Non-trainable params: 1\n",
      "__________________________________________________________________________________________________\n"
     ]
    }
   ],
   "source": [
    "def bert_model(callable_object):\n",
    "    # Load the pre-trained BERT base model\n",
    "    bert_layer = hub.KerasLayer(handle=callable_object, trainable=True)  \n",
    "   \n",
    "    # BERT layer three inputs: ids, masks and segments\n",
    "    input_ids = Input(shape=(MAX_SEQ_LEN,), dtype=tf.int32, name=\"input_ids\")           \n",
    "    input_masks = Input(shape=(MAX_SEQ_LEN,), dtype=tf.int32, name=\"input_masks\")       \n",
    "    input_segments = Input(shape=(MAX_SEQ_LEN,), dtype=tf.int32, name=\"segment_ids\")\n",
    "    \n",
    "    inputs = [input_ids, input_masks, input_segments] # BERT inputs\n",
    "    pooled_output, sequence_output = bert_layer(inputs) # BERT outputs\n",
    "    \n",
    "    # Add a hidden layer\n",
    "    x = Dense(units=768, activation='relu')(pooled_output)\n",
    "    x = Dropout(0.1)(x)\n",
    " \n",
    "    # Add output layer\n",
    "    outputs = Dense(2, activation=\"sigmoid\")(x)\n",
    "\n",
    "    # Construct a new model\n",
    "    model = Model(inputs=inputs, outputs=outputs)\n",
    "    return model\n",
    "\n",
    "model = bert_model(\"https://tfhub.dev/tensorflow/bert_en_uncased_L-12_H-768_A-12/1\")\n",
    "model.summary()"
   ]
  },
  {
   "cell_type": "code",
   "execution_count": 21,
   "metadata": {},
   "outputs": [
    {
     "data": {
      "text/plain": [
       "(10000, 2)"
      ]
     },
     "execution_count": 21,
     "metadata": {},
     "output_type": "execute_result"
    }
   ],
   "source": [
    "df.shape"
   ]
  },
  {
   "cell_type": "code",
   "execution_count": 22,
   "metadata": {},
   "outputs": [
    {
     "name": "stderr",
     "output_type": "stream",
     "text": [
      "100%|██████████| 8000/8000 [00:16<00:00, 496.39it/s]\n",
      "100%|██████████| 2000/2000 [00:04<00:00, 497.17it/s]\n"
     ]
    }
   ],
   "source": [
    "# Create examples for training and testing\n",
    "df = df.sample(frac=1) # Shuffle the dataset\n",
    "tokenizer = create_tonkenizer(model.layers[3])\n",
    "X_train = convert_sentences_to_features(df['text'][:8000], tokenizer)\n",
    "X_test = convert_sentences_to_features(df['text'][8000:], tokenizer)\n",
    "\n",
    "one_hot_encoded = to_categorical(df['breakthrough'].values)\n",
    "y_train = one_hot_encoded[:8000]\n",
    "y_test =  one_hot_encoded[8000:]"
   ]
  },
  {
   "cell_type": "markdown",
   "metadata": {},
   "source": [
    "model.compile(loss=\"binary_crossentropy\",\n",
    "                       optimizer=\"adam\",\n",
    "                       metrics=[\"acc\"])"
   ]
  },
  {
   "cell_type": "code",
   "execution_count": null,
   "metadata": {},
   "outputs": [
    {
     "name": "stdout",
     "output_type": "stream",
     "text": [
      "Train on 8000 samples, validate on 2000 samples\n"
     ]
    }
   ],
   "source": [
    "# Train the model\n",
    "BATCH_SIZE = 12\n",
    "EPOCHS = 1\n",
    "\n",
    "# Use Adam optimizer to minimize the categorical_crossentropy loss\n",
    "opt = Adam(learning_rate=2e-5)\n",
    "model.compile(optimizer=opt, \n",
    "              loss='binary_crossentropy', \n",
    "              metrics=['acc'])\n",
    "\n",
    "# Fit the data to the model\n",
    "history = model.fit(X_train, y_train,\n",
    "                    validation_data=(X_test, y_test),\n",
    "                    epochs=EPOCHS,\n",
    "                    batch_size=BATCH_SIZE,\n",
    "                    verbose = 1)\n",
    "\n",
    "# Save the trained model\n",
    "model.save('bert_model.h5')"
   ]
  },
  {
   "cell_type": "markdown",
   "metadata": {},
   "source": [
    "# Load the pretrained nlp_model\n",
    "from tensorflow.keras.models import load_model\n",
    "\n",
    "new_model = load_model('bert_model.h5',custom_objects={'KerasLayer':hub.KerasLayer})"
   ]
  },
  {
   "cell_type": "code",
   "execution_count": 22,
   "metadata": {},
   "outputs": [],
   "source": [
    "# Predict on test dataset\n",
    "from sklearn.metrics import classification_report\n",
    "pred_test = np.argmax(model.predict(X_test), axis=1)"
   ]
  },
  {
   "cell_type": "code",
   "execution_count": 23,
   "metadata": {},
   "outputs": [
    {
     "name": "stdout",
     "output_type": "stream",
     "text": [
      "              precision    recall  f1-score   support\n",
      "\n",
      "           0       0.91      1.00      0.95      1815\n",
      "           1       0.00      0.00      0.00       185\n",
      "\n",
      "    accuracy                           0.91      2000\n",
      "   macro avg       0.45      0.50      0.48      2000\n",
      "weighted avg       0.82      0.91      0.86      2000\n",
      "\n"
     ]
    },
    {
     "name": "stderr",
     "output_type": "stream",
     "text": [
      "/home/lin_menghsien/anaconda3/lib/python3.7/site-packages/sklearn/metrics/_classification.py:1272: UndefinedMetricWarning: Precision and F-score are ill-defined and being set to 0.0 in labels with no predicted samples. Use `zero_division` parameter to control this behavior.\n",
      "  _warn_prf(average, modifier, msg_start, len(result))\n"
     ]
    }
   ],
   "source": [
    "print(classification_report(np.argmax(y_test,axis=1), pred_test))"
   ]
  },
  {
   "cell_type": "code",
   "execution_count": 31,
   "metadata": {},
   "outputs": [
    {
     "data": {
      "text/plain": [
       "(array([0]), array([2000]))"
      ]
     },
     "execution_count": 31,
     "metadata": {},
     "output_type": "execute_result"
    }
   ],
   "source": [
    "np.unique(pred_test, return_counts = True)"
   ]
  },
  {
   "cell_type": "code",
   "execution_count": 25,
   "metadata": {},
   "outputs": [],
   "source": [
    "# Predict on train dataset\n",
    "from sklearn.metrics import classification_report\n",
    "pred_train = np.argmax(model.predict(X_train), axis=1)"
   ]
  },
  {
   "cell_type": "code",
   "execution_count": 26,
   "metadata": {},
   "outputs": [
    {
     "name": "stdout",
     "output_type": "stream",
     "text": [
      "              precision    recall  f1-score   support\n",
      "\n",
      "           0       0.90      1.00      0.95      7185\n",
      "           1       0.00      0.00      0.00       815\n",
      "\n",
      "    accuracy                           0.90      8000\n",
      "   macro avg       0.45      0.50      0.47      8000\n",
      "weighted avg       0.81      0.90      0.85      8000\n",
      "\n"
     ]
    }
   ],
   "source": [
    "print(classification_report(np.argmax(y_train,axis=1), pred_train))"
   ]
  },
  {
   "cell_type": "code",
   "execution_count": 24,
   "metadata": {},
   "outputs": [],
   "source": [
    "model.save_weights('bert_weights.h5')"
   ]
  },
  {
   "cell_type": "code",
   "execution_count": 30,
   "metadata": {},
   "outputs": [
    {
     "data": {
      "text/plain": [
       "(array([0]), array([8000]))"
      ]
     },
     "execution_count": 30,
     "metadata": {},
     "output_type": "execute_result"
    }
   ],
   "source": [
    "np.unique(pred_train, return_counts = True)"
   ]
  },
  {
   "cell_type": "code",
   "execution_count": null,
   "metadata": {},
   "outputs": [],
   "source": []
  }
 ],
 "metadata": {
  "kernelspec": {
   "display_name": "Python 3",
   "language": "python",
   "name": "python3"
  },
  "language_info": {
   "codemirror_mode": {
    "name": "ipython",
    "version": 3
   },
   "file_extension": ".py",
   "mimetype": "text/x-python",
   "name": "python",
   "nbconvert_exporter": "python",
   "pygments_lexer": "ipython3",
   "version": "3.7.6"
  }
 },
 "nbformat": 4,
 "nbformat_minor": 4
}
