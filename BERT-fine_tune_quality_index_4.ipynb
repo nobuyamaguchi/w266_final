{
 "cells": [
  {
   "cell_type": "code",
   "execution_count": 1,
   "metadata": {},
   "outputs": [
    {
     "name": "stdout",
     "output_type": "stream",
     "text": [
      "TensorFlow Version: 2.1.0\n",
      "Hub version:  0.8.0\n"
     ]
    }
   ],
   "source": [
    "# Import modules\n",
    "import pandas as pd\n",
    "import numpy as np\n",
    "import bert\n",
    "import tensorflow as tf\n",
    "import tensorflow_hub as hub\n",
    "from tensorflow.keras.utils import to_categorical\n",
    "from tensorflow.keras.models import  Model\n",
    "from tensorflow.keras.layers import Input, Dense, Dropout\n",
    "from tensorflow.keras.optimizers import Adam\n",
    "from tensorflow.keras.callbacks import ModelCheckpoint, TensorBoard\n",
    "from tqdm import tqdm\n",
    "import matplotlib.pyplot as plt\n",
    "\n",
    "print(\"TensorFlow Version:\",tf.__version__)\n",
    "print(\"Hub version: \",hub.__version__)\n",
    "pd.set_option('display.max_colwidth',1000)"
   ]
  },
  {
   "cell_type": "markdown",
   "metadata": {},
   "source": [
    "Let's create a sample dataset containing 10,000 example, but use 20% as evaluation set.\n",
    "And this time, I want to have both train and eval set to contain exactly 1% breakthrough patent. Let me try \n",
    "\n"
   ]
  },
  {
   "cell_type": "markdown",
   "metadata": {},
   "source": [
    "### Start here:"
   ]
  },
  {
   "cell_type": "code",
   "execution_count": 2,
   "metadata": {},
   "outputs": [
    {
     "data": {
      "text/html": [
       "<div>\n",
       "<style scoped>\n",
       "    .dataframe tbody tr th:only-of-type {\n",
       "        vertical-align: middle;\n",
       "    }\n",
       "\n",
       "    .dataframe tbody tr th {\n",
       "        vertical-align: top;\n",
       "    }\n",
       "\n",
       "    .dataframe thead th {\n",
       "        text-align: right;\n",
       "    }\n",
       "</style>\n",
       "<table border=\"1\" class=\"dataframe\">\n",
       "  <thead>\n",
       "    <tr style=\"text-align: right;\">\n",
       "      <th></th>\n",
       "      <th>Unnamed: 0</th>\n",
       "      <th>publication_number</th>\n",
       "      <th>application_number</th>\n",
       "      <th>text</th>\n",
       "      <th>filing_date</th>\n",
       "      <th>new_appl_nbr</th>\n",
       "      <th>appln_id</th>\n",
       "      <th>app_nbr</th>\n",
       "      <th>filing</th>\n",
       "      <th>tech_field</th>\n",
       "      <th>...</th>\n",
       "      <th>fwd_cits7_xy</th>\n",
       "      <th>breakthrough</th>\n",
       "      <th>breakthrough_xy</th>\n",
       "      <th>generality</th>\n",
       "      <th>originality</th>\n",
       "      <th>radicalness</th>\n",
       "      <th>renewal</th>\n",
       "      <th>quality_index_4</th>\n",
       "      <th>quality_index_6</th>\n",
       "      <th>quality_rank</th>\n",
       "    </tr>\n",
       "  </thead>\n",
       "  <tbody>\n",
       "    <tr>\n",
       "      <th>0</th>\n",
       "      <td>1117907</td>\n",
       "      <td>EP-3412977-A1</td>\n",
       "      <td>EP-18173805-A</td>\n",
       "      <td>A radiant module (1) comprising: a first hollow body (3) defined by a front wall (301), a rear wall (302), two sides (303), a first top end (304) having a pair of holes (308) made on the corresponding sides (303) and a bottom end (305) having a pair of holes (308) made on the corresponding sides (303); the first hollow body (3) defines a component, in use, for the passage of a heat carrier fluid, a second hollow body (2) or cover casing inside of which is entirely contained the first hollow body (3); the second hollow body (2) has a front wall (201), a rear wall (202), two sides (203), a top (204), having an air discharge section (B) and a pair of holes (4) made on the corresponding sides (203) and a bottom (210) having an air intake section (A) and a pair of holes (4) made on the corresponding sides (203), the second hollow body (2) is configured for generating an inner zone which is able to define a channel (C2) for controlled flow of the air from the intake section (A) of the bo...</td>\n",
       "      <td>20180523</td>\n",
       "      <td>EP20180173805</td>\n",
       "      <td>494709760</td>\n",
       "      <td>EP20180173805</td>\n",
       "      <td>2018</td>\n",
       "      <td>30.0</td>\n",
       "      <td>...</td>\n",
       "      <td>0</td>\n",
       "      <td>NaN</td>\n",
       "      <td>NaN</td>\n",
       "      <td>NaN</td>\n",
       "      <td>0.777778</td>\n",
       "      <td>0.916667</td>\n",
       "      <td>1.0</td>\n",
       "      <td>0.317460</td>\n",
       "      <td>0.293740</td>\n",
       "      <td>0</td>\n",
       "    </tr>\n",
       "    <tr>\n",
       "      <th>1</th>\n",
       "      <td>836155</td>\n",
       "      <td>EP-3062394-A1</td>\n",
       "      <td>EP-15200990-A</td>\n",
       "      <td>An array antenna device of this disclosure includes a substrate, a strip conductor with a linear-shape, which is provided on the substrate, and a power feeder that feeds power to the strip conductor, and a plurality of loop elements, a conductor plate, and a plurality of feeding elements. The plurality of loop elements are provided on a first surface of the substrate, and are located along the strip conductor with a specified spacing from each other. Each of the plurality of loop elements has a loop-shape with a notch. The plurality of feeding elements are connected to the strip conductor, and each has a shape extending along a portion of an outer edge of corresponding one of the plurality of loop elements. The conductor plate is provided on a second surface of the substrate.</td>\n",
       "      <td>20151218</td>\n",
       "      <td>EP20150200990</td>\n",
       "      <td>447596715</td>\n",
       "      <td>EP20150200990</td>\n",
       "      <td>2015</td>\n",
       "      <td>3.0</td>\n",
       "      <td>...</td>\n",
       "      <td>0</td>\n",
       "      <td>NaN</td>\n",
       "      <td>NaN</td>\n",
       "      <td>NaN</td>\n",
       "      <td>0.777778</td>\n",
       "      <td>0.083333</td>\n",
       "      <td>3.0</td>\n",
       "      <td>0.216450</td>\n",
       "      <td>0.312182</td>\n",
       "      <td>1</td>\n",
       "    </tr>\n",
       "    <tr>\n",
       "      <th>2</th>\n",
       "      <td>36339</td>\n",
       "      <td>EP-2591987-A1</td>\n",
       "      <td>EP-10854435-A</td>\n",
       "      <td>A vehicle hood structure capable of improving impact absorption ability prior to a secondary impact when an impacting body impacts the hood. Front end portions 22B of beads 22 of a wave shaped section 20 are arranged in a line in hood plan view. A front wall section 28 is provided further to the hood front side than the wave shaped section 20 and is formed inclined towards the hood bottom side on progression towards the hood front and running substantially along the vehicle width direction. The wave shaped section 20 and the front wall section 28 are connected together by a ledge section 26 formed running substantially along the hood width direction.</td>\n",
       "      <td>20100708</td>\n",
       "      <td>EP20100854435</td>\n",
       "      <td>340657535</td>\n",
       "      <td>EP20100854435</td>\n",
       "      <td>2010</td>\n",
       "      <td>32.0</td>\n",
       "      <td>...</td>\n",
       "      <td>0</td>\n",
       "      <td>NaN</td>\n",
       "      <td>NaN</td>\n",
       "      <td>NaN</td>\n",
       "      <td>0.408163</td>\n",
       "      <td>0.000000</td>\n",
       "      <td>8.0</td>\n",
       "      <td>0.140097</td>\n",
       "      <td>0.243247</td>\n",
       "      <td>0</td>\n",
       "    </tr>\n",
       "    <tr>\n",
       "      <th>3</th>\n",
       "      <td>536885</td>\n",
       "      <td>EP-2863948-A2</td>\n",
       "      <td>EP-13807400-A</td>\n",
       "      <td>This invention relates generally to the generation of antibodies,  e.g. , monoclonal antibodies including fully human monoclonal antibodies, that recognize Jagged 1 and/or Jagged 2, to antibodies,  e.g ., monoclonal antibodies including fully human antibodies that recognize Jagged 1 and/or Jagged 2, and nucleic acid molecules that encode antibodies,  e.g. , nucleic acid molecules that encode monoclonal antibodies including fully human cross-reactive antibodies that recognize both Jagged 1 and Jagged 2, and to methods of making the anti- Jagged antibodies and methods of using the anti- Jagged antibodies as therapeutics, prophylactics, and diagnostics. The invention also relates generally to activatable antibodies that include a masking moiety (MM), a cleavable moiety (CM), and an antibody (AB) that specifically bind to Jagged 1 and Jagged 2, and to methods of making and using these activatable anti- Jagged antibodies in a variety of therapeutic, diagnostic and prophylactic indications.</td>\n",
       "      <td>20130621</td>\n",
       "      <td>EP20130807400</td>\n",
       "      <td>413456628</td>\n",
       "      <td>EP20130807400</td>\n",
       "      <td>2013</td>\n",
       "      <td>16.0</td>\n",
       "      <td>...</td>\n",
       "      <td>2</td>\n",
       "      <td>NaN</td>\n",
       "      <td>NaN</td>\n",
       "      <td>0.707031</td>\n",
       "      <td>0.838169</td>\n",
       "      <td>0.518812</td>\n",
       "      <td>5.0</td>\n",
       "      <td>0.702178</td>\n",
       "      <td>0.560783</td>\n",
       "      <td>1</td>\n",
       "    </tr>\n",
       "    <tr>\n",
       "      <th>4</th>\n",
       "      <td>433243</td>\n",
       "      <td>EP-2854677-A1</td>\n",
       "      <td>EP-13742496-A</td>\n",
       "      <td>Methods and implants to treat anterior cruciate ligament (ACL) injuries are disclosed. The methods involve advancing the insertion of the patellar tendon to the proximal tibia by means of a partial osteotomy and a wedge-shaped cage (30). The wedge-shaped cage is specifically designed to facilitate transfer of not only compressive loads, but also of shear loads due to pull by the patellar tendon at its insertion to the tibial tuberosity. The cage decreases the angle between the patellar tendon and the common tangent plane formed by the condyles of the femur and the condyles of the tibia (sometimes called tibial plateau) and consequently modifies the internal joint force, restoring stability to the joint even if the ACL is ruptured. The methods and implants are applicable to both human and canine patients.</td>\n",
       "      <td>20130530</td>\n",
       "      <td>EP20130742496</td>\n",
       "      <td>409439382</td>\n",
       "      <td>EP20130742496</td>\n",
       "      <td>2013</td>\n",
       "      <td>13.0</td>\n",
       "      <td>...</td>\n",
       "      <td>0</td>\n",
       "      <td>NaN</td>\n",
       "      <td>NaN</td>\n",
       "      <td>NaN</td>\n",
       "      <td>0.480000</td>\n",
       "      <td>0.400000</td>\n",
       "      <td>6.0</td>\n",
       "      <td>0.233974</td>\n",
       "      <td>0.267708</td>\n",
       "      <td>0</td>\n",
       "    </tr>\n",
       "    <tr>\n",
       "      <th>...</th>\n",
       "      <td>...</td>\n",
       "      <td>...</td>\n",
       "      <td>...</td>\n",
       "      <td>...</td>\n",
       "      <td>...</td>\n",
       "      <td>...</td>\n",
       "      <td>...</td>\n",
       "      <td>...</td>\n",
       "      <td>...</td>\n",
       "      <td>...</td>\n",
       "      <td>...</td>\n",
       "      <td>...</td>\n",
       "      <td>...</td>\n",
       "      <td>...</td>\n",
       "      <td>...</td>\n",
       "      <td>...</td>\n",
       "      <td>...</td>\n",
       "      <td>...</td>\n",
       "      <td>...</td>\n",
       "      <td>...</td>\n",
       "      <td>...</td>\n",
       "    </tr>\n",
       "    <tr>\n",
       "      <th>4995</th>\n",
       "      <td>26522</td>\n",
       "      <td>EP-2514281-A1</td>\n",
       "      <td>EP-10838186-A</td>\n",
       "      <td>A plasma gun system comprising: a plasma gun comprising an outlet, wherein the plasma gun is configured to generate a plasma stream and provide the plasma stream to the outlet; and a plasma gun extension assembly configured to be coupled to the plasma gun, wherein the plasma gun extension assembly comprises an extension chamber and a port, the extension chamber having an interior diameter defined by a chamber wall and being configured to receive the plasma stream from the outlet of the plasma gun and to enable the plasma stream to expand upon entering the extension chamber, and the port being configured to introduce a powder to the expanded plasma stream at a location outside of the plasma gun.</td>\n",
       "      <td>20101213</td>\n",
       "      <td>EP20100838186</td>\n",
       "      <td>334899458</td>\n",
       "      <td>EP20100838186</td>\n",
       "      <td>2010</td>\n",
       "      <td>23.0</td>\n",
       "      <td>...</td>\n",
       "      <td>0</td>\n",
       "      <td>NaN</td>\n",
       "      <td>NaN</td>\n",
       "      <td>NaN</td>\n",
       "      <td>0.853203</td>\n",
       "      <td>0.406780</td>\n",
       "      <td>9.0</td>\n",
       "      <td>0.315754</td>\n",
       "      <td>0.293119</td>\n",
       "      <td>0</td>\n",
       "    </tr>\n",
       "    <tr>\n",
       "      <th>4996</th>\n",
       "      <td>357146</td>\n",
       "      <td>EP-2814870-A1</td>\n",
       "      <td>EP-12813624-A</td>\n",
       "      <td>An amorphous copolyester comprising the reaction product of: (a) a monomer of formula (I) wherein R 1 , R 2 , R 3 , and R 5  are each independently hydrogen or a C 1-3  alkyl group, a is 0-1, b is 0-4, c is 0-4 and d is 0-3, and each R 4  is independently hydrogen or a C 1-3  alkyl group; (b) a virgin monomer selected from terephthalic acid, a di(C 1-3  alkyl) terephthalate, and combinations thereof, and(c) 1,4-cyclohexane dimethanol; wherein the residue of monomer (a) is present in an amount from 7 to less than 12 mole % of the copolyester based on moles of repeat units in the polyester; and the copolyester has a glass transition temperature of at least 107C, an intrinsic viscosity of at least 0.7 dl/g, and a molded sample has a Notched Izod value of at least 290 J/m determined in accordance with ASTM D256.</td>\n",
       "      <td>20121211</td>\n",
       "      <td>EP20120813624</td>\n",
       "      <td>380483196</td>\n",
       "      <td>EP20120813624</td>\n",
       "      <td>2012</td>\n",
       "      <td>17.0</td>\n",
       "      <td>...</td>\n",
       "      <td>0</td>\n",
       "      <td>NaN</td>\n",
       "      <td>NaN</td>\n",
       "      <td>NaN</td>\n",
       "      <td>0.625000</td>\n",
       "      <td>0.375000</td>\n",
       "      <td>6.0</td>\n",
       "      <td>0.120370</td>\n",
       "      <td>0.202268</td>\n",
       "      <td>0</td>\n",
       "    </tr>\n",
       "    <tr>\n",
       "      <th>4997</th>\n",
       "      <td>810878</td>\n",
       "      <td>EP-2996404-A1</td>\n",
       "      <td>EP-15183744-A</td>\n",
       "      <td>A communication device for handling a selection of a Public Land Mobile Network (PLMN) for a device-to-device (D2D) communication comprises a storage unit for storing instructions and a processing means coupled to the storage unit. The processing means is configured to execute the instructions stored in the storage unit. The instructions comprise detecting a first PLMN and a second PLMN when performing at least one PLMN search, wherein the first PLMN does not provide a proximity service (ProSe) and the second PLMN provides the ProSe; and selecting the second PLMN to camp on the second PLMN.</td>\n",
       "      <td>20150903</td>\n",
       "      <td>EP20150183744</td>\n",
       "      <td>444259224</td>\n",
       "      <td>EP20150183744</td>\n",
       "      <td>2015</td>\n",
       "      <td>4.0</td>\n",
       "      <td>...</td>\n",
       "      <td>0</td>\n",
       "      <td>NaN</td>\n",
       "      <td>NaN</td>\n",
       "      <td>NaN</td>\n",
       "      <td>0.625000</td>\n",
       "      <td>0.500000</td>\n",
       "      <td>3.0</td>\n",
       "      <td>0.127451</td>\n",
       "      <td>0.207662</td>\n",
       "      <td>0</td>\n",
       "    </tr>\n",
       "    <tr>\n",
       "      <th>4998</th>\n",
       "      <td>374199</td>\n",
       "      <td>EP-2745969-A1</td>\n",
       "      <td>EP-12198175-A</td>\n",
       "      <td>The toll has a tool shank that is provided with a working portion that is provided in the periphery of the milling cutter. The screw thread cutting surface on the tooth (2) is provided with a cutting edge (5). The cutting edge is spaced from a guide support bar (6) whose diameter is smaller than that of the cutting edge. A concave or otherwise-shaped discharge space (9) is formed between the cutting edge and the guide support bar.</td>\n",
       "      <td>20121219</td>\n",
       "      <td>EP20120198175</td>\n",
       "      <td>379202539</td>\n",
       "      <td>EP20120198175</td>\n",
       "      <td>2012</td>\n",
       "      <td>26.0</td>\n",
       "      <td>...</td>\n",
       "      <td>0</td>\n",
       "      <td>NaN</td>\n",
       "      <td>NaN</td>\n",
       "      <td>NaN</td>\n",
       "      <td>0.458977</td>\n",
       "      <td>0.206897</td>\n",
       "      <td>7.0</td>\n",
       "      <td>0.199134</td>\n",
       "      <td>0.322634</td>\n",
       "      <td>1</td>\n",
       "    </tr>\n",
       "    <tr>\n",
       "      <th>4999</th>\n",
       "      <td>56836</td>\n",
       "      <td>EP-2406281-A2</td>\n",
       "      <td>EP-10713149-A</td>\n",
       "      <td>The present invention is directed to an isolated peptide comprising or consisting of an amino acid sequence with an amino acid identity of at least 90% compared to mature human BMP2 with SEQ ID No. 1, characterized in that said amino acid sequence comprises at least two amino acid substitutions characterized in that a first amino acid substitution occurs at a position corresponding to N59, S88, E94, V99, K101 and/or N102 of SEQ ID No. 1 and to uses thereof.</td>\n",
       "      <td>20100311</td>\n",
       "      <td>EP20100713149</td>\n",
       "      <td>314699078</td>\n",
       "      <td>EP20100713149</td>\n",
       "      <td>2010</td>\n",
       "      <td>16.0</td>\n",
       "      <td>...</td>\n",
       "      <td>1</td>\n",
       "      <td>NaN</td>\n",
       "      <td>NaN</td>\n",
       "      <td>0.000000</td>\n",
       "      <td>0.923571</td>\n",
       "      <td>0.396694</td>\n",
       "      <td>9.0</td>\n",
       "      <td>0.162256</td>\n",
       "      <td>0.182621</td>\n",
       "      <td>0</td>\n",
       "    </tr>\n",
       "  </tbody>\n",
       "</table>\n",
       "<p>5000 rows × 31 columns</p>\n",
       "</div>"
      ],
      "text/plain": [
       "      Unnamed: 0 publication_number application_number  \\\n",
       "0        1117907      EP-3412977-A1      EP-18173805-A   \n",
       "1         836155      EP-3062394-A1      EP-15200990-A   \n",
       "2          36339      EP-2591987-A1      EP-10854435-A   \n",
       "3         536885      EP-2863948-A2      EP-13807400-A   \n",
       "4         433243      EP-2854677-A1      EP-13742496-A   \n",
       "...          ...                ...                ...   \n",
       "4995       26522      EP-2514281-A1      EP-10838186-A   \n",
       "4996      357146      EP-2814870-A1      EP-12813624-A   \n",
       "4997      810878      EP-2996404-A1      EP-15183744-A   \n",
       "4998      374199      EP-2745969-A1      EP-12198175-A   \n",
       "4999       56836      EP-2406281-A2      EP-10713149-A   \n",
       "\n",
       "                                                                                                                                                                                                                                                                                                                                                                                                                                                                                                                                                                                                                                                                                                                                                                                                                                                                                                                                                                                                                                         text  \\\n",
       "0     A radiant module (1) comprising: a first hollow body (3) defined by a front wall (301), a rear wall (302), two sides (303), a first top end (304) having a pair of holes (308) made on the corresponding sides (303) and a bottom end (305) having a pair of holes (308) made on the corresponding sides (303); the first hollow body (3) defines a component, in use, for the passage of a heat carrier fluid, a second hollow body (2) or cover casing inside of which is entirely contained the first hollow body (3); the second hollow body (2) has a front wall (201), a rear wall (202), two sides (203), a top (204), having an air discharge section (B) and a pair of holes (4) made on the corresponding sides (203) and a bottom (210) having an air intake section (A) and a pair of holes (4) made on the corresponding sides (203), the second hollow body (2) is configured for generating an inner zone which is able to define a channel (C2) for controlled flow of the air from the intake section (A) of the bo...   \n",
       "1                                                                                                                                                                                                                          An array antenna device of this disclosure includes a substrate, a strip conductor with a linear-shape, which is provided on the substrate, and a power feeder that feeds power to the strip conductor, and a plurality of loop elements, a conductor plate, and a plurality of feeding elements. The plurality of loop elements are provided on a first surface of the substrate, and are located along the strip conductor with a specified spacing from each other. Each of the plurality of loop elements has a loop-shape with a notch. The plurality of feeding elements are connected to the strip conductor, and each has a shape extending along a portion of an outer edge of corresponding one of the plurality of loop elements. The conductor plate is provided on a second surface of the substrate.   \n",
       "2                                                                                                                                                                                                                                                                                                                                                          A vehicle hood structure capable of improving impact absorption ability prior to a secondary impact when an impacting body impacts the hood. Front end portions 22B of beads 22 of a wave shaped section 20 are arranged in a line in hood plan view. A front wall section 28 is provided further to the hood front side than the wave shaped section 20 and is formed inclined towards the hood bottom side on progression towards the hood front and running substantially along the vehicle width direction. The wave shaped section 20 and the front wall section 28 are connected together by a ledge section 26 formed running substantially along the hood width direction.   \n",
       "3     This invention relates generally to the generation of antibodies,  e.g. , monoclonal antibodies including fully human monoclonal antibodies, that recognize Jagged 1 and/or Jagged 2, to antibodies,  e.g ., monoclonal antibodies including fully human antibodies that recognize Jagged 1 and/or Jagged 2, and nucleic acid molecules that encode antibodies,  e.g. , nucleic acid molecules that encode monoclonal antibodies including fully human cross-reactive antibodies that recognize both Jagged 1 and Jagged 2, and to methods of making the anti- Jagged antibodies and methods of using the anti- Jagged antibodies as therapeutics, prophylactics, and diagnostics. The invention also relates generally to activatable antibodies that include a masking moiety (MM), a cleavable moiety (CM), and an antibody (AB) that specifically bind to Jagged 1 and Jagged 2, and to methods of making and using these activatable anti- Jagged antibodies in a variety of therapeutic, diagnostic and prophylactic indications.   \n",
       "4                                                                                                                                                                                             Methods and implants to treat anterior cruciate ligament (ACL) injuries are disclosed. The methods involve advancing the insertion of the patellar tendon to the proximal tibia by means of a partial osteotomy and a wedge-shaped cage (30). The wedge-shaped cage is specifically designed to facilitate transfer of not only compressive loads, but also of shear loads due to pull by the patellar tendon at its insertion to the tibial tuberosity. The cage decreases the angle between the patellar tendon and the common tangent plane formed by the condyles of the femur and the condyles of the tibia (sometimes called tibial plateau) and consequently modifies the internal joint force, restoring stability to the joint even if the ACL is ruptured. The methods and implants are applicable to both human and canine patients.   \n",
       "...                                                                                                                                                                                                                                                                                                                                                                                                                                                                                                                                                                                                                                                                                                                                                                                                                                                                                                                                                                                                                                       ...   \n",
       "4995                                                                                                                                                                                                                                                                                                          A plasma gun system comprising: a plasma gun comprising an outlet, wherein the plasma gun is configured to generate a plasma stream and provide the plasma stream to the outlet; and a plasma gun extension assembly configured to be coupled to the plasma gun, wherein the plasma gun extension assembly comprises an extension chamber and a port, the extension chamber having an interior diameter defined by a chamber wall and being configured to receive the plasma stream from the outlet of the plasma gun and to enable the plasma stream to expand upon entering the extension chamber, and the port being configured to introduce a powder to the expanded plasma stream at a location outside of the plasma gun.   \n",
       "4996                                                                                                                                                                                      An amorphous copolyester comprising the reaction product of: (a) a monomer of formula (I) wherein R 1 , R 2 , R 3 , and R 5  are each independently hydrogen or a C 1-3  alkyl group, a is 0-1, b is 0-4, c is 0-4 and d is 0-3, and each R 4  is independently hydrogen or a C 1-3  alkyl group; (b) a virgin monomer selected from terephthalic acid, a di(C 1-3  alkyl) terephthalate, and combinations thereof, and(c) 1,4-cyclohexane dimethanol; wherein the residue of monomer (a) is present in an amount from 7 to less than 12 mole % of the copolyester based on moles of repeat units in the polyester; and the copolyester has a glass transition temperature of at least 107C, an intrinsic viscosity of at least 0.7 dl/g, and a molded sample has a Notched Izod value of at least 290 J/m determined in accordance with ASTM D256.   \n",
       "4997                                                                                                                                                                                                                                                                                                                                                                                                                    A communication device for handling a selection of a Public Land Mobile Network (PLMN) for a device-to-device (D2D) communication comprises a storage unit for storing instructions and a processing means coupled to the storage unit. The processing means is configured to execute the instructions stored in the storage unit. The instructions comprise detecting a first PLMN and a second PLMN when performing at least one PLMN search, wherein the first PLMN does not provide a proximity service (ProSe) and the second PLMN provides the ProSe; and selecting the second PLMN to camp on the second PLMN.   \n",
       "4998                                                                                                                                                                                                                                                                                                                                                                                                                                                                                                                                                                                       The toll has a tool shank that is provided with a working portion that is provided in the periphery of the milling cutter. The screw thread cutting surface on the tooth (2) is provided with a cutting edge (5). The cutting edge is spaced from a guide support bar (6) whose diameter is smaller than that of the cutting edge. A concave or otherwise-shaped discharge space (9) is formed between the cutting edge and the guide support bar.   \n",
       "4999                                                                                                                                                                                                                                                                                                                                                                                                                                                                                                                                                            The present invention is directed to an isolated peptide comprising or consisting of an amino acid sequence with an amino acid identity of at least 90% compared to mature human BMP2 with SEQ ID No. 1, characterized in that said amino acid sequence comprises at least two amino acid substitutions characterized in that a first amino acid substitution occurs at a position corresponding to N59, S88, E94, V99, K101 and/or N102 of SEQ ID No. 1 and to uses thereof.   \n",
       "\n",
       "      filing_date   new_appl_nbr   appln_id        app_nbr  filing  \\\n",
       "0        20180523  EP20180173805  494709760  EP20180173805    2018   \n",
       "1        20151218  EP20150200990  447596715  EP20150200990    2015   \n",
       "2        20100708  EP20100854435  340657535  EP20100854435    2010   \n",
       "3        20130621  EP20130807400  413456628  EP20130807400    2013   \n",
       "4        20130530  EP20130742496  409439382  EP20130742496    2013   \n",
       "...           ...            ...        ...            ...     ...   \n",
       "4995     20101213  EP20100838186  334899458  EP20100838186    2010   \n",
       "4996     20121211  EP20120813624  380483196  EP20120813624    2012   \n",
       "4997     20150903  EP20150183744  444259224  EP20150183744    2015   \n",
       "4998     20121219  EP20120198175  379202539  EP20120198175    2012   \n",
       "4999     20100311  EP20100713149  314699078  EP20100713149    2010   \n",
       "\n",
       "      tech_field  ...  fwd_cits7_xy  breakthrough  breakthrough_xy  \\\n",
       "0           30.0  ...             0           NaN              NaN   \n",
       "1            3.0  ...             0           NaN              NaN   \n",
       "2           32.0  ...             0           NaN              NaN   \n",
       "3           16.0  ...             2           NaN              NaN   \n",
       "4           13.0  ...             0           NaN              NaN   \n",
       "...          ...  ...           ...           ...              ...   \n",
       "4995        23.0  ...             0           NaN              NaN   \n",
       "4996        17.0  ...             0           NaN              NaN   \n",
       "4997         4.0  ...             0           NaN              NaN   \n",
       "4998        26.0  ...             0           NaN              NaN   \n",
       "4999        16.0  ...             1           NaN              NaN   \n",
       "\n",
       "      generality  originality  radicalness  renewal  quality_index_4  \\\n",
       "0            NaN     0.777778     0.916667      1.0         0.317460   \n",
       "1            NaN     0.777778     0.083333      3.0         0.216450   \n",
       "2            NaN     0.408163     0.000000      8.0         0.140097   \n",
       "3       0.707031     0.838169     0.518812      5.0         0.702178   \n",
       "4            NaN     0.480000     0.400000      6.0         0.233974   \n",
       "...          ...          ...          ...      ...              ...   \n",
       "4995         NaN     0.853203     0.406780      9.0         0.315754   \n",
       "4996         NaN     0.625000     0.375000      6.0         0.120370   \n",
       "4997         NaN     0.625000     0.500000      3.0         0.127451   \n",
       "4998         NaN     0.458977     0.206897      7.0         0.199134   \n",
       "4999    0.000000     0.923571     0.396694      9.0         0.162256   \n",
       "\n",
       "      quality_index_6  quality_rank  \n",
       "0            0.293740             0  \n",
       "1            0.312182             1  \n",
       "2            0.243247             0  \n",
       "3            0.560783             1  \n",
       "4            0.267708             0  \n",
       "...               ...           ...  \n",
       "4995         0.293119             0  \n",
       "4996         0.202268             0  \n",
       "4997         0.207662             0  \n",
       "4998         0.322634             1  \n",
       "4999         0.182621             0  \n",
       "\n",
       "[5000 rows x 31 columns]"
      ]
     },
     "execution_count": 2,
     "metadata": {},
     "output_type": "execute_result"
    }
   ],
   "source": [
    "df = pd.read_csv('patent_abstract_5000.csv')\n",
    "df"
   ]
  },
  {
   "cell_type": "code",
   "execution_count": 3,
   "metadata": {},
   "outputs": [
    {
     "data": {
      "text/plain": [
       "0.255238095238095"
      ]
     },
     "execution_count": 3,
     "metadata": {},
     "output_type": "execute_result"
    }
   ],
   "source": [
    "np.percentile(df['quality_index_4'], 50)"
   ]
  },
  {
   "cell_type": "code",
   "execution_count": 4,
   "metadata": {},
   "outputs": [
    {
     "data": {
      "text/plain": [
       "<matplotlib.axes._subplots.AxesSubplot at 0x7fd5d35c4d90>"
      ]
     },
     "execution_count": 4,
     "metadata": {},
     "output_type": "execute_result"
    },
    {
     "data": {
      "image/png": "[encoded data removed]",
      "text/plain": [
       "<Figure size 432x288 with 1 Axes>"
      ]
     },
     "metadata": {
      "needs_background": "light"
     },
     "output_type": "display_data"
    }
   ],
   "source": [
    "df['quality_index_4'].hist()"
   ]
  },
  {
   "cell_type": "code",
   "execution_count": 5,
   "metadata": {},
   "outputs": [
    {
     "data": {
      "text/plain": [
       "<matplotlib.axes._subplots.AxesSubplot at 0x7fd5d2d92d50>"
      ]
     },
     "execution_count": 5,
     "metadata": {},
     "output_type": "execute_result"
    },
    {
     "data": {
      "image/png": "[encoded data removed]",
      "text/plain": [
       "<Figure size 432x288 with 1 Axes>"
      ]
     },
     "metadata": {
      "needs_background": "light"
     },
     "output_type": "display_data"
    }
   ],
   "source": [
    "df['quality_index_6'].hist()"
   ]
  },
  {
   "cell_type": "code",
   "execution_count": 6,
   "metadata": {},
   "outputs": [
    {
     "data": {
      "text/plain": [
       "0.2806137569840985"
      ]
     },
     "execution_count": 6,
     "metadata": {},
     "output_type": "execute_result"
    }
   ],
   "source": [
    "np.percentile(df['quality_index_6'], 50)"
   ]
  },
  {
   "cell_type": "code",
   "execution_count": 14,
   "metadata": {},
   "outputs": [],
   "source": [
    "conditions = [\n",
    "\n",
    "    (df['quality_index_4'] < 0.3),\n",
    "    (df['quality_index_4'] >= 0.3)\n",
    "]\n",
    "\n",
    "choices = ['0', '1']"
   ]
  },
  {
   "cell_type": "code",
   "execution_count": 15,
   "metadata": {},
   "outputs": [],
   "source": [
    "import numpy as np\n",
    "df['quality_rank'] = np.select(condlist=conditions, choicelist=choices)"
   ]
  },
  {
   "cell_type": "code",
   "execution_count": 16,
   "metadata": {},
   "outputs": [],
   "source": [
    "df = df[['text','quality_rank']]"
   ]
  },
  {
   "cell_type": "code",
   "execution_count": 17,
   "metadata": {},
   "outputs": [
    {
     "data": {
      "text/html": [
       "<div>\n",
       "<style scoped>\n",
       "    .dataframe tbody tr th:only-of-type {\n",
       "        vertical-align: middle;\n",
       "    }\n",
       "\n",
       "    .dataframe tbody tr th {\n",
       "        vertical-align: top;\n",
       "    }\n",
       "\n",
       "    .dataframe thead th {\n",
       "        text-align: right;\n",
       "    }\n",
       "</style>\n",
       "<table border=\"1\" class=\"dataframe\">\n",
       "  <thead>\n",
       "    <tr style=\"text-align: right;\">\n",
       "      <th></th>\n",
       "      <th>text</th>\n",
       "      <th>quality_rank</th>\n",
       "    </tr>\n",
       "  </thead>\n",
       "  <tbody>\n",
       "    <tr>\n",
       "      <th>0</th>\n",
       "      <td>A radiant module (1) comprising: a first hollow body (3) defined by a front wall (301), a rear wall (302), two sides (303), a first top end (304) having a pair of holes (308) made on the corresponding sides (303) and a bottom end (305) having a pair of holes (308) made on the corresponding sides (303); the first hollow body (3) defines a component, in use, for the passage of a heat carrier fluid, a second hollow body (2) or cover casing inside of which is entirely contained the first hollow body (3); the second hollow body (2) has a front wall (201), a rear wall (202), two sides (203), a top (204), having an air discharge section (B) and a pair of holes (4) made on the corresponding sides (203) and a bottom (210) having an air intake section (A) and a pair of holes (4) made on the corresponding sides (203), the second hollow body (2) is configured for generating an inner zone which is able to define a channel (C2) for controlled flow of the air from the intake section (A) of the bo...</td>\n",
       "      <td>1</td>\n",
       "    </tr>\n",
       "    <tr>\n",
       "      <th>1</th>\n",
       "      <td>An array antenna device of this disclosure includes a substrate, a strip conductor with a linear-shape, which is provided on the substrate, and a power feeder that feeds power to the strip conductor, and a plurality of loop elements, a conductor plate, and a plurality of feeding elements. The plurality of loop elements are provided on a first surface of the substrate, and are located along the strip conductor with a specified spacing from each other. Each of the plurality of loop elements has a loop-shape with a notch. The plurality of feeding elements are connected to the strip conductor, and each has a shape extending along a portion of an outer edge of corresponding one of the plurality of loop elements. The conductor plate is provided on a second surface of the substrate.</td>\n",
       "      <td>0</td>\n",
       "    </tr>\n",
       "    <tr>\n",
       "      <th>2</th>\n",
       "      <td>A vehicle hood structure capable of improving impact absorption ability prior to a secondary impact when an impacting body impacts the hood. Front end portions 22B of beads 22 of a wave shaped section 20 are arranged in a line in hood plan view. A front wall section 28 is provided further to the hood front side than the wave shaped section 20 and is formed inclined towards the hood bottom side on progression towards the hood front and running substantially along the vehicle width direction. The wave shaped section 20 and the front wall section 28 are connected together by a ledge section 26 formed running substantially along the hood width direction.</td>\n",
       "      <td>0</td>\n",
       "    </tr>\n",
       "    <tr>\n",
       "      <th>3</th>\n",
       "      <td>This invention relates generally to the generation of antibodies,  e.g. , monoclonal antibodies including fully human monoclonal antibodies, that recognize Jagged 1 and/or Jagged 2, to antibodies,  e.g ., monoclonal antibodies including fully human antibodies that recognize Jagged 1 and/or Jagged 2, and nucleic acid molecules that encode antibodies,  e.g. , nucleic acid molecules that encode monoclonal antibodies including fully human cross-reactive antibodies that recognize both Jagged 1 and Jagged 2, and to methods of making the anti- Jagged antibodies and methods of using the anti- Jagged antibodies as therapeutics, prophylactics, and diagnostics. The invention also relates generally to activatable antibodies that include a masking moiety (MM), a cleavable moiety (CM), and an antibody (AB) that specifically bind to Jagged 1 and Jagged 2, and to methods of making and using these activatable anti- Jagged antibodies in a variety of therapeutic, diagnostic and prophylactic indications.</td>\n",
       "      <td>1</td>\n",
       "    </tr>\n",
       "    <tr>\n",
       "      <th>4</th>\n",
       "      <td>Methods and implants to treat anterior cruciate ligament (ACL) injuries are disclosed. The methods involve advancing the insertion of the patellar tendon to the proximal tibia by means of a partial osteotomy and a wedge-shaped cage (30). The wedge-shaped cage is specifically designed to facilitate transfer of not only compressive loads, but also of shear loads due to pull by the patellar tendon at its insertion to the tibial tuberosity. The cage decreases the angle between the patellar tendon and the common tangent plane formed by the condyles of the femur and the condyles of the tibia (sometimes called tibial plateau) and consequently modifies the internal joint force, restoring stability to the joint even if the ACL is ruptured. The methods and implants are applicable to both human and canine patients.</td>\n",
       "      <td>0</td>\n",
       "    </tr>\n",
       "  </tbody>\n",
       "</table>\n",
       "</div>"
      ],
      "text/plain": [
       "                                                                                                                                                                                                                                                                                                                                                                                                                                                                                                                                                                                                                                                                                                                                                                                                                                                                                                                                                                                                                                      text  \\\n",
       "0  A radiant module (1) comprising: a first hollow body (3) defined by a front wall (301), a rear wall (302), two sides (303), a first top end (304) having a pair of holes (308) made on the corresponding sides (303) and a bottom end (305) having a pair of holes (308) made on the corresponding sides (303); the first hollow body (3) defines a component, in use, for the passage of a heat carrier fluid, a second hollow body (2) or cover casing inside of which is entirely contained the first hollow body (3); the second hollow body (2) has a front wall (201), a rear wall (202), two sides (203), a top (204), having an air discharge section (B) and a pair of holes (4) made on the corresponding sides (203) and a bottom (210) having an air intake section (A) and a pair of holes (4) made on the corresponding sides (203), the second hollow body (2) is configured for generating an inner zone which is able to define a channel (C2) for controlled flow of the air from the intake section (A) of the bo...   \n",
       "1                                                                                                                                                                                                                       An array antenna device of this disclosure includes a substrate, a strip conductor with a linear-shape, which is provided on the substrate, and a power feeder that feeds power to the strip conductor, and a plurality of loop elements, a conductor plate, and a plurality of feeding elements. The plurality of loop elements are provided on a first surface of the substrate, and are located along the strip conductor with a specified spacing from each other. Each of the plurality of loop elements has a loop-shape with a notch. The plurality of feeding elements are connected to the strip conductor, and each has a shape extending along a portion of an outer edge of corresponding one of the plurality of loop elements. The conductor plate is provided on a second surface of the substrate.   \n",
       "2                                                                                                                                                                                                                                                                                                                                                       A vehicle hood structure capable of improving impact absorption ability prior to a secondary impact when an impacting body impacts the hood. Front end portions 22B of beads 22 of a wave shaped section 20 are arranged in a line in hood plan view. A front wall section 28 is provided further to the hood front side than the wave shaped section 20 and is formed inclined towards the hood bottom side on progression towards the hood front and running substantially along the vehicle width direction. The wave shaped section 20 and the front wall section 28 are connected together by a ledge section 26 formed running substantially along the hood width direction.   \n",
       "3  This invention relates generally to the generation of antibodies,  e.g. , monoclonal antibodies including fully human monoclonal antibodies, that recognize Jagged 1 and/or Jagged 2, to antibodies,  e.g ., monoclonal antibodies including fully human antibodies that recognize Jagged 1 and/or Jagged 2, and nucleic acid molecules that encode antibodies,  e.g. , nucleic acid molecules that encode monoclonal antibodies including fully human cross-reactive antibodies that recognize both Jagged 1 and Jagged 2, and to methods of making the anti- Jagged antibodies and methods of using the anti- Jagged antibodies as therapeutics, prophylactics, and diagnostics. The invention also relates generally to activatable antibodies that include a masking moiety (MM), a cleavable moiety (CM), and an antibody (AB) that specifically bind to Jagged 1 and Jagged 2, and to methods of making and using these activatable anti- Jagged antibodies in a variety of therapeutic, diagnostic and prophylactic indications.   \n",
       "4                                                                                                                                                                                          Methods and implants to treat anterior cruciate ligament (ACL) injuries are disclosed. The methods involve advancing the insertion of the patellar tendon to the proximal tibia by means of a partial osteotomy and a wedge-shaped cage (30). The wedge-shaped cage is specifically designed to facilitate transfer of not only compressive loads, but also of shear loads due to pull by the patellar tendon at its insertion to the tibial tuberosity. The cage decreases the angle between the patellar tendon and the common tangent plane formed by the condyles of the femur and the condyles of the tibia (sometimes called tibial plateau) and consequently modifies the internal joint force, restoring stability to the joint even if the ACL is ruptured. The methods and implants are applicable to both human and canine patients.   \n",
       "\n",
       "  quality_rank  \n",
       "0            1  \n",
       "1            0  \n",
       "2            0  \n",
       "3            1  \n",
       "4            0  "
      ]
     },
     "execution_count": 17,
     "metadata": {},
     "output_type": "execute_result"
    }
   ],
   "source": [
    "df.head(5)"
   ]
  },
  {
   "cell_type": "code",
   "execution_count": 18,
   "metadata": {},
   "outputs": [
    {
     "name": "stderr",
     "output_type": "stream",
     "text": [
      "/home/lin_menghsien/anaconda3/lib/python3.7/site-packages/ipykernel_launcher.py:1: SettingWithCopyWarning: \n",
      "A value is trying to be set on a copy of a slice from a DataFrame.\n",
      "Try using .loc[row_indexer,col_indexer] = value instead\n",
      "\n",
      "See the caveats in the documentation: https://pandas.pydata.org/pandas-docs/stable/user_guide/indexing.html#returning-a-view-versus-a-copy\n",
      "  \"\"\"Entry point for launching an IPython kernel.\n"
     ]
    }
   ],
   "source": [
    "df['text'] = df['text'].apply(str)"
   ]
  },
  {
   "cell_type": "code",
   "execution_count": 20,
   "metadata": {},
   "outputs": [
    {
     "data": {
      "text/plain": [
       "text            0\n",
       "quality_rank    0\n",
       "dtype: int64"
      ]
     },
     "execution_count": 20,
     "metadata": {},
     "output_type": "execute_result"
    }
   ],
   "source": [
    "df.apply(lambda x: sum(x.isnull()), axis=0)"
   ]
  },
  {
   "cell_type": "code",
   "execution_count": 22,
   "metadata": {},
   "outputs": [],
   "source": [
    "# Functions for constructing BERT Embeddings: input_ids, input_masks, input_segments and Inputs\n",
    "MAX_SEQ_LEN=500 # max sequence length\n",
    "\n",
    "def get_masks(tokens):\n",
    "    \"\"\"Masks: 1 for real tokens and 0 for paddings\"\"\"\n",
    "    return [1]*len(tokens) + [0] * (MAX_SEQ_LEN - len(tokens))\n",
    " \n",
    "def get_segments(tokens):\n",
    "    \"\"\"Segments: 0 for the first sequence, 1 for the second\"\"\"  \n",
    "    segments = []\n",
    "    current_segment_id = 0\n",
    "    for token in tokens:\n",
    "        segments.append(current_segment_id)\n",
    "        if token == \"[SEP]\":\n",
    "            current_segment_id = 1\n",
    "    return segments + [0] * (MAX_SEQ_LEN - len(tokens))\n",
    "\n",
    "def get_ids(tokens, tokenizer):\n",
    "    \"\"\"Token ids from Tokenizer vocab\"\"\"\n",
    "    token_ids = tokenizer.convert_tokens_to_ids(tokens,)\n",
    "    input_ids = token_ids + [0] * (MAX_SEQ_LEN - len(token_ids))\n",
    "    return input_ids\n",
    "\n",
    "def create_single_input(sentence, tokenizer, max_len):\n",
    "    \"\"\"Create an input from a sentence\"\"\"\n",
    "    stokens = tokenizer.tokenize(sentence)\n",
    "    stokens = stokens[:max_len]\n",
    "    stokens = [\"[CLS]\"] + stokens + [\"[SEP]\"]\n",
    " \n",
    "    ids = get_ids(stokens, tokenizer)\n",
    "    masks = get_masks(stokens)\n",
    "    segments = get_segments(stokens)\n",
    "\n",
    "    return ids, masks, segments\n",
    " \n",
    "def convert_sentences_to_features(sentences, tokenizer):\n",
    "    \"\"\"Convert sentences to features: input_ids, input_masks and input_segments\"\"\"\n",
    "    input_ids, input_masks, input_segments = [], [], []\n",
    " \n",
    "    for sentence in tqdm(sentences,position=0, leave=True):\n",
    "      ids,masks,segments=create_single_input(sentence,tokenizer,MAX_SEQ_LEN-2)\n",
    "      assert len(ids) == MAX_SEQ_LEN\n",
    "      assert len(masks) == MAX_SEQ_LEN\n",
    "      assert len(segments) == MAX_SEQ_LEN\n",
    "      input_ids.append(ids)\n",
    "      input_masks.append(masks)\n",
    "      input_segments.append(segments)\n",
    "\n",
    "    return [np.asarray(input_ids, dtype=np.int32), \n",
    "          np.asarray(input_masks, dtype=np.int32), \n",
    "          np.asarray(input_segments, dtype=np.int32)]\n",
    "\n",
    "def create_tonkenizer(bert_layer):\n",
    "    \"\"\"Instantiate Tokenizer with vocab\"\"\"\n",
    "    vocab_file=bert_layer.resolved_object.vocab_file.asset_path.numpy()\n",
    "    do_lower_case=bert_layer.resolved_object.do_lower_case.numpy() \n",
    "    tokenizer=bert.bert_tokenization.FullTokenizer(vocab_file,do_lower_case)\n",
    "    return tokenizer"
   ]
  },
  {
   "cell_type": "code",
   "execution_count": 23,
   "metadata": {},
   "outputs": [
    {
     "name": "stdout",
     "output_type": "stream",
     "text": [
      "Model: \"model\"\n",
      "__________________________________________________________________________________________________\n",
      "Layer (type)                    Output Shape         Param #     Connected to                     \n",
      "==================================================================================================\n",
      "input_ids (InputLayer)          [(None, 500)]        0                                            \n",
      "__________________________________________________________________________________________________\n",
      "input_masks (InputLayer)        [(None, 500)]        0                                            \n",
      "__________________________________________________________________________________________________\n",
      "segment_ids (InputLayer)        [(None, 500)]        0                                            \n",
      "__________________________________________________________________________________________________\n",
      "keras_layer (KerasLayer)        [(None, 768), (None, 109482241   input_ids[0][0]                  \n",
      "                                                                 input_masks[0][0]                \n",
      "                                                                 segment_ids[0][0]                \n",
      "__________________________________________________________________________________________________\n",
      "dense (Dense)                   (None, 768)          590592      keras_layer[0][0]                \n",
      "__________________________________________________________________________________________________\n",
      "dropout (Dropout)               (None, 768)          0           dense[0][0]                      \n",
      "__________________________________________________________________________________________________\n",
      "dense_1 (Dense)                 (None, 1)            769         dropout[0][0]                    \n",
      "==================================================================================================\n",
      "Total params: 110,073,602\n",
      "Trainable params: 110,073,601\n",
      "Non-trainable params: 1\n",
      "__________________________________________________________________________________________________\n"
     ]
    }
   ],
   "source": [
    "def bert_model(callable_object):\n",
    "    # Load the pre-trained BERT base model\n",
    "    bert_layer = hub.KerasLayer(handle=callable_object, trainable=True)  \n",
    "   \n",
    "    # BERT layer three inputs: ids, masks and segments\n",
    "    input_ids = Input(shape=(MAX_SEQ_LEN,), dtype=tf.int32, name=\"input_ids\")           \n",
    "    input_masks = Input(shape=(MAX_SEQ_LEN,), dtype=tf.int32, name=\"input_masks\")       \n",
    "    input_segments = Input(shape=(MAX_SEQ_LEN,), dtype=tf.int32, name=\"segment_ids\")\n",
    "    \n",
    "    inputs = [input_ids, input_masks, input_segments] # BERT inputs\n",
    "    pooled_output, sequence_output = bert_layer(inputs) # BERT outputs\n",
    "    \n",
    "    # Add a hidden layer\n",
    "    x = Dense(units=768, activation='relu')(pooled_output)\n",
    "    x = Dropout(0.1)(x)\n",
    " \n",
    "    # Add output layer\n",
    "    outputs = Dense(1, activation=\"sigmoid\")(x)\n",
    "\n",
    "    # Construct a new model\n",
    "    model = Model(inputs=inputs, outputs=outputs)\n",
    "    return model\n",
    "\n",
    "model = bert_model(\"https://tfhub.dev/tensorflow/bert_en_uncased_L-12_H-768_A-12/1\")\n",
    "model.summary()"
   ]
  },
  {
   "cell_type": "code",
   "execution_count": 24,
   "metadata": {},
   "outputs": [
    {
     "name": "stderr",
     "output_type": "stream",
     "text": [
      "/home/lin_menghsien/anaconda3/lib/python3.7/site-packages/ipykernel_launcher.py:1: SettingWithCopyWarning: \n",
      "A value is trying to be set on a copy of a slice from a DataFrame.\n",
      "Try using .loc[row_indexer,col_indexer] = value instead\n",
      "\n",
      "See the caveats in the documentation: https://pandas.pydata.org/pandas-docs/stable/user_guide/indexing.html#returning-a-view-versus-a-copy\n",
      "  \"\"\"Entry point for launching an IPython kernel.\n"
     ]
    }
   ],
   "source": [
    "df['quality_rank'] = df['quality_rank'].astype(int)"
   ]
  },
  {
   "cell_type": "code",
   "execution_count": 25,
   "metadata": {},
   "outputs": [
    {
     "name": "stderr",
     "output_type": "stream",
     "text": [
      "100%|██████████| 4000/4000 [00:08<00:00, 480.28it/s]\n",
      "100%|██████████| 1000/1000 [00:02<00:00, 496.11it/s]\n"
     ]
    }
   ],
   "source": [
    "# Create examples for training and testing\n",
    "df = df.sample(frac=1) # Shuffle the dataset\n",
    "tokenizer = create_tonkenizer(model.layers[3])\n",
    "X_train = convert_sentences_to_features(df['text'][:4000], tokenizer)\n",
    "X_test = convert_sentences_to_features(df['text'][4000:], tokenizer)\n",
    "\n",
    "# this one_hot_encoded seems like for multi-class\n",
    "#one_hot_encoded = to_categorical(df['quality_rank'].values)\n",
    "#y_train = one_hot_encoded[:4000]\n",
    "#y_test =  one_hot_encoded[4000:]\n",
    "\n",
    "# for binary classification, since in the loss function I use binary_crossentropy, looks like prefer this single array\n",
    "y_train = df['quality_rank'][:4000]\n",
    "y_test =  df['quality_rank'][4000:]\n",
    "\n",
    "\n"
   ]
  },
  {
   "cell_type": "code",
   "execution_count": 28,
   "metadata": {},
   "outputs": [
    {
     "data": {
      "text/plain": [
       "0    2650\n",
       "1    1350\n",
       "Name: quality_rank, dtype: int64"
      ]
     },
     "execution_count": 28,
     "metadata": {},
     "output_type": "execute_result"
    }
   ],
   "source": [
    "y_train.value_counts()"
   ]
  },
  {
   "cell_type": "code",
   "execution_count": 30,
   "metadata": {},
   "outputs": [
    {
     "data": {
      "text/plain": [
       "0    659\n",
       "1    341\n",
       "Name: quality_rank, dtype: int64"
      ]
     },
     "execution_count": 30,
     "metadata": {},
     "output_type": "execute_result"
    }
   ],
   "source": [
    "y_test.value_counts()"
   ]
  },
  {
   "cell_type": "code",
   "execution_count": 26,
   "metadata": {
    "scrolled": true
   },
   "outputs": [
    {
     "name": "stdout",
     "output_type": "stream",
     "text": [
      "Train on 4000 samples, validate on 1000 samples\n",
      "4000/4000 [==============================] - 8195s 2s/sample - loss: 0.6444 - accuracy: 0.6575 - val_loss: 0.6380 - val_accuracy: 0.6590\n"
     ]
    }
   ],
   "source": [
    "# Train the model\n",
    "BATCH_SIZE = 10\n",
    "EPOCHS = 1\n",
    "\n",
    "# Use Adam optimizer to minimize the categorical_crossentropy loss\n",
    "opt = Adam(learning_rate=2e-5)\n",
    "model.compile(optimizer=opt, \n",
    "              loss='binary_crossentropy', \n",
    "              metrics=['accuracy'])\n",
    "\n",
    "# Fit the data to the model\n",
    "history = model.fit(X_train, y_train,\n",
    "                    validation_data=(X_test, y_test),\n",
    "                    epochs=EPOCHS,\n",
    "                    batch_size=BATCH_SIZE,\n",
    "                    verbose = 1)\n",
    "\n",
    "# Save the trained model\n",
    "model.save('bert_model_quality_index_4.h5')\n",
    "model.save_weights('bert_weights_quality_index_4.h5')"
   ]
  },
  {
   "cell_type": "markdown",
   "metadata": {},
   "source": [
    "# Load the pretrained nlp_model\n",
    "from tensorflow.keras.models import load_model\n",
    "\n",
    "new_model = load_model('bert_model.h5',custom_objects={'KerasLayer':hub.KerasLayer})"
   ]
  },
  {
   "cell_type": "code",
   "execution_count": 22,
   "metadata": {},
   "outputs": [],
   "source": [
    "# Predict on test dataset\n",
    "from sklearn.metrics import classification_report\n",
    "pred_test = np.argmax(model.predict(X_test), axis=1)"
   ]
  },
  {
   "cell_type": "code",
   "execution_count": 23,
   "metadata": {},
   "outputs": [
    {
     "name": "stdout",
     "output_type": "stream",
     "text": [
      "              precision    recall  f1-score   support\n",
      "\n",
      "           0       0.91      1.00      0.95      1815\n",
      "           1       0.00      0.00      0.00       185\n",
      "\n",
      "    accuracy                           0.91      2000\n",
      "   macro avg       0.45      0.50      0.48      2000\n",
      "weighted avg       0.82      0.91      0.86      2000\n",
      "\n"
     ]
    },
    {
     "name": "stderr",
     "output_type": "stream",
     "text": [
      "/home/lin_menghsien/anaconda3/lib/python3.7/site-packages/sklearn/metrics/_classification.py:1272: UndefinedMetricWarning: Precision and F-score are ill-defined and being set to 0.0 in labels with no predicted samples. Use `zero_division` parameter to control this behavior.\n",
      "  _warn_prf(average, modifier, msg_start, len(result))\n"
     ]
    }
   ],
   "source": [
    "print(classification_report(np.argmax(y_test,axis=1), pred_test))"
   ]
  },
  {
   "cell_type": "code",
   "execution_count": 31,
   "metadata": {},
   "outputs": [
    {
     "data": {
      "text/plain": [
       "(array([0]), array([2000]))"
      ]
     },
     "execution_count": 31,
     "metadata": {},
     "output_type": "execute_result"
    }
   ],
   "source": [
    "np.unique(pred_test, return_counts = True)"
   ]
  },
  {
   "cell_type": "code",
   "execution_count": 25,
   "metadata": {},
   "outputs": [],
   "source": [
    "# Predict on train dataset\n",
    "from sklearn.metrics import classification_report\n",
    "pred_train = np.argmax(model.predict(X_train), axis=1)"
   ]
  },
  {
   "cell_type": "code",
   "execution_count": 26,
   "metadata": {},
   "outputs": [
    {
     "name": "stdout",
     "output_type": "stream",
     "text": [
      "              precision    recall  f1-score   support\n",
      "\n",
      "           0       0.90      1.00      0.95      7185\n",
      "           1       0.00      0.00      0.00       815\n",
      "\n",
      "    accuracy                           0.90      8000\n",
      "   macro avg       0.45      0.50      0.47      8000\n",
      "weighted avg       0.81      0.90      0.85      8000\n",
      "\n"
     ]
    }
   ],
   "source": [
    "print(classification_report(np.argmax(y_train,axis=1), pred_train))"
   ]
  },
  {
   "cell_type": "code",
   "execution_count": 24,
   "metadata": {},
   "outputs": [],
   "source": [
    "model.save_weights('bert_weights.h5')"
   ]
  },
  {
   "cell_type": "code",
   "execution_count": 30,
   "metadata": {},
   "outputs": [
    {
     "data": {
      "text/plain": [
       "(array([0]), array([8000]))"
      ]
     },
     "execution_count": 30,
     "metadata": {},
     "output_type": "execute_result"
    }
   ],
   "source": [
    "np.unique(pred_train, return_counts = True)"
   ]
  },
  {
   "cell_type": "code",
   "execution_count": null,
   "metadata": {},
   "outputs": [],
   "source": []
  }
 ],
 "metadata": {
  "kernelspec": {
   "display_name": "Python 3",
   "language": "python",
   "name": "python3"
  },
  "language_info": {
   "codemirror_mode": {
    "name": "ipython",
    "version": 3
   },
   "file_extension": ".py",
   "mimetype": "text/x-python",
   "name": "python",
   "nbconvert_exporter": "python",
   "pygments_lexer": "ipython3",
   "version": "3.7.6"
  }
 },
 "nbformat": 4,
 "nbformat_minor": 4
}
