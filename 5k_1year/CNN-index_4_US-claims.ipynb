{
 "cells": [
  {
   "cell_type": "code",
   "execution_count": 1,
   "metadata": {},
   "outputs": [],
   "source": [
    "import pandas as pd\n",
    "import numpy as np\n",
    "\n"
   ]
  },
  {
   "cell_type": "code",
   "execution_count": 2,
   "metadata": {
    "scrolled": true
   },
   "outputs": [
    {
     "data": {
      "text/html": [
       "<div>\n",
       "<style scoped>\n",
       "    .dataframe tbody tr th:only-of-type {\n",
       "        vertical-align: middle;\n",
       "    }\n",
       "\n",
       "    .dataframe tbody tr th {\n",
       "        vertical-align: top;\n",
       "    }\n",
       "\n",
       "    .dataframe thead th {\n",
       "        text-align: right;\n",
       "    }\n",
       "</style>\n",
       "<table border=\"1\" class=\"dataframe\">\n",
       "  <thead>\n",
       "    <tr style=\"text-align: right;\">\n",
       "      <th></th>\n",
       "      <th>publication_number</th>\n",
       "      <th>abstract_text</th>\n",
       "      <th>filing_date</th>\n",
       "      <th>title_text</th>\n",
       "      <th>claims_text</th>\n",
       "      <th>publication_number_match</th>\n",
       "      <th>appln_id</th>\n",
       "      <th>pub_nbr</th>\n",
       "      <th>filing</th>\n",
       "      <th>tech_field</th>\n",
       "      <th>...</th>\n",
       "      <th>fwd_cits7</th>\n",
       "      <th>breakthrough</th>\n",
       "      <th>generality</th>\n",
       "      <th>originality</th>\n",
       "      <th>radicalness</th>\n",
       "      <th>renewal</th>\n",
       "      <th>quality_index_4</th>\n",
       "      <th>quality_index_6</th>\n",
       "      <th>quality_rank</th>\n",
       "      <th>text</th>\n",
       "    </tr>\n",
       "  </thead>\n",
       "  <tbody>\n",
       "    <tr>\n",
       "      <th>54639</th>\n",
       "      <td>US-8014303-B2</td>\n",
       "      <td>A network device may include logic configured ...</td>\n",
       "      <td>20101229</td>\n",
       "      <td>Systems and methods for interfacing with netwo...</td>\n",
       "      <td>1. A device comprising:\\n memory to store inst...</td>\n",
       "      <td>US08014303</td>\n",
       "      <td>333595253</td>\n",
       "      <td>US08014303</td>\n",
       "      <td>2010</td>\n",
       "      <td>4</td>\n",
       "      <td>...</td>\n",
       "      <td>3</td>\n",
       "      <td>0</td>\n",
       "      <td>0.593750</td>\n",
       "      <td>0.751486</td>\n",
       "      <td>0.137931</td>\n",
       "      <td>5.0</td>\n",
       "      <td>0.250936</td>\n",
       "      <td>0.326616</td>\n",
       "      <td>0</td>\n",
       "      <td>Systems and methods for interfacing with netwo...</td>\n",
       "    </tr>\n",
       "    <tr>\n",
       "      <th>45032</th>\n",
       "      <td>US-9114955-B2</td>\n",
       "      <td>Provided is a control device for an elevator t...</td>\n",
       "      <td>20101208</td>\n",
       "      <td>Control device for elevator</td>\n",
       "      <td>The invention claimed is: \\n     \\n       1. A...</td>\n",
       "      <td>US09114955</td>\n",
       "      <td>380228413</td>\n",
       "      <td>US09114955</td>\n",
       "      <td>2010</td>\n",
       "      <td>6</td>\n",
       "      <td>...</td>\n",
       "      <td>4</td>\n",
       "      <td>0</td>\n",
       "      <td>0.619062</td>\n",
       "      <td>0.279297</td>\n",
       "      <td>0.093750</td>\n",
       "      <td>5.0</td>\n",
       "      <td>0.315645</td>\n",
       "      <td>0.289177</td>\n",
       "      <td>1</td>\n",
       "      <td>Control device for elevator. Provided is a con...</td>\n",
       "    </tr>\n",
       "    <tr>\n",
       "      <th>49357</th>\n",
       "      <td>US-8737855-B2</td>\n",
       "      <td>A plurality of test patches each including a d...</td>\n",
       "      <td>20100927</td>\n",
       "      <td>Image forming apparatus and density unevenness...</td>\n",
       "      <td>What is claimed is: \\n     \\n       1. An imag...</td>\n",
       "      <td>US08737855</td>\n",
       "      <td>333087673</td>\n",
       "      <td>US08737855</td>\n",
       "      <td>2010</td>\n",
       "      <td>9</td>\n",
       "      <td>...</td>\n",
       "      <td>9</td>\n",
       "      <td>0</td>\n",
       "      <td>0.499528</td>\n",
       "      <td>0.805556</td>\n",
       "      <td>0.583333</td>\n",
       "      <td>4.0</td>\n",
       "      <td>0.254967</td>\n",
       "      <td>0.250367</td>\n",
       "      <td>0</td>\n",
       "      <td>Image forming apparatus and density unevenness...</td>\n",
       "    </tr>\n",
       "    <tr>\n",
       "      <th>151718</th>\n",
       "      <td>US-8531163-B2</td>\n",
       "      <td>To provide a switching power supply device, an...</td>\n",
       "      <td>20100312</td>\n",
       "      <td>Switching power supply device, integrated circ...</td>\n",
       "      <td>The invention claimed is: \\n     \\n       1. A...</td>\n",
       "      <td>US08531163</td>\n",
       "      <td>341889903</td>\n",
       "      <td>US08531163</td>\n",
       "      <td>2010</td>\n",
       "      <td>12</td>\n",
       "      <td>...</td>\n",
       "      <td>15</td>\n",
       "      <td>0</td>\n",
       "      <td>0.713139</td>\n",
       "      <td>0.830487</td>\n",
       "      <td>0.755102</td>\n",
       "      <td>7.0</td>\n",
       "      <td>0.324680</td>\n",
       "      <td>0.317031</td>\n",
       "      <td>1</td>\n",
       "      <td>Switching power supply device, integrated circ...</td>\n",
       "    </tr>\n",
       "    <tr>\n",
       "      <th>102001</th>\n",
       "      <td>US-9626390-B2</td>\n",
       "      <td>In one general aspect, a computer system can i...</td>\n",
       "      <td>20101227</td>\n",
       "      <td>Shadow system start during upgrade of an origi...</td>\n",
       "      <td>What is claimed is: \\n     \\n       1. A compu...</td>\n",
       "      <td>US09626390</td>\n",
       "      <td>364671666</td>\n",
       "      <td>US09626390</td>\n",
       "      <td>2010</td>\n",
       "      <td>6</td>\n",
       "      <td>...</td>\n",
       "      <td>9</td>\n",
       "      <td>0</td>\n",
       "      <td>0.000000</td>\n",
       "      <td>0.786048</td>\n",
       "      <td>0.072000</td>\n",
       "      <td>7.0</td>\n",
       "      <td>0.135417</td>\n",
       "      <td>0.172861</td>\n",
       "      <td>0</td>\n",
       "      <td>Shadow system start during upgrade of an origi...</td>\n",
       "    </tr>\n",
       "    <tr>\n",
       "      <th>...</th>\n",
       "      <td>...</td>\n",
       "      <td>...</td>\n",
       "      <td>...</td>\n",
       "      <td>...</td>\n",
       "      <td>...</td>\n",
       "      <td>...</td>\n",
       "      <td>...</td>\n",
       "      <td>...</td>\n",
       "      <td>...</td>\n",
       "      <td>...</td>\n",
       "      <td>...</td>\n",
       "      <td>...</td>\n",
       "      <td>...</td>\n",
       "      <td>...</td>\n",
       "      <td>...</td>\n",
       "      <td>...</td>\n",
       "      <td>...</td>\n",
       "      <td>...</td>\n",
       "      <td>...</td>\n",
       "      <td>...</td>\n",
       "      <td>...</td>\n",
       "    </tr>\n",
       "    <tr>\n",
       "      <th>89503</th>\n",
       "      <td>US-8815989-B2</td>\n",
       "      <td>The invention aims to provide a resin composit...</td>\n",
       "      <td>20101110</td>\n",
       "      <td>Resin composition for coating material</td>\n",
       "      <td>The invention claimed is: \\n     \\n       1. A...</td>\n",
       "      <td>US08815989</td>\n",
       "      <td>376848395</td>\n",
       "      <td>US08815989</td>\n",
       "      <td>2010</td>\n",
       "      <td>19</td>\n",
       "      <td>...</td>\n",
       "      <td>5</td>\n",
       "      <td>0</td>\n",
       "      <td>0.674311</td>\n",
       "      <td>0.943568</td>\n",
       "      <td>0.471910</td>\n",
       "      <td>4.0</td>\n",
       "      <td>0.325126</td>\n",
       "      <td>0.318887</td>\n",
       "      <td>1</td>\n",
       "      <td>Resin composition for coating material. The in...</td>\n",
       "    </tr>\n",
       "    <tr>\n",
       "      <th>42696</th>\n",
       "      <td>US-8704454-B2</td>\n",
       "      <td>A method includes forming one or more capacito...</td>\n",
       "      <td>20101013</td>\n",
       "      <td>Integrated driver system architecture for ligh...</td>\n",
       "      <td>What is claimed is: \\n     \\n       1. A metho...</td>\n",
       "      <td>US08704454</td>\n",
       "      <td>333369342</td>\n",
       "      <td>US08704454</td>\n",
       "      <td>2010</td>\n",
       "      <td>1</td>\n",
       "      <td>...</td>\n",
       "      <td>3</td>\n",
       "      <td>0</td>\n",
       "      <td>0.592089</td>\n",
       "      <td>0.932416</td>\n",
       "      <td>0.776699</td>\n",
       "      <td>4.0</td>\n",
       "      <td>0.308532</td>\n",
       "      <td>0.309862</td>\n",
       "      <td>1</td>\n",
       "      <td>Integrated driver system architecture for ligh...</td>\n",
       "    </tr>\n",
       "    <tr>\n",
       "      <th>105030</th>\n",
       "      <td>US-8809921-B2</td>\n",
       "      <td>A solid-state imaging apparatus includes a plu...</td>\n",
       "      <td>20101222</td>\n",
       "      <td>Solid-state imaging apparatus, method of manuf...</td>\n",
       "      <td>What is claimed is: \\n     \\n       1. A solid...</td>\n",
       "      <td>US08809921</td>\n",
       "      <td>335867166</td>\n",
       "      <td>US08809921</td>\n",
       "      <td>2010</td>\n",
       "      <td>8</td>\n",
       "      <td>...</td>\n",
       "      <td>6</td>\n",
       "      <td>0</td>\n",
       "      <td>0.485926</td>\n",
       "      <td>0.723776</td>\n",
       "      <td>0.390244</td>\n",
       "      <td>4.0</td>\n",
       "      <td>0.298260</td>\n",
       "      <td>0.294224</td>\n",
       "      <td>0</td>\n",
       "      <td>Solid-state imaging apparatus, method of manuf...</td>\n",
       "    </tr>\n",
       "    <tr>\n",
       "      <th>171202</th>\n",
       "      <td>US-9149407-B2</td>\n",
       "      <td>A device for therapeutically treating and/or t...</td>\n",
       "      <td>20100521</td>\n",
       "      <td>Device for therapeutically treating and/or tra...</td>\n",
       "      <td>The invention claimed is: \\n     \\n       1. A...</td>\n",
       "      <td>US09149407</td>\n",
       "      <td>353322751</td>\n",
       "      <td>US09149407</td>\n",
       "      <td>2010</td>\n",
       "      <td>33</td>\n",
       "      <td>...</td>\n",
       "      <td>6</td>\n",
       "      <td>0</td>\n",
       "      <td>0.284082</td>\n",
       "      <td>0.862222</td>\n",
       "      <td>0.120000</td>\n",
       "      <td>5.0</td>\n",
       "      <td>0.362534</td>\n",
       "      <td>0.304468</td>\n",
       "      <td>1</td>\n",
       "      <td>Device for therapeutically treating and/or tra...</td>\n",
       "    </tr>\n",
       "    <tr>\n",
       "      <th>158355</th>\n",
       "      <td>US-8971214-B2</td>\n",
       "      <td>A method and apparatus for acquiring a Traffic...</td>\n",
       "      <td>20100424</td>\n",
       "      <td>Method and apparatus for acquiring traffic-eng...</td>\n",
       "      <td>What is claimed is: \\n     \\n       1. A metho...</td>\n",
       "      <td>US08971214</td>\n",
       "      <td>376846678</td>\n",
       "      <td>US08971214</td>\n",
       "      <td>2010</td>\n",
       "      <td>4</td>\n",
       "      <td>...</td>\n",
       "      <td>3</td>\n",
       "      <td>0</td>\n",
       "      <td>0.000000</td>\n",
       "      <td>0.486250</td>\n",
       "      <td>0.225000</td>\n",
       "      <td>5.0</td>\n",
       "      <td>0.075490</td>\n",
       "      <td>0.123676</td>\n",
       "      <td>0</td>\n",
       "      <td>Method and apparatus for acquiring traffic-eng...</td>\n",
       "    </tr>\n",
       "  </tbody>\n",
       "</table>\n",
       "<p>5000 rows × 29 columns</p>\n",
       "</div>"
      ],
      "text/plain": [
       "       publication_number                                      abstract_text  \\\n",
       "54639       US-8014303-B2  A network device may include logic configured ...   \n",
       "45032       US-9114955-B2  Provided is a control device for an elevator t...   \n",
       "49357       US-8737855-B2  A plurality of test patches each including a d...   \n",
       "151718      US-8531163-B2  To provide a switching power supply device, an...   \n",
       "102001      US-9626390-B2  In one general aspect, a computer system can i...   \n",
       "...                   ...                                                ...   \n",
       "89503       US-8815989-B2  The invention aims to provide a resin composit...   \n",
       "42696       US-8704454-B2  A method includes forming one or more capacito...   \n",
       "105030      US-8809921-B2  A solid-state imaging apparatus includes a plu...   \n",
       "171202      US-9149407-B2  A device for therapeutically treating and/or t...   \n",
       "158355      US-8971214-B2  A method and apparatus for acquiring a Traffic...   \n",
       "\n",
       "        filing_date                                         title_text  \\\n",
       "54639      20101229  Systems and methods for interfacing with netwo...   \n",
       "45032      20101208                        Control device for elevator   \n",
       "49357      20100927  Image forming apparatus and density unevenness...   \n",
       "151718     20100312  Switching power supply device, integrated circ...   \n",
       "102001     20101227  Shadow system start during upgrade of an origi...   \n",
       "...             ...                                                ...   \n",
       "89503      20101110             Resin composition for coating material   \n",
       "42696      20101013  Integrated driver system architecture for ligh...   \n",
       "105030     20101222  Solid-state imaging apparatus, method of manuf...   \n",
       "171202     20100521  Device for therapeutically treating and/or tra...   \n",
       "158355     20100424  Method and apparatus for acquiring traffic-eng...   \n",
       "\n",
       "                                              claims_text  \\\n",
       "54639   1. A device comprising:\\n memory to store inst...   \n",
       "45032   The invention claimed is: \\n     \\n       1. A...   \n",
       "49357   What is claimed is: \\n     \\n       1. An imag...   \n",
       "151718  The invention claimed is: \\n     \\n       1. A...   \n",
       "102001  What is claimed is: \\n     \\n       1. A compu...   \n",
       "...                                                   ...   \n",
       "89503   The invention claimed is: \\n     \\n       1. A...   \n",
       "42696   What is claimed is: \\n     \\n       1. A metho...   \n",
       "105030  What is claimed is: \\n     \\n       1. A solid...   \n",
       "171202  The invention claimed is: \\n     \\n       1. A...   \n",
       "158355  What is claimed is: \\n     \\n       1. A metho...   \n",
       "\n",
       "       publication_number_match   appln_id     pub_nbr  filing  tech_field  \\\n",
       "54639                US08014303  333595253  US08014303    2010           4   \n",
       "45032                US09114955  380228413  US09114955    2010           6   \n",
       "49357                US08737855  333087673  US08737855    2010           9   \n",
       "151718               US08531163  341889903  US08531163    2010          12   \n",
       "102001               US09626390  364671666  US09626390    2010           6   \n",
       "...                         ...        ...         ...     ...         ...   \n",
       "89503                US08815989  376848395  US08815989    2010          19   \n",
       "42696                US08704454  333369342  US08704454    2010           1   \n",
       "105030               US08809921  335867166  US08809921    2010           8   \n",
       "171202               US09149407  353322751  US09149407    2010          33   \n",
       "158355               US08971214  376846678  US08971214    2010           4   \n",
       "\n",
       "        ...  fwd_cits7  breakthrough  generality  originality  radicalness  \\\n",
       "54639   ...          3             0    0.593750     0.751486     0.137931   \n",
       "45032   ...          4             0    0.619062     0.279297     0.093750   \n",
       "49357   ...          9             0    0.499528     0.805556     0.583333   \n",
       "151718  ...         15             0    0.713139     0.830487     0.755102   \n",
       "102001  ...          9             0    0.000000     0.786048     0.072000   \n",
       "...     ...        ...           ...         ...          ...          ...   \n",
       "89503   ...          5             0    0.674311     0.943568     0.471910   \n",
       "42696   ...          3             0    0.592089     0.932416     0.776699   \n",
       "105030  ...          6             0    0.485926     0.723776     0.390244   \n",
       "171202  ...          6             0    0.284082     0.862222     0.120000   \n",
       "158355  ...          3             0    0.000000     0.486250     0.225000   \n",
       "\n",
       "        renewal  quality_index_4  quality_index_6  quality_rank  \\\n",
       "54639       5.0         0.250936         0.326616             0   \n",
       "45032       5.0         0.315645         0.289177             1   \n",
       "49357       4.0         0.254967         0.250367             0   \n",
       "151718      7.0         0.324680         0.317031             1   \n",
       "102001      7.0         0.135417         0.172861             0   \n",
       "...         ...              ...              ...           ...   \n",
       "89503       4.0         0.325126         0.318887             1   \n",
       "42696       4.0         0.308532         0.309862             1   \n",
       "105030      4.0         0.298260         0.294224             0   \n",
       "171202      5.0         0.362534         0.304468             1   \n",
       "158355      5.0         0.075490         0.123676             0   \n",
       "\n",
       "                                                     text  \n",
       "54639   Systems and methods for interfacing with netwo...  \n",
       "45032   Control device for elevator. Provided is a con...  \n",
       "49357   Image forming apparatus and density unevenness...  \n",
       "151718  Switching power supply device, integrated circ...  \n",
       "102001  Shadow system start during upgrade of an origi...  \n",
       "...                                                   ...  \n",
       "89503   Resin composition for coating material. The in...  \n",
       "42696   Integrated driver system architecture for ligh...  \n",
       "105030  Solid-state imaging apparatus, method of manuf...  \n",
       "171202  Device for therapeutically treating and/or tra...  \n",
       "158355  Method and apparatus for acquiring traffic-eng...  \n",
       "\n",
       "[5000 rows x 29 columns]"
      ]
     },
     "execution_count": 2,
     "metadata": {},
     "output_type": "execute_result"
    }
   ],
   "source": [
    "df = pd.read_csv('US_patent_abstract_5000_2015_with_title_1.csv', index_col = 0)\n",
    "df"
   ]
  },
  {
   "cell_type": "code",
   "execution_count": 3,
   "metadata": {},
   "outputs": [
    {
     "data": {
      "text/plain": [
       "'1. A device comprising:\\n memory to store instructions, where the device is a first device; and \\n a processor to execute the instructions to:\\n receive a first message and a second message from a second device, where the first message and the second message differ, and where the first message includes a first header and first event data and the second message includes a second header and second event data, \\n identify, based on the first header and the second header, that the first message and the second messages are problem reports, \\n process, in response to identifying the first message and the second messages as the problem reports, the first event data to determine that the first event data, in the first message, is associated with a particular reconfiguration information, of a plurality of reconfiguration information corresponding with the second device, \\n process, in response to identifying the first message and the second messages as the problem reports, the second event data to determine that the second event data in the second message is not associated with any of the plurality of reconfiguration information, \\n transmit the particular reconfiguration information to the second device in response to the first message, \\n determine additional information based on processing the second event data, \\n form, based on processing the second event data, a reformatted second message, including the adding additional information to the second message, and \\n transmit the second reformatted problem report to a third device. \\n \\n \\n     \\n     \\n       2. The device of  claim 1 , where the processor, when processing the first event data, is further to:\\n identify, based on the first event data, a first type of event that occurred in the second device that led to generation of the first message; and \\n determine the reconfiguration information based on the identified first type of event that occurred in the second device. \\n \\n     \\n     \\n       3. The device of  claim 1 , where the processor, when determining the additional information, is further to:\\n identify, based on the second event data, a second type of event that occurred in the second device that led to generation of the second message; and \\n determine the additional information based on the identified second type of event that occurred in the second device. \\n \\n     \\n     \\n       4. The device of  claim 3 , where the information added to the reformatted second message, based on the identified second type of event, includes an alert, to the third device, related to the identified second type of event at the second device. \\n     \\n     \\n       5. The device of  claim 1 , where the processor, when determining the additional information, is further to:\\n identify the additional information based on an attribute of the third device that receives the reformatted second message. \\n \\n     \\n     \\n       6. The device of  claim 1 , where the additional information includes an action to be performed by the third device in response to the receiving the reformatted second message. \\n     \\n     \\n       7. The device of  claim 1 , where the processor, when forming the reformatted problem report, is further to:\\n identify confidential data in the second message; and \\n filter out the confidential data in the reformatted second message prior to transmitting the reformatted second message to the third device. \\n \\n     \\n     \\n       8. The device of  claim 1 , where the reconfiguration information includes at least one of a software process or a script associated with the second event data. \\n     \\n     \\n       9. A method, performed by a device, the method comprising:\\n associating one of an action or reconfiguration information with each of a plurality of event data types; \\n receiving a first message from a first device, where the first message includes a first problem report that includes a first type of event data, of the plurality of event data types, where the first type of event data is associated with a particular action; \\n receiving a second message from the first device, where the second message includes a second problem report that includes a second type of event data, of the plurality of event data types, where the second type of event data is associated with a particular reconfiguration information; \\n forming a third problem report based on the first message, where the third problem report includes an indication of the first type of event data, from the first report, and the particular action associated with the first type of event data from the first message; \\n transmitting the third problem report to a second device; \\n forming a fourth problem report based on the second message, where the fourth problem report includes an indication of the second type of event data, from the second report, and the particular reconfiguration information associated with the second type of event data from the second message; and \\n transmitting the fourth problem report to the first device. \\n \\n     \\n     \\n       10. The method of  claim 9 , where forming the third problem report further includes:\\n including security information and timestamp information, associated with the first message, in the third problem report. \\n \\n     \\n     \\n       11. The method of  claim 9 , where the third problem report includes information to enable the second device to perform the particular action associated with the first type of event data included in the first message. \\n     \\n     \\n       12. The method of  claim 11 , where the second device is associated with a customer intelligence database, and\\n where the particular action includes:\\n analyzing data from the third problem report, and \\n storing the analyzed data, from the third problem report, in the customer intelligence database. \\n \\n \\n     \\n     \\n       13. The method of  claim 9 , where the particular action includes:\\n determining, by the second device, another reconfiguration information associated with the first device and the first type of event data from the first message, where the reconfiguration information includes at least one of a software process or a script; and \\n forwarding, from the second device, the other reconfiguration information to the first device. \\n \\n     \\n     \\n       14. The method of  claim 13 , where the reconfiguration information includes data to correct an event that occurred in the first device, where the first type of event data is associated with the event. \\n     \\n     \\n       15. The method of  claim 13 , where the second device is associated with a vendor of the first device. \\n     \\n     \\n       16. A non-transient memory device comprising instructions executable by a processor of a device, the instructions including:\\n one or more instructions to receive a first message from a downstream device; \\n one or more instructions to identify events included in the first message; \\n one or more instructions to store and associate at least one of reconfiguration information, an action, or an alert with an identified event included in the first message; \\n one or more instructions to form a second message, where the second message includes the identified event from the first message and the at least one of the reconfiguration information, the action, or the alert associated with the identified event; \\n one or more instructions to transmit the second message that includes at least one of the action or the alert to an upstream device when there is no reconfiguration information associated with the identified event included in the second message; and \\n one or more instructions to transmit the second message to the downstream device when there is reconfiguration information associated with the identified event included in the second message. \\n \\n     \\n     \\n       17. The non-transient memory device of  claim 16 , where the one or more instructions to form a second message include:\\n one or more instructions to filter out confidential data included in the first message. \\n \\n     \\n     \\n       18. The non-transient memory device of  claim 16 , where the one or more instructions to form a second message include:\\n one or more instructions to include security information and timestamp information, associated with the first message, in the second message. \\n \\n     \\n     \\n       19. The non-transient memory device of  claim 16 , where the one or more instructions to transmit the second message include:\\n one or more instructions to receive, from the upstream device, the reconfiguration information; and \\n one or more instructions to forward, to the downstream device, the received reconfiguration information from the upstream device. \\n \\n     \\n     \\n       20. The non-transient memory device of  claim 16 , where the instructions further include:\\n one or more instructions to determine the reconfiguration information based on the identified event from the first message.'"
      ]
     },
     "execution_count": 3,
     "metadata": {},
     "output_type": "execute_result"
    }
   ],
   "source": [
    "df['claims_text'].iloc[0]"
   ]
  },
  {
   "cell_type": "code",
   "execution_count": 4,
   "metadata": {},
   "outputs": [],
   "source": [
    "import matplotlib\n",
    "import matplotlib.pyplot as plt\n",
    "%matplotlib inline"
   ]
  },
  {
   "cell_type": "code",
   "execution_count": 5,
   "metadata": {},
   "outputs": [
    {
     "data": {
      "image/png": "[encoded data removed]",
      "text/plain": [
       "<Figure size 432x288 with 1 Axes>"
      ]
     },
     "metadata": {
      "needs_background": "light"
     },
     "output_type": "display_data"
    }
   ],
   "source": [
    "plt.hist(df['quality_index_4'], density=False)  # `density=False` would make counts\n",
    "plt.ylabel('Frequency')\n",
    "plt.xlabel('Quality_Index_4');"
   ]
  },
  {
   "cell_type": "code",
   "execution_count": 6,
   "metadata": {},
   "outputs": [
    {
     "data": {
      "text/plain": [
       "0.278783736036865"
      ]
     },
     "execution_count": 6,
     "metadata": {},
     "output_type": "execute_result"
    }
   ],
   "source": [
    "df['quality_index_4'].quantile(q=0.5)"
   ]
  },
  {
   "cell_type": "code",
   "execution_count": 7,
   "metadata": {},
   "outputs": [
    {
     "data": {
      "text/plain": [
       "54639     1352\n",
       "45032      389\n",
       "49357     1327\n",
       "151718    1104\n",
       "102001    1662\n",
       "          ... \n",
       "89503      986\n",
       "42696     1653\n",
       "105030     608\n",
       "171202     664\n",
       "158355    1382\n",
       "Name: claims_text, Length: 5000, dtype: int64"
      ]
     },
     "execution_count": 7,
     "metadata": {},
     "output_type": "execute_result"
    }
   ],
   "source": [
    "df['claims_text'].str.split().str.len()"
   ]
  },
  {
   "cell_type": "code",
   "execution_count": 8,
   "metadata": {},
   "outputs": [
    {
     "data": {
      "text/html": [
       "<div>\n",
       "<style scoped>\n",
       "    .dataframe tbody tr th:only-of-type {\n",
       "        vertical-align: middle;\n",
       "    }\n",
       "\n",
       "    .dataframe tbody tr th {\n",
       "        vertical-align: top;\n",
       "    }\n",
       "\n",
       "    .dataframe thead th {\n",
       "        text-align: right;\n",
       "    }\n",
       "</style>\n",
       "<table border=\"1\" class=\"dataframe\">\n",
       "  <thead>\n",
       "    <tr style=\"text-align: right;\">\n",
       "      <th></th>\n",
       "      <th>publication_number</th>\n",
       "      <th>abstract_text</th>\n",
       "      <th>filing_date</th>\n",
       "      <th>title_text</th>\n",
       "      <th>claims_text</th>\n",
       "      <th>publication_number_match</th>\n",
       "      <th>appln_id</th>\n",
       "      <th>pub_nbr</th>\n",
       "      <th>filing</th>\n",
       "      <th>tech_field</th>\n",
       "      <th>...</th>\n",
       "      <th>breakthrough</th>\n",
       "      <th>generality</th>\n",
       "      <th>originality</th>\n",
       "      <th>radicalness</th>\n",
       "      <th>renewal</th>\n",
       "      <th>quality_index_4</th>\n",
       "      <th>quality_index_6</th>\n",
       "      <th>quality_rank</th>\n",
       "      <th>text</th>\n",
       "      <th>claims_length</th>\n",
       "    </tr>\n",
       "  </thead>\n",
       "  <tbody>\n",
       "    <tr>\n",
       "      <th>54639</th>\n",
       "      <td>US-8014303-B2</td>\n",
       "      <td>A network device may include logic configured ...</td>\n",
       "      <td>20101229</td>\n",
       "      <td>Systems and methods for interfacing with netwo...</td>\n",
       "      <td>1. A device comprising:\\n memory to store inst...</td>\n",
       "      <td>US08014303</td>\n",
       "      <td>333595253</td>\n",
       "      <td>US08014303</td>\n",
       "      <td>2010</td>\n",
       "      <td>4</td>\n",
       "      <td>...</td>\n",
       "      <td>0</td>\n",
       "      <td>0.593750</td>\n",
       "      <td>0.751486</td>\n",
       "      <td>0.137931</td>\n",
       "      <td>5.0</td>\n",
       "      <td>0.250936</td>\n",
       "      <td>0.326616</td>\n",
       "      <td>0</td>\n",
       "      <td>Systems and methods for interfacing with netwo...</td>\n",
       "      <td>1352</td>\n",
       "    </tr>\n",
       "    <tr>\n",
       "      <th>45032</th>\n",
       "      <td>US-9114955-B2</td>\n",
       "      <td>Provided is a control device for an elevator t...</td>\n",
       "      <td>20101208</td>\n",
       "      <td>Control device for elevator</td>\n",
       "      <td>The invention claimed is: \\n     \\n       1. A...</td>\n",
       "      <td>US09114955</td>\n",
       "      <td>380228413</td>\n",
       "      <td>US09114955</td>\n",
       "      <td>2010</td>\n",
       "      <td>6</td>\n",
       "      <td>...</td>\n",
       "      <td>0</td>\n",
       "      <td>0.619062</td>\n",
       "      <td>0.279297</td>\n",
       "      <td>0.093750</td>\n",
       "      <td>5.0</td>\n",
       "      <td>0.315645</td>\n",
       "      <td>0.289177</td>\n",
       "      <td>1</td>\n",
       "      <td>Control device for elevator. Provided is a con...</td>\n",
       "      <td>389</td>\n",
       "    </tr>\n",
       "    <tr>\n",
       "      <th>49357</th>\n",
       "      <td>US-8737855-B2</td>\n",
       "      <td>A plurality of test patches each including a d...</td>\n",
       "      <td>20100927</td>\n",
       "      <td>Image forming apparatus and density unevenness...</td>\n",
       "      <td>What is claimed is: \\n     \\n       1. An imag...</td>\n",
       "      <td>US08737855</td>\n",
       "      <td>333087673</td>\n",
       "      <td>US08737855</td>\n",
       "      <td>2010</td>\n",
       "      <td>9</td>\n",
       "      <td>...</td>\n",
       "      <td>0</td>\n",
       "      <td>0.499528</td>\n",
       "      <td>0.805556</td>\n",
       "      <td>0.583333</td>\n",
       "      <td>4.0</td>\n",
       "      <td>0.254967</td>\n",
       "      <td>0.250367</td>\n",
       "      <td>0</td>\n",
       "      <td>Image forming apparatus and density unevenness...</td>\n",
       "      <td>1327</td>\n",
       "    </tr>\n",
       "    <tr>\n",
       "      <th>151718</th>\n",
       "      <td>US-8531163-B2</td>\n",
       "      <td>To provide a switching power supply device, an...</td>\n",
       "      <td>20100312</td>\n",
       "      <td>Switching power supply device, integrated circ...</td>\n",
       "      <td>The invention claimed is: \\n     \\n       1. A...</td>\n",
       "      <td>US08531163</td>\n",
       "      <td>341889903</td>\n",
       "      <td>US08531163</td>\n",
       "      <td>2010</td>\n",
       "      <td>12</td>\n",
       "      <td>...</td>\n",
       "      <td>0</td>\n",
       "      <td>0.713139</td>\n",
       "      <td>0.830487</td>\n",
       "      <td>0.755102</td>\n",
       "      <td>7.0</td>\n",
       "      <td>0.324680</td>\n",
       "      <td>0.317031</td>\n",
       "      <td>1</td>\n",
       "      <td>Switching power supply device, integrated circ...</td>\n",
       "      <td>1104</td>\n",
       "    </tr>\n",
       "    <tr>\n",
       "      <th>102001</th>\n",
       "      <td>US-9626390-B2</td>\n",
       "      <td>In one general aspect, a computer system can i...</td>\n",
       "      <td>20101227</td>\n",
       "      <td>Shadow system start during upgrade of an origi...</td>\n",
       "      <td>What is claimed is: \\n     \\n       1. A compu...</td>\n",
       "      <td>US09626390</td>\n",
       "      <td>364671666</td>\n",
       "      <td>US09626390</td>\n",
       "      <td>2010</td>\n",
       "      <td>6</td>\n",
       "      <td>...</td>\n",
       "      <td>0</td>\n",
       "      <td>0.000000</td>\n",
       "      <td>0.786048</td>\n",
       "      <td>0.072000</td>\n",
       "      <td>7.0</td>\n",
       "      <td>0.135417</td>\n",
       "      <td>0.172861</td>\n",
       "      <td>0</td>\n",
       "      <td>Shadow system start during upgrade of an origi...</td>\n",
       "      <td>1662</td>\n",
       "    </tr>\n",
       "    <tr>\n",
       "      <th>...</th>\n",
       "      <td>...</td>\n",
       "      <td>...</td>\n",
       "      <td>...</td>\n",
       "      <td>...</td>\n",
       "      <td>...</td>\n",
       "      <td>...</td>\n",
       "      <td>...</td>\n",
       "      <td>...</td>\n",
       "      <td>...</td>\n",
       "      <td>...</td>\n",
       "      <td>...</td>\n",
       "      <td>...</td>\n",
       "      <td>...</td>\n",
       "      <td>...</td>\n",
       "      <td>...</td>\n",
       "      <td>...</td>\n",
       "      <td>...</td>\n",
       "      <td>...</td>\n",
       "      <td>...</td>\n",
       "      <td>...</td>\n",
       "      <td>...</td>\n",
       "    </tr>\n",
       "    <tr>\n",
       "      <th>89503</th>\n",
       "      <td>US-8815989-B2</td>\n",
       "      <td>The invention aims to provide a resin composit...</td>\n",
       "      <td>20101110</td>\n",
       "      <td>Resin composition for coating material</td>\n",
       "      <td>The invention claimed is: \\n     \\n       1. A...</td>\n",
       "      <td>US08815989</td>\n",
       "      <td>376848395</td>\n",
       "      <td>US08815989</td>\n",
       "      <td>2010</td>\n",
       "      <td>19</td>\n",
       "      <td>...</td>\n",
       "      <td>0</td>\n",
       "      <td>0.674311</td>\n",
       "      <td>0.943568</td>\n",
       "      <td>0.471910</td>\n",
       "      <td>4.0</td>\n",
       "      <td>0.325126</td>\n",
       "      <td>0.318887</td>\n",
       "      <td>1</td>\n",
       "      <td>Resin composition for coating material. The in...</td>\n",
       "      <td>986</td>\n",
       "    </tr>\n",
       "    <tr>\n",
       "      <th>42696</th>\n",
       "      <td>US-8704454-B2</td>\n",
       "      <td>A method includes forming one or more capacito...</td>\n",
       "      <td>20101013</td>\n",
       "      <td>Integrated driver system architecture for ligh...</td>\n",
       "      <td>What is claimed is: \\n     \\n       1. A metho...</td>\n",
       "      <td>US08704454</td>\n",
       "      <td>333369342</td>\n",
       "      <td>US08704454</td>\n",
       "      <td>2010</td>\n",
       "      <td>1</td>\n",
       "      <td>...</td>\n",
       "      <td>0</td>\n",
       "      <td>0.592089</td>\n",
       "      <td>0.932416</td>\n",
       "      <td>0.776699</td>\n",
       "      <td>4.0</td>\n",
       "      <td>0.308532</td>\n",
       "      <td>0.309862</td>\n",
       "      <td>1</td>\n",
       "      <td>Integrated driver system architecture for ligh...</td>\n",
       "      <td>1653</td>\n",
       "    </tr>\n",
       "    <tr>\n",
       "      <th>105030</th>\n",
       "      <td>US-8809921-B2</td>\n",
       "      <td>A solid-state imaging apparatus includes a plu...</td>\n",
       "      <td>20101222</td>\n",
       "      <td>Solid-state imaging apparatus, method of manuf...</td>\n",
       "      <td>What is claimed is: \\n     \\n       1. A solid...</td>\n",
       "      <td>US08809921</td>\n",
       "      <td>335867166</td>\n",
       "      <td>US08809921</td>\n",
       "      <td>2010</td>\n",
       "      <td>8</td>\n",
       "      <td>...</td>\n",
       "      <td>0</td>\n",
       "      <td>0.485926</td>\n",
       "      <td>0.723776</td>\n",
       "      <td>0.390244</td>\n",
       "      <td>4.0</td>\n",
       "      <td>0.298260</td>\n",
       "      <td>0.294224</td>\n",
       "      <td>0</td>\n",
       "      <td>Solid-state imaging apparatus, method of manuf...</td>\n",
       "      <td>608</td>\n",
       "    </tr>\n",
       "    <tr>\n",
       "      <th>171202</th>\n",
       "      <td>US-9149407-B2</td>\n",
       "      <td>A device for therapeutically treating and/or t...</td>\n",
       "      <td>20100521</td>\n",
       "      <td>Device for therapeutically treating and/or tra...</td>\n",
       "      <td>The invention claimed is: \\n     \\n       1. A...</td>\n",
       "      <td>US09149407</td>\n",
       "      <td>353322751</td>\n",
       "      <td>US09149407</td>\n",
       "      <td>2010</td>\n",
       "      <td>33</td>\n",
       "      <td>...</td>\n",
       "      <td>0</td>\n",
       "      <td>0.284082</td>\n",
       "      <td>0.862222</td>\n",
       "      <td>0.120000</td>\n",
       "      <td>5.0</td>\n",
       "      <td>0.362534</td>\n",
       "      <td>0.304468</td>\n",
       "      <td>1</td>\n",
       "      <td>Device for therapeutically treating and/or tra...</td>\n",
       "      <td>664</td>\n",
       "    </tr>\n",
       "    <tr>\n",
       "      <th>158355</th>\n",
       "      <td>US-8971214-B2</td>\n",
       "      <td>A method and apparatus for acquiring a Traffic...</td>\n",
       "      <td>20100424</td>\n",
       "      <td>Method and apparatus for acquiring traffic-eng...</td>\n",
       "      <td>What is claimed is: \\n     \\n       1. A metho...</td>\n",
       "      <td>US08971214</td>\n",
       "      <td>376846678</td>\n",
       "      <td>US08971214</td>\n",
       "      <td>2010</td>\n",
       "      <td>4</td>\n",
       "      <td>...</td>\n",
       "      <td>0</td>\n",
       "      <td>0.000000</td>\n",
       "      <td>0.486250</td>\n",
       "      <td>0.225000</td>\n",
       "      <td>5.0</td>\n",
       "      <td>0.075490</td>\n",
       "      <td>0.123676</td>\n",
       "      <td>0</td>\n",
       "      <td>Method and apparatus for acquiring traffic-eng...</td>\n",
       "      <td>1382</td>\n",
       "    </tr>\n",
       "  </tbody>\n",
       "</table>\n",
       "<p>5000 rows × 30 columns</p>\n",
       "</div>"
      ],
      "text/plain": [
       "       publication_number                                      abstract_text  \\\n",
       "54639       US-8014303-B2  A network device may include logic configured ...   \n",
       "45032       US-9114955-B2  Provided is a control device for an elevator t...   \n",
       "49357       US-8737855-B2  A plurality of test patches each including a d...   \n",
       "151718      US-8531163-B2  To provide a switching power supply device, an...   \n",
       "102001      US-9626390-B2  In one general aspect, a computer system can i...   \n",
       "...                   ...                                                ...   \n",
       "89503       US-8815989-B2  The invention aims to provide a resin composit...   \n",
       "42696       US-8704454-B2  A method includes forming one or more capacito...   \n",
       "105030      US-8809921-B2  A solid-state imaging apparatus includes a plu...   \n",
       "171202      US-9149407-B2  A device for therapeutically treating and/or t...   \n",
       "158355      US-8971214-B2  A method and apparatus for acquiring a Traffic...   \n",
       "\n",
       "        filing_date                                         title_text  \\\n",
       "54639      20101229  Systems and methods for interfacing with netwo...   \n",
       "45032      20101208                        Control device for elevator   \n",
       "49357      20100927  Image forming apparatus and density unevenness...   \n",
       "151718     20100312  Switching power supply device, integrated circ...   \n",
       "102001     20101227  Shadow system start during upgrade of an origi...   \n",
       "...             ...                                                ...   \n",
       "89503      20101110             Resin composition for coating material   \n",
       "42696      20101013  Integrated driver system architecture for ligh...   \n",
       "105030     20101222  Solid-state imaging apparatus, method of manuf...   \n",
       "171202     20100521  Device for therapeutically treating and/or tra...   \n",
       "158355     20100424  Method and apparatus for acquiring traffic-eng...   \n",
       "\n",
       "                                              claims_text  \\\n",
       "54639   1. A device comprising:\\n memory to store inst...   \n",
       "45032   The invention claimed is: \\n     \\n       1. A...   \n",
       "49357   What is claimed is: \\n     \\n       1. An imag...   \n",
       "151718  The invention claimed is: \\n     \\n       1. A...   \n",
       "102001  What is claimed is: \\n     \\n       1. A compu...   \n",
       "...                                                   ...   \n",
       "89503   The invention claimed is: \\n     \\n       1. A...   \n",
       "42696   What is claimed is: \\n     \\n       1. A metho...   \n",
       "105030  What is claimed is: \\n     \\n       1. A solid...   \n",
       "171202  The invention claimed is: \\n     \\n       1. A...   \n",
       "158355  What is claimed is: \\n     \\n       1. A metho...   \n",
       "\n",
       "       publication_number_match   appln_id     pub_nbr  filing  tech_field  \\\n",
       "54639                US08014303  333595253  US08014303    2010           4   \n",
       "45032                US09114955  380228413  US09114955    2010           6   \n",
       "49357                US08737855  333087673  US08737855    2010           9   \n",
       "151718               US08531163  341889903  US08531163    2010          12   \n",
       "102001               US09626390  364671666  US09626390    2010           6   \n",
       "...                         ...        ...         ...     ...         ...   \n",
       "89503                US08815989  376848395  US08815989    2010          19   \n",
       "42696                US08704454  333369342  US08704454    2010           1   \n",
       "105030               US08809921  335867166  US08809921    2010           8   \n",
       "171202               US09149407  353322751  US09149407    2010          33   \n",
       "158355               US08971214  376846678  US08971214    2010           4   \n",
       "\n",
       "        ...  breakthrough  generality  originality  radicalness  renewal  \\\n",
       "54639   ...             0    0.593750     0.751486     0.137931      5.0   \n",
       "45032   ...             0    0.619062     0.279297     0.093750      5.0   \n",
       "49357   ...             0    0.499528     0.805556     0.583333      4.0   \n",
       "151718  ...             0    0.713139     0.830487     0.755102      7.0   \n",
       "102001  ...             0    0.000000     0.786048     0.072000      7.0   \n",
       "...     ...           ...         ...          ...          ...      ...   \n",
       "89503   ...             0    0.674311     0.943568     0.471910      4.0   \n",
       "42696   ...             0    0.592089     0.932416     0.776699      4.0   \n",
       "105030  ...             0    0.485926     0.723776     0.390244      4.0   \n",
       "171202  ...             0    0.284082     0.862222     0.120000      5.0   \n",
       "158355  ...             0    0.000000     0.486250     0.225000      5.0   \n",
       "\n",
       "        quality_index_4  quality_index_6  quality_rank  \\\n",
       "54639          0.250936         0.326616             0   \n",
       "45032          0.315645         0.289177             1   \n",
       "49357          0.254967         0.250367             0   \n",
       "151718         0.324680         0.317031             1   \n",
       "102001         0.135417         0.172861             0   \n",
       "...                 ...              ...           ...   \n",
       "89503          0.325126         0.318887             1   \n",
       "42696          0.308532         0.309862             1   \n",
       "105030         0.298260         0.294224             0   \n",
       "171202         0.362534         0.304468             1   \n",
       "158355         0.075490         0.123676             0   \n",
       "\n",
       "                                                     text  claims_length  \n",
       "54639   Systems and methods for interfacing with netwo...           1352  \n",
       "45032   Control device for elevator. Provided is a con...            389  \n",
       "49357   Image forming apparatus and density unevenness...           1327  \n",
       "151718  Switching power supply device, integrated circ...           1104  \n",
       "102001  Shadow system start during upgrade of an origi...           1662  \n",
       "...                                                   ...            ...  \n",
       "89503   Resin composition for coating material. The in...            986  \n",
       "42696   Integrated driver system architecture for ligh...           1653  \n",
       "105030  Solid-state imaging apparatus, method of manuf...            608  \n",
       "171202  Device for therapeutically treating and/or tra...            664  \n",
       "158355  Method and apparatus for acquiring traffic-eng...           1382  \n",
       "\n",
       "[5000 rows x 30 columns]"
      ]
     },
     "execution_count": 8,
     "metadata": {},
     "output_type": "execute_result"
    }
   ],
   "source": [
    "df['claims_length'] = df['claims_text'].str.split().str.len()\n",
    "df"
   ]
  },
  {
   "cell_type": "code",
   "execution_count": 9,
   "metadata": {},
   "outputs": [
    {
     "data": {
      "image/png": "[encoded data removed]",
      "text/plain": [
       "<Figure size 432x288 with 1 Axes>"
      ]
     },
     "metadata": {
      "needs_background": "light"
     },
     "output_type": "display_data"
    }
   ],
   "source": [
    "plt.hist(df['claims_length'], density=False)  # `density=False` would make counts\n",
    "plt.ylabel('Frequency')\n",
    "plt.xlabel('claims_length');"
   ]
  },
  {
   "cell_type": "code",
   "execution_count": 10,
   "metadata": {},
   "outputs": [
    {
     "data": {
      "text/plain": [
       "894.0"
      ]
     },
     "execution_count": 10,
     "metadata": {},
     "output_type": "execute_result"
    }
   ],
   "source": [
    "df['claims_length'].quantile()"
   ]
  },
  {
   "cell_type": "code",
   "execution_count": 11,
   "metadata": {},
   "outputs": [
    {
     "data": {
      "text/plain": [
       "count     5000.000000\n",
       "mean      1037.559200\n",
       "std        739.683566\n",
       "min         15.000000\n",
       "25%        576.000000\n",
       "50%        894.000000\n",
       "75%       1305.250000\n",
       "max      14453.000000\n",
       "Name: claims_length, dtype: float64"
      ]
     },
     "execution_count": 11,
     "metadata": {},
     "output_type": "execute_result"
    }
   ],
   "source": [
    "df['claims_length'].describe()"
   ]
  },
  {
   "cell_type": "code",
   "execution_count": null,
   "metadata": {},
   "outputs": [],
   "source": [
    "# Already created quality_rank in the file\n",
    "'''\n",
    "conditions = [\n",
    "\n",
    "    (df['quality_index_4'] < 0.3),\n",
    "    (df['quality_index_4'] >= 0.3)\n",
    "]\n",
    "\n",
    "choices = ['0', '1']\n",
    "'''"
   ]
  },
  {
   "cell_type": "code",
   "execution_count": 5,
   "metadata": {},
   "outputs": [],
   "source": [
    "\n",
    "# df['quality_rank'] = np.select(condlist=conditions, choicelist=choices)"
   ]
  },
  {
   "cell_type": "code",
   "execution_count": 12,
   "metadata": {},
   "outputs": [],
   "source": [
    "df = df[['claims_text','quality_rank']]"
   ]
  },
  {
   "cell_type": "code",
   "execution_count": 13,
   "metadata": {},
   "outputs": [
    {
     "name": "stderr",
     "output_type": "stream",
     "text": [
      "/home/lin_menghsien/anaconda3/lib/python3.7/site-packages/ipykernel_launcher.py:1: SettingWithCopyWarning: \n",
      "A value is trying to be set on a copy of a slice from a DataFrame.\n",
      "Try using .loc[row_indexer,col_indexer] = value instead\n",
      "\n",
      "See the caveats in the documentation: https://pandas.pydata.org/pandas-docs/stable/user_guide/indexing.html#returning-a-view-versus-a-copy\n",
      "  \"\"\"Entry point for launching an IPython kernel.\n"
     ]
    }
   ],
   "source": [
    "df['claims_text'] = df['claims_text'].apply(str)"
   ]
  },
  {
   "cell_type": "code",
   "execution_count": null,
   "metadata": {},
   "outputs": [],
   "source": []
  },
  {
   "cell_type": "markdown",
   "metadata": {},
   "source": [
    "### Create a model"
   ]
  },
  {
   "cell_type": "code",
   "execution_count": 14,
   "metadata": {},
   "outputs": [],
   "source": [
    "import numpy as np\n",
    "import pandas as pd\n",
    "import pickle as cPickle\n",
    "from collections import defaultdict\n",
    "import re\n",
    "\n",
    "from bs4 import BeautifulSoup\n",
    "\n",
    "import sys\n",
    "import os\n",
    "import tensorflow as tf\n",
    "from tensorflow import keras\n",
    "\n",
    "from keras.preprocessing.text import Tokenizer, text_to_word_sequence\n",
    "from keras.preprocessing.sequence import pad_sequences\n",
    "from keras.utils.np_utils import to_categorical\n",
    "\n",
    "from keras.layers import Embedding\n",
    "from keras.layers import Dense, Input, Flatten\n",
    "from keras.layers import Conv1D, MaxPooling1D, Embedding, Dropout, LSTM, GRU, Bidirectional, TimeDistributed\n",
    "from keras.models import Model\n",
    "\n",
    "from keras import backend as K\n",
    "from keras.engine.topology import Layer, InputSpec\n",
    "from keras import initializers"
   ]
  },
  {
   "cell_type": "code",
   "execution_count": 15,
   "metadata": {},
   "outputs": [],
   "source": [
    "# more CNN library\n",
    "import os\n",
    "import sys\n",
    "import numpy as np\n",
    "from keras.preprocessing.text import Tokenizer\n",
    "from keras.preprocessing.sequence import pad_sequences\n",
    "from keras.utils import to_categorical\n",
    "from keras.layers import Dense, Input, GlobalMaxPooling1D\n",
    "from keras.layers import Conv1D, MaxPooling1D, Embedding\n",
    "from keras.models import Model\n",
    "from keras.initializers import Constant\n"
   ]
  },
  {
   "cell_type": "code",
   "execution_count": 25,
   "metadata": {},
   "outputs": [],
   "source": [
    "MAX_SEQUENCE_LENGTH = 1500  # [Steven] I added for the CNN, to take only the 500 words.\n",
    "# MAX_SENT_LENGTH = 100\n",
    "# MAX_SENTS = 15\n",
    "MAX_NB_WORDS = 30000  # [Steven] this should be number of unique word / vocabulary\n",
    "EMBEDDING_DIM = 100\n",
    "VALIDATION_SPLIT = 0.2"
   ]
  },
  {
   "cell_type": "code",
   "execution_count": 26,
   "metadata": {},
   "outputs": [],
   "source": [
    "def clean_str(string):\n",
    "    \"\"\"\n",
    "    Tokenization/string cleaning for dataset\n",
    "    Every dataset is lower cased except\n",
    "    \"\"\"\n",
    "    string = re.sub(r\"\\\\\", \"\", str(string))    \n",
    "    string = re.sub(r\"\\'\", \"\", str(string))    \n",
    "    string = re.sub(r\"\\\"\", \"\", str(string))    \n",
    "    return string.strip().lower()"
   ]
  },
  {
   "cell_type": "code",
   "execution_count": 27,
   "metadata": {},
   "outputs": [
    {
     "data": {
      "text/html": [
       "<div>\n",
       "<style scoped>\n",
       "    .dataframe tbody tr th:only-of-type {\n",
       "        vertical-align: middle;\n",
       "    }\n",
       "\n",
       "    .dataframe tbody tr th {\n",
       "        vertical-align: top;\n",
       "    }\n",
       "\n",
       "    .dataframe thead th {\n",
       "        text-align: right;\n",
       "    }\n",
       "</style>\n",
       "<table border=\"1\" class=\"dataframe\">\n",
       "  <thead>\n",
       "    <tr style=\"text-align: right;\">\n",
       "      <th></th>\n",
       "      <th>claims_text</th>\n",
       "      <th>quality_rank</th>\n",
       "    </tr>\n",
       "  </thead>\n",
       "  <tbody>\n",
       "    <tr>\n",
       "      <th>54639</th>\n",
       "      <td>1. A device comprising:\\n memory to store inst...</td>\n",
       "      <td>0</td>\n",
       "    </tr>\n",
       "    <tr>\n",
       "      <th>45032</th>\n",
       "      <td>The invention claimed is: \\n     \\n       1. A...</td>\n",
       "      <td>1</td>\n",
       "    </tr>\n",
       "    <tr>\n",
       "      <th>49357</th>\n",
       "      <td>What is claimed is: \\n     \\n       1. An imag...</td>\n",
       "      <td>0</td>\n",
       "    </tr>\n",
       "    <tr>\n",
       "      <th>151718</th>\n",
       "      <td>The invention claimed is: \\n     \\n       1. A...</td>\n",
       "      <td>1</td>\n",
       "    </tr>\n",
       "    <tr>\n",
       "      <th>102001</th>\n",
       "      <td>What is claimed is: \\n     \\n       1. A compu...</td>\n",
       "      <td>0</td>\n",
       "    </tr>\n",
       "    <tr>\n",
       "      <th>...</th>\n",
       "      <td>...</td>\n",
       "      <td>...</td>\n",
       "    </tr>\n",
       "    <tr>\n",
       "      <th>89503</th>\n",
       "      <td>The invention claimed is: \\n     \\n       1. A...</td>\n",
       "      <td>1</td>\n",
       "    </tr>\n",
       "    <tr>\n",
       "      <th>42696</th>\n",
       "      <td>What is claimed is: \\n     \\n       1. A metho...</td>\n",
       "      <td>1</td>\n",
       "    </tr>\n",
       "    <tr>\n",
       "      <th>105030</th>\n",
       "      <td>What is claimed is: \\n     \\n       1. A solid...</td>\n",
       "      <td>0</td>\n",
       "    </tr>\n",
       "    <tr>\n",
       "      <th>171202</th>\n",
       "      <td>The invention claimed is: \\n     \\n       1. A...</td>\n",
       "      <td>1</td>\n",
       "    </tr>\n",
       "    <tr>\n",
       "      <th>158355</th>\n",
       "      <td>What is claimed is: \\n     \\n       1. A metho...</td>\n",
       "      <td>0</td>\n",
       "    </tr>\n",
       "  </tbody>\n",
       "</table>\n",
       "<p>5000 rows × 2 columns</p>\n",
       "</div>"
      ],
      "text/plain": [
       "                                              claims_text  quality_rank\n",
       "54639   1. A device comprising:\\n memory to store inst...             0\n",
       "45032   The invention claimed is: \\n     \\n       1. A...             1\n",
       "49357   What is claimed is: \\n     \\n       1. An imag...             0\n",
       "151718  The invention claimed is: \\n     \\n       1. A...             1\n",
       "102001  What is claimed is: \\n     \\n       1. A compu...             0\n",
       "...                                                   ...           ...\n",
       "89503   The invention claimed is: \\n     \\n       1. A...             1\n",
       "42696   What is claimed is: \\n     \\n       1. A metho...             1\n",
       "105030  What is claimed is: \\n     \\n       1. A solid...             0\n",
       "171202  The invention claimed is: \\n     \\n       1. A...             1\n",
       "158355  What is claimed is: \\n     \\n       1. A metho...             0\n",
       "\n",
       "[5000 rows x 2 columns]"
      ]
     },
     "execution_count": 27,
     "metadata": {},
     "output_type": "execute_result"
    }
   ],
   "source": [
    "#data_train = df.sample(frac=1, random_state = 5)[:5000]\n",
    "data_train = df\n",
    "data_train"
   ]
  },
  {
   "cell_type": "code",
   "execution_count": 28,
   "metadata": {},
   "outputs": [
    {
     "data": {
      "text/plain": [
       "(5000, 2)"
      ]
     },
     "execution_count": 28,
     "metadata": {},
     "output_type": "execute_result"
    }
   ],
   "source": [
    "data_train.shape"
   ]
  },
  {
   "cell_type": "code",
   "execution_count": 29,
   "metadata": {},
   "outputs": [],
   "source": [
    "import nltk\n",
    "from nltk import tokenize\n",
    "\n",
    "abstracts = [] # abstracts is list of list of list to hold each sentences of each abstract (the most complete data)\n",
    "labels = [] # label is just a list holding our label which is quality_index\n",
    "texts = []  # texts to hold each complete abstract as list of list (note: abstract not breaking up to sentence level)\n",
    "for idx in range(data_train.claims_text.shape[0]): # for each row\n",
    "    #text = BeautifulSoup(data_train.text[idx])\n",
    "    #print(clean_str(str(data_train.iloc[idx]['text'])))\n",
    "    text = clean_str(str(data_train.iloc[idx]['claims_text'])) # text is each complete abstract\n",
    "    texts.append(text) # texts to hold each complete abstract as list of string (note: abstract not breaking up to sentence level)\n",
    "    sentences = tokenize.sent_tokenize(text) # sentences is list of string holding each complete sentence of one abstract (but it's just an intermediate variable, not used directly in later code)\n",
    "    abstracts.append(sentences) # abstracts is list of list of string to hold each sentences of each abstract (the most complete data) (this is what we use )\n",
    "    labels.append(data_train.iloc[idx]['quality_rank']) # label is just a list holding our label which is quality_index"
   ]
  },
  {
   "cell_type": "code",
   "execution_count": 30,
   "metadata": {},
   "outputs": [],
   "source": [
    "tokenizer = Tokenizer(num_words=MAX_NB_WORDS) # intend to use next line .fit_on_texts to index each word within specific abstract at current iteration/loop, the more frequent word has lower index number, it is a dictionary format, it's like a unique vocabulary index\n",
    "tokenizer.fit_on_texts(texts)\n",
    "sequences = tokenizer.texts_to_sequences(texts)\n",
    "# data = np.zeros((len(texts), MAX_SENTS, MAX_SENT_LENGTH), dtype='int32')"
   ]
  },
  {
   "cell_type": "code",
   "execution_count": 31,
   "metadata": {},
   "outputs": [
    {
     "name": "stdout",
     "output_type": "stream",
     "text": [
      "Found 31722 unique tokens.\n"
     ]
    }
   ],
   "source": [
    "word_index = tokenizer.word_index\n",
    "print('Found %s unique tokens.' % len(word_index))"
   ]
  },
  {
   "cell_type": "code",
   "execution_count": 32,
   "metadata": {},
   "outputs": [
    {
     "data": {
      "text/plain": [
       "5000"
      ]
     },
     "execution_count": 32,
     "metadata": {},
     "output_type": "execute_result"
    }
   ],
   "source": [
    "len(sequences)"
   ]
  },
  {
   "cell_type": "code",
   "execution_count": 33,
   "metadata": {},
   "outputs": [
    {
     "data": {
      "text/plain": [
       "array([[ 13,   2,  26, ...,   0,   0,   0],\n",
       "       [  1, 492,  82, ...,   0,   0,   0],\n",
       "       [320,   7,  82, ...,   0,   0,   0],\n",
       "       ...,\n",
       "       [320,   7,  82, ...,   0,   0,   0],\n",
       "       [  1, 492,  82, ...,   0,   0,   0],\n",
       "       [320,   7,  82, ...,   0,   0,   0]], dtype=int32)"
      ]
     },
     "execution_count": 33,
     "metadata": {},
     "output_type": "execute_result"
    }
   ],
   "source": [
    "data = pad_sequences(sequences, maxlen=MAX_SEQUENCE_LENGTH, padding='post', truncating='post') # The default is pre-padding, should I try post-padding ? => padding='post', truncating='post'. I think it has to do with whether the beginning words are more important, or later words more important. You may want to try both approaches and compare result?\n",
    "data"
   ]
  },
  {
   "cell_type": "code",
   "execution_count": 34,
   "metadata": {},
   "outputs": [
    {
     "data": {
      "text/plain": [
       "(5000, 1500)"
      ]
     },
     "execution_count": 34,
     "metadata": {},
     "output_type": "execute_result"
    }
   ],
   "source": [
    "data.shape"
   ]
  },
  {
   "cell_type": "code",
   "execution_count": 35,
   "metadata": {},
   "outputs": [
    {
     "name": "stdout",
     "output_type": "stream",
     "text": [
      "Shape of data tensor: (5000, 1500)\n",
      "Shape of label tensor: (5000, 2)\n"
     ]
    }
   ],
   "source": [
    "labels = to_categorical(np.asarray(labels))\n",
    "print('Shape of data tensor:', data.shape)\n",
    "print('Shape of label tensor:', labels.shape)"
   ]
  },
  {
   "cell_type": "code",
   "execution_count": 36,
   "metadata": {},
   "outputs": [
    {
     "data": {
      "text/plain": [
       "1000"
      ]
     },
     "execution_count": 36,
     "metadata": {},
     "output_type": "execute_result"
    }
   ],
   "source": [
    "# I've already shuffle above using data_train = df.sample(frac=1, random_state = 5)[:5000]\n",
    "\n",
    "# split the data into a training set and a validation set\n",
    "# indices = np.arange(data.shape[0])\n",
    "# np.random.shuffle(indices)\n",
    "# data = data[indices]\n",
    "# labels = labels[indices]\n",
    "num_validation_samples = int(VALIDATION_SPLIT * data.shape[0])\n",
    "num_validation_samples"
   ]
  },
  {
   "cell_type": "code",
   "execution_count": 37,
   "metadata": {},
   "outputs": [
    {
     "name": "stdout",
     "output_type": "stream",
     "text": [
      "Number of positive and negative reviews in traing and validation set\n",
      "[2320. 1680.]\n",
      "[576. 424.]\n"
     ]
    }
   ],
   "source": [
    "x_train = data[:-num_validation_samples]\n",
    "y_train = labels[:-num_validation_samples]\n",
    "x_val = data[-num_validation_samples:]\n",
    "y_val = labels[-num_validation_samples:]\n",
    "\n",
    "print('Number of positive and negative reviews in traing and validation set')\n",
    "print(y_train.sum(axis=0))\n",
    "print(y_val.sum(axis=0))\n"
   ]
  },
  {
   "cell_type": "code",
   "execution_count": 38,
   "metadata": {},
   "outputs": [
    {
     "data": {
      "text/plain": [
       "array([[1., 0.],\n",
       "       [0., 1.],\n",
       "       [1., 0.],\n",
       "       ...,\n",
       "       [0., 1.],\n",
       "       [1., 0.],\n",
       "       [1., 0.]], dtype=float32)"
      ]
     },
     "execution_count": 38,
     "metadata": {},
     "output_type": "execute_result"
    }
   ],
   "source": [
    "y_train"
   ]
  },
  {
   "cell_type": "code",
   "execution_count": 39,
   "metadata": {},
   "outputs": [
    {
     "data": {
      "text/plain": [
       "array([[1., 0.],\n",
       "       [1., 0.],\n",
       "       [1., 0.],\n",
       "       ...,\n",
       "       [1., 0.],\n",
       "       [0., 1.],\n",
       "       [1., 0.]], dtype=float32)"
      ]
     },
     "execution_count": 39,
     "metadata": {},
     "output_type": "execute_result"
    }
   ],
   "source": [
    "y_val"
   ]
  },
  {
   "cell_type": "code",
   "execution_count": 40,
   "metadata": {},
   "outputs": [
    {
     "data": {
      "text/plain": [
       "'/home/lin_menghsien/team_repo'"
      ]
     },
     "execution_count": 40,
     "metadata": {},
     "output_type": "execute_result"
    }
   ],
   "source": [
    "import os\n",
    "os.getcwd()"
   ]
  },
  {
   "cell_type": "code",
   "execution_count": 41,
   "metadata": {},
   "outputs": [],
   "source": [
    "# import GloVe word embedding\n",
    "GLOVE_DIR = \"\" #\"home/lin_menghsien/w266/project/data/glove\" # I save the glove file in the current team_repo directory\n",
    "embeddings_index = {}\n",
    "f = open(os.path.join(GLOVE_DIR, 'glove.6B.100d.txt'))\n",
    "for line in f:\n",
    "    values = line.split()\n",
    "    word = values[0]\n",
    "    coefs = np.asarray(values[1:], dtype='float32')\n",
    "    embeddings_index[word] = coefs\n",
    "f.close()"
   ]
  },
  {
   "cell_type": "code",
   "execution_count": 42,
   "metadata": {},
   "outputs": [
    {
     "name": "stdout",
     "output_type": "stream",
     "text": [
      "Total 400000 word vectors.\n"
     ]
    }
   ],
   "source": [
    "print('Total %s word vectors.' % len(embeddings_index))"
   ]
  },
  {
   "cell_type": "code",
   "execution_count": 43,
   "metadata": {},
   "outputs": [
    {
     "data": {
      "text/plain": [
       "31723"
      ]
     },
     "execution_count": 43,
     "metadata": {},
     "output_type": "execute_result"
    }
   ],
   "source": [
    "len(word_index) + 1"
   ]
  },
  {
   "cell_type": "code",
   "execution_count": 44,
   "metadata": {},
   "outputs": [],
   "source": [
    "# prepare embedding matrix\n",
    "num_words = min(MAX_NB_WORDS, len(word_index) + 1)\n",
    "embedding_matrix = np.zeros((num_words, EMBEDDING_DIM))  # EMBEDDING_DIM = 100 since we import 100d GloVe\n",
    "for word, i in word_index.items():\n",
    "    if i >= MAX_NB_WORDS:\n",
    "        continue\n",
    "    embedding_vector = embeddings_index.get(word)\n",
    "    if embedding_vector is not None:\n",
    "        # words not found in embedding index will be all-zeros.\n",
    "        embedding_matrix[i] = embedding_vector"
   ]
  },
  {
   "cell_type": "code",
   "execution_count": 45,
   "metadata": {},
   "outputs": [],
   "source": [
    "# load pre-trained word embeddings into an Embedding layer\n",
    "# note that we set trainable = False so as to keep the embeddings fixed\n",
    "embedding_layer = Embedding(num_words,\n",
    "                            EMBEDDING_DIM,\n",
    "                            embeddings_initializer=Constant(embedding_matrix),\n",
    "                            input_length=MAX_SEQUENCE_LENGTH,\n",
    "                            trainable=False)"
   ]
  },
  {
   "cell_type": "code",
   "execution_count": 46,
   "metadata": {},
   "outputs": [],
   "source": [
    "import os, sys, re, json, time, datetime, shutil\n",
    "from numpy.random import seed\n",
    "seed(5)\n",
    "import tensorflow\n",
    "tensorflow.random.set_seed(5)"
   ]
  },
  {
   "cell_type": "code",
   "execution_count": 47,
   "metadata": {
    "scrolled": false
   },
   "outputs": [
    {
     "name": "stdout",
     "output_type": "stream",
     "text": [
      "Epoch 1/15\n",
      "125/125 [==============================] - 283s 2s/step - loss: 0.8221 - accuracy: 0.5555 - val_loss: 0.6836 - val_accuracy: 0.5890\n",
      "Epoch 2/15\n",
      "125/125 [==============================] - 270s 2s/step - loss: 0.6193 - accuracy: 0.6603 - val_loss: 0.6395 - val_accuracy: 0.6270\n",
      "Epoch 3/15\n",
      "125/125 [==============================] - 266s 2s/step - loss: 0.5223 - accuracy: 0.7442 - val_loss: 0.6852 - val_accuracy: 0.6240\n",
      "Epoch 4/15\n",
      "125/125 [==============================] - 266s 2s/step - loss: 0.4120 - accuracy: 0.8123 - val_loss: 0.6886 - val_accuracy: 0.6220\n",
      "Epoch 5/15\n",
      "125/125 [==============================] - 268s 2s/step - loss: 0.2531 - accuracy: 0.9015 - val_loss: 0.8297 - val_accuracy: 0.5830\n",
      "Epoch 6/15\n",
      "125/125 [==============================] - 266s 2s/step - loss: 0.1087 - accuracy: 0.9712 - val_loss: 0.9112 - val_accuracy: 0.6450\n",
      "Epoch 7/15\n",
      "125/125 [==============================] - 274s 2s/step - loss: 0.0914 - accuracy: 0.9685 - val_loss: 0.9022 - val_accuracy: 0.6490\n",
      "Epoch 8/15\n",
      "125/125 [==============================] - 282s 2s/step - loss: 0.1251 - accuracy: 0.9528 - val_loss: 1.0358 - val_accuracy: 0.6290\n",
      "Epoch 9/15\n",
      "125/125 [==============================] - 274s 2s/step - loss: 0.0590 - accuracy: 0.9810 - val_loss: 1.4655 - val_accuracy: 0.6200\n",
      "Epoch 10/15\n",
      "125/125 [==============================] - 273s 2s/step - loss: 0.0643 - accuracy: 0.9758 - val_loss: 1.0659 - val_accuracy: 0.6290\n",
      "Epoch 11/15\n",
      "125/125 [==============================] - 271s 2s/step - loss: 0.1039 - accuracy: 0.9588 - val_loss: 1.4212 - val_accuracy: 0.6190\n",
      "Epoch 12/15\n",
      "125/125 [==============================] - 268s 2s/step - loss: 0.0442 - accuracy: 0.9865 - val_loss: 1.1830 - val_accuracy: 0.6200\n",
      "Epoch 13/15\n",
      "125/125 [==============================] - 266s 2s/step - loss: 0.0244 - accuracy: 0.9925 - val_loss: 1.3213 - val_accuracy: 0.6310\n",
      "Epoch 14/15\n",
      "125/125 [==============================] - 266s 2s/step - loss: 0.0367 - accuracy: 0.9883 - val_loss: 1.3352 - val_accuracy: 0.6180\n",
      "Epoch 15/15\n",
      "125/125 [==============================] - 265s 2s/step - loss: 0.0377 - accuracy: 0.9862 - val_loss: 1.3321 - val_accuracy: 0.6300\n"
     ]
    },
    {
     "data": {
      "text/plain": [
       "<tensorflow.python.keras.callbacks.History at 0x7ff3f7835a90>"
      ]
     },
     "execution_count": 47,
     "metadata": {},
     "output_type": "execute_result"
    }
   ],
   "source": [
    "# Parameter setting\n",
    "epochs = 15\n",
    "embed_dim = EMBEDDING_DIM  # already specify with EMBEDDING_DIM variable above\n",
    "dense_layer_dims = [100]\n",
    "dropout_rate = 0.2\n",
    "num_filters = [25, 25, 50, 50, 50]\n",
    "kernel_sizes = [3, 4, 15, 50, 150]\n",
    "num_classes = labels.shape[1] # \n",
    "\n",
    "# Model building\n",
    "start_time = time.time()\n",
    "sequence_input = Input(shape=(MAX_SEQUENCE_LENGTH,), dtype='int32')\n",
    "h = embedding_layer(sequence_input) # remember embedding_layer assign with GloVe's weight\n",
    "\n",
    "conv_layers_for_all_kernel_sizes = []\n",
    "counter = 0\n",
    "for kernel_size, filters in zip(kernel_sizes, num_filters): \n",
    "    conv_layer = keras.layers.Conv1D(filters=filters, kernel_size=kernel_size, activation='relu')(h)\n",
    "    conv_layer = keras.layers.GlobalMaxPooling1D()(conv_layer)\n",
    "    conv_layers_for_all_kernel_sizes.append(conv_layer)\n",
    "    counter += 1\n",
    "    #print(conv_layers_for_all_kernel_sizes)\n",
    "if counter == 1: # need this since layers.concatenate throw error when there is only 1 item in conv_layers_for_all_kernel_sizes\n",
    "    h = conv_layer\n",
    "else:\n",
    "    h = keras.layers.concatenate(conv_layers_for_all_kernel_sizes, axis=1) # Concat the feature maps from each different size.\n",
    "\n",
    "    h = keras.layers.Dropout(rate=dropout_rate)(h) # Dropout can help with overfitting (improve generalization) by randomly 0-ing different subsets of values in the vector\n",
    "\n",
    "for dim in dense_layer_dims:\n",
    "    h = keras.layers.Dense(dim, activation = 'relu')(h) # [Steven] I believe this add additional fully-connected hidden layer with the hope to increase model accuracy\n",
    "\n",
    "prediction = keras.layers.Dense(num_classes, activation='softmax')(h)\n",
    "\n",
    "model = keras.Model(inputs=sequence_input, outputs=prediction)\n",
    "model.compile(optimizer='adam',\n",
    "              loss='categorical_crossentropy',  # From information theory notebooks.\n",
    "              metrics=['accuracy'])        # What metric to output as we train.\n",
    "\n",
    "# train\n",
    "model.reset_states()\n",
    "model.fit(x_train, \n",
    "          y_train, \n",
    "          epochs=epochs, \n",
    "          validation_data=(x_val, y_val))\n"
   ]
  },
  {
   "cell_type": "code",
   "execution_count": 48,
   "metadata": {},
   "outputs": [
    {
     "name": "stdout",
     "output_type": "stream",
     "text": [
      "Epoch 1/15\n",
      "125/125 [==============================] - 192s 2s/step - loss: 0.7708 - accuracy: 0.5567 - val_loss: 0.6591 - val_accuracy: 0.6260\n",
      "Epoch 2/15\n",
      "125/125 [==============================] - 190s 2s/step - loss: 0.6125 - accuracy: 0.6647 - val_loss: 0.6614 - val_accuracy: 0.6110\n",
      "Epoch 3/15\n",
      "125/125 [==============================] - 188s 2s/step - loss: 0.5197 - accuracy: 0.7490 - val_loss: 0.6681 - val_accuracy: 0.6110\n",
      "Epoch 4/15\n",
      "125/125 [==============================] - 185s 1s/step - loss: 0.3951 - accuracy: 0.8205 - val_loss: 0.7123 - val_accuracy: 0.6340\n",
      "Epoch 5/15\n",
      "125/125 [==============================] - 187s 1s/step - loss: 0.2319 - accuracy: 0.9130 - val_loss: 0.8279 - val_accuracy: 0.6090\n",
      "Epoch 6/15\n",
      "125/125 [==============================] - 184s 1s/step - loss: 0.1096 - accuracy: 0.9653 - val_loss: 0.9484 - val_accuracy: 0.6370\n",
      "Epoch 7/15\n",
      "125/125 [==============================] - 185s 1s/step - loss: 0.0990 - accuracy: 0.9678 - val_loss: 1.2263 - val_accuracy: 0.6070\n",
      "Epoch 8/15\n",
      "125/125 [==============================] - 186s 1s/step - loss: 0.1153 - accuracy: 0.9560 - val_loss: 1.8372 - val_accuracy: 0.5970\n",
      "Epoch 9/15\n",
      "125/125 [==============================] - 184s 1s/step - loss: 0.1207 - accuracy: 0.9530 - val_loss: 1.0849 - val_accuracy: 0.5900\n",
      "Epoch 10/15\n",
      "125/125 [==============================] - 184s 1s/step - loss: 0.0538 - accuracy: 0.9793 - val_loss: 1.1983 - val_accuracy: 0.6260\n",
      "Epoch 11/15\n",
      "125/125 [==============================] - 184s 1s/step - loss: 0.0488 - accuracy: 0.9820 - val_loss: 1.3412 - val_accuracy: 0.6180\n",
      "Epoch 12/15\n",
      "125/125 [==============================] - 182s 1s/step - loss: 0.0307 - accuracy: 0.9900 - val_loss: 1.6530 - val_accuracy: 0.6340\n",
      "Epoch 13/15\n",
      "125/125 [==============================] - 183s 1s/step - loss: 0.0326 - accuracy: 0.9887 - val_loss: 1.3851 - val_accuracy: 0.6110\n",
      "Epoch 14/15\n",
      "125/125 [==============================] - 184s 1s/step - loss: 0.0633 - accuracy: 0.9762 - val_loss: 1.7427 - val_accuracy: 0.6000\n",
      "Epoch 15/15\n",
      "125/125 [==============================] - 184s 1s/step - loss: 0.0492 - accuracy: 0.9812 - val_loss: 1.9886 - val_accuracy: 0.6200\n"
     ]
    },
    {
     "data": {
      "text/plain": [
       "<tensorflow.python.keras.callbacks.History at 0x7ff3c27dd2d0>"
      ]
     },
     "execution_count": 48,
     "metadata": {},
     "output_type": "execute_result"
    }
   ],
   "source": [
    "# Parameter setting\n",
    "epochs = 15\n",
    "embed_dim = EMBEDDING_DIM  # already specify with EMBEDDING_DIM variable above\n",
    "dense_layer_dims = [100]\n",
    "dropout_rate = 0.2\n",
    "num_filters = [50, 50, 50]\n",
    "kernel_sizes = [48, 50, 52]\n",
    "num_classes = labels.shape[1] # \n",
    "\n",
    "# Model building\n",
    "start_time = time.time()\n",
    "sequence_input = Input(shape=(MAX_SEQUENCE_LENGTH,), dtype='int32')\n",
    "h = embedding_layer(sequence_input) # remember embedding_layer assign with GloVe's weight\n",
    "\n",
    "conv_layers_for_all_kernel_sizes = []\n",
    "counter = 0\n",
    "for kernel_size, filters in zip(kernel_sizes, num_filters): \n",
    "    conv_layer = keras.layers.Conv1D(filters=filters, kernel_size=kernel_size, activation='relu')(h)\n",
    "    conv_layer = keras.layers.GlobalMaxPooling1D()(conv_layer)\n",
    "    conv_layers_for_all_kernel_sizes.append(conv_layer)\n",
    "    counter += 1\n",
    "    #print(conv_layers_for_all_kernel_sizes)\n",
    "if counter == 1: # need this since layers.concatenate throw error when there is only 1 item in conv_layers_for_all_kernel_sizes\n",
    "    h = conv_layer\n",
    "else:\n",
    "    h = keras.layers.concatenate(conv_layers_for_all_kernel_sizes, axis=1) # Concat the feature maps from each different size.\n",
    "\n",
    "    h = keras.layers.Dropout(rate=dropout_rate)(h) # Dropout can help with overfitting (improve generalization) by randomly 0-ing different subsets of values in the vector\n",
    "\n",
    "for dim in dense_layer_dims:\n",
    "    h = keras.layers.Dense(dim, activation = 'relu')(h) # [Steven] I believe this add additional fully-connected hidden layer with the hope to increase model accuracy\n",
    "\n",
    "prediction = keras.layers.Dense(num_classes, activation='softmax')(h)\n",
    "\n",
    "model = keras.Model(inputs=sequence_input, outputs=prediction)\n",
    "model.compile(optimizer='adam',\n",
    "              loss='categorical_crossentropy',  # From information theory notebooks.\n",
    "              metrics=['accuracy'])        # What metric to output as we train.\n",
    "\n",
    "# train\n",
    "model.reset_states()\n",
    "model.fit(x_train, \n",
    "          y_train, \n",
    "          epochs=epochs, \n",
    "          validation_data=(x_val, y_val))\n"
   ]
  },
  {
   "cell_type": "code",
   "execution_count": null,
   "metadata": {},
   "outputs": [],
   "source": []
  }
 ],
 "metadata": {
  "kernelspec": {
   "display_name": "Python 3",
   "language": "python",
   "name": "python3"
  },
  "language_info": {
   "codemirror_mode": {
    "name": "ipython",
    "version": 3
   },
   "file_extension": ".py",
   "mimetype": "text/x-python",
   "name": "python",
   "nbconvert_exporter": "python",
   "pygments_lexer": "ipython3",
   "version": "3.7.6"
  }
 },
 "nbformat": 4,
 "nbformat_minor": 4
}
