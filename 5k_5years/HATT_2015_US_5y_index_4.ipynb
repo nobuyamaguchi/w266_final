{
 "cells": [
  {
   "cell_type": "code",
   "execution_count": null,
   "metadata": {},
   "outputs": [],
   "source": [
    "!pip install google-cloud-storage\n",
    "!pip install pandas"
   ]
  },
  {
   "cell_type": "code",
   "execution_count": 1,
   "metadata": {},
   "outputs": [],
   "source": [
    "import numpy as np\n",
    "import pandas as pd"
   ]
  },
  {
   "cell_type": "markdown",
   "metadata": {},
   "source": [
    "### read the file"
   ]
  },
  {
   "cell_type": "code",
   "execution_count": 2,
   "metadata": {},
   "outputs": [
    {
     "data": {
      "text/plain": [
       "(5000, 30)"
      ]
     },
     "execution_count": 2,
     "metadata": {},
     "output_type": "execute_result"
    }
   ],
   "source": [
    "df_merge_quality = pd.read_csv('US_patent_abstract_5000_2015_with_title_1_5y.csv')\n",
    "df_merge_quality.shape"
   ]
  },
  {
   "cell_type": "code",
   "execution_count": 3,
   "metadata": {},
   "outputs": [
    {
     "data": {
      "text/plain": [
       "0.8642147026094559"
      ]
     },
     "execution_count": 3,
     "metadata": {},
     "output_type": "execute_result"
    }
   ],
   "source": [
    "max(df_merge_quality['quality_index_4'])"
   ]
  },
  {
   "cell_type": "code",
   "execution_count": 4,
   "metadata": {},
   "outputs": [
    {
     "data": {
      "text/plain": [
       "0.0238514872446279"
      ]
     },
     "execution_count": 4,
     "metadata": {},
     "output_type": "execute_result"
    }
   ],
   "source": [
    "min(df_merge_quality['quality_index_4'])"
   ]
  },
  {
   "cell_type": "code",
   "execution_count": 5,
   "metadata": {},
   "outputs": [],
   "source": [
    "import matplotlib\n",
    "import matplotlib.pyplot as plt\n",
    "%matplotlib inline"
   ]
  },
  {
   "cell_type": "code",
   "execution_count": 6,
   "metadata": {},
   "outputs": [
    {
     "data": {
      "image/png": "[encoded data removed]",
      "text/plain": [
       "<Figure size 432x288 with 1 Axes>"
      ]
     },
     "metadata": {
      "needs_background": "light"
     },
     "output_type": "display_data"
    }
   ],
   "source": [
    "plt.hist(df_merge_quality['quality_index_4'], density=False)  # `density=False` would make counts\n",
    "plt.ylabel('Frequency')\n",
    "plt.xlabel('Quality_Index_4');"
   ]
  },
  {
   "cell_type": "code",
   "execution_count": 7,
   "metadata": {},
   "outputs": [
    {
     "data": {
      "text/html": [
       "<div>\n",
       "<style scoped>\n",
       "    .dataframe tbody tr th:only-of-type {\n",
       "        vertical-align: middle;\n",
       "    }\n",
       "\n",
       "    .dataframe tbody tr th {\n",
       "        vertical-align: top;\n",
       "    }\n",
       "\n",
       "    .dataframe thead th {\n",
       "        text-align: right;\n",
       "    }\n",
       "</style>\n",
       "<table border=\"1\" class=\"dataframe\">\n",
       "  <thead>\n",
       "    <tr style=\"text-align: right;\">\n",
       "      <th></th>\n",
       "      <th>Unnamed: 0</th>\n",
       "      <th>publication_number</th>\n",
       "      <th>abstract_text</th>\n",
       "      <th>filing_date</th>\n",
       "      <th>title_text</th>\n",
       "      <th>claims_text</th>\n",
       "      <th>publication_number_match</th>\n",
       "      <th>appln_id</th>\n",
       "      <th>pub_nbr</th>\n",
       "      <th>filing</th>\n",
       "      <th>...</th>\n",
       "      <th>fwd_cits7</th>\n",
       "      <th>breakthrough</th>\n",
       "      <th>generality</th>\n",
       "      <th>originality</th>\n",
       "      <th>radicalness</th>\n",
       "      <th>renewal</th>\n",
       "      <th>quality_index_4</th>\n",
       "      <th>quality_index_6</th>\n",
       "      <th>quality_rank</th>\n",
       "      <th>text</th>\n",
       "    </tr>\n",
       "  </thead>\n",
       "  <tbody>\n",
       "    <tr>\n",
       "      <th>0</th>\n",
       "      <td>701919</td>\n",
       "      <td>US-9210117-B2</td>\n",
       "      <td>An invitation information push method includes...</td>\n",
       "      <td>20130208</td>\n",
       "      <td>Invitation information push method and system</td>\n",
       "      <td>What is claimed is: \\n     \\n       1. An invi...</td>\n",
       "      <td>US09210117</td>\n",
       "      <td>407142987</td>\n",
       "      <td>US09210117</td>\n",
       "      <td>2013</td>\n",
       "      <td>...</td>\n",
       "      <td>2</td>\n",
       "      <td>0</td>\n",
       "      <td>0.520408</td>\n",
       "      <td>0.914825</td>\n",
       "      <td>0.402597</td>\n",
       "      <td>2.0</td>\n",
       "      <td>0.229088</td>\n",
       "      <td>0.251782</td>\n",
       "      <td>0</td>\n",
       "      <td>Invitation information push method and system....</td>\n",
       "    </tr>\n",
       "    <tr>\n",
       "      <th>1</th>\n",
       "      <td>356119</td>\n",
       "      <td>US-8715323-B2</td>\n",
       "      <td>A connector is provided for linear implants su...</td>\n",
       "      <td>20111017</td>\n",
       "      <td>Coronal angulating connector</td>\n",
       "      <td>What is claimed is: \\n     \\n       1. An impl...</td>\n",
       "      <td>US08715323</td>\n",
       "      <td>405679017</td>\n",
       "      <td>US08715323</td>\n",
       "      <td>2011</td>\n",
       "      <td>...</td>\n",
       "      <td>15</td>\n",
       "      <td>0</td>\n",
       "      <td>0.000000</td>\n",
       "      <td>0.226843</td>\n",
       "      <td>0.130435</td>\n",
       "      <td>3.0</td>\n",
       "      <td>0.118815</td>\n",
       "      <td>0.198961</td>\n",
       "      <td>0</td>\n",
       "      <td>Coronal angulating connector. A connector is p...</td>\n",
       "    </tr>\n",
       "    <tr>\n",
       "      <th>2</th>\n",
       "      <td>832228</td>\n",
       "      <td>US-9414578-B2</td>\n",
       "      <td>A device for spearfishing, which device may in...</td>\n",
       "      <td>20131119</td>\n",
       "      <td>Spearfishing apparatus</td>\n",
       "      <td>What is claimed is: \\n     \\n       1. A spear...</td>\n",
       "      <td>US09414578</td>\n",
       "      <td>440484304</td>\n",
       "      <td>US09414578</td>\n",
       "      <td>2013</td>\n",
       "      <td>...</td>\n",
       "      <td>7</td>\n",
       "      <td>0</td>\n",
       "      <td>0.753968</td>\n",
       "      <td>0.739062</td>\n",
       "      <td>0.087500</td>\n",
       "      <td>3.0</td>\n",
       "      <td>0.353373</td>\n",
       "      <td>0.411789</td>\n",
       "      <td>1</td>\n",
       "      <td>Spearfishing apparatus. A device for spearfish...</td>\n",
       "    </tr>\n",
       "    <tr>\n",
       "      <th>3</th>\n",
       "      <td>170137</td>\n",
       "      <td>US-7987148-B2</td>\n",
       "      <td>Disclosed are embodiments of systems and metho...</td>\n",
       "      <td>20100520</td>\n",
       "      <td>Systems and methods for prioritizing media fil...</td>\n",
       "      <td>1. A computer-implemented method for the autom...</td>\n",
       "      <td>US07987148</td>\n",
       "      <td>328063700</td>\n",
       "      <td>US07987148</td>\n",
       "      <td>2010</td>\n",
       "      <td>...</td>\n",
       "      <td>122</td>\n",
       "      <td>0</td>\n",
       "      <td>0.713885</td>\n",
       "      <td>0.958138</td>\n",
       "      <td>0.566996</td>\n",
       "      <td>5.0</td>\n",
       "      <td>0.482869</td>\n",
       "      <td>0.629272</td>\n",
       "      <td>1</td>\n",
       "      <td>Systems and methods for prioritizing media fil...</td>\n",
       "    </tr>\n",
       "    <tr>\n",
       "      <th>4</th>\n",
       "      <td>156457</td>\n",
       "      <td>US-8519743-B2</td>\n",
       "      <td>A semiconductor integrated circuit comprises a...</td>\n",
       "      <td>20100312</td>\n",
       "      <td>Semiconductor integrated circuit</td>\n",
       "      <td>What is claimed is: \\n     \\n       1. A semic...</td>\n",
       "      <td>US08519743</td>\n",
       "      <td>331361461</td>\n",
       "      <td>US08519743</td>\n",
       "      <td>2010</td>\n",
       "      <td>...</td>\n",
       "      <td>3</td>\n",
       "      <td>0</td>\n",
       "      <td>0.320000</td>\n",
       "      <td>0.534979</td>\n",
       "      <td>0.296296</td>\n",
       "      <td>7.0</td>\n",
       "      <td>0.250661</td>\n",
       "      <td>0.252287</td>\n",
       "      <td>0</td>\n",
       "      <td>Semiconductor integrated circuit. A semiconduc...</td>\n",
       "    </tr>\n",
       "    <tr>\n",
       "      <th>...</th>\n",
       "      <td>...</td>\n",
       "      <td>...</td>\n",
       "      <td>...</td>\n",
       "      <td>...</td>\n",
       "      <td>...</td>\n",
       "      <td>...</td>\n",
       "      <td>...</td>\n",
       "      <td>...</td>\n",
       "      <td>...</td>\n",
       "      <td>...</td>\n",
       "      <td>...</td>\n",
       "      <td>...</td>\n",
       "      <td>...</td>\n",
       "      <td>...</td>\n",
       "      <td>...</td>\n",
       "      <td>...</td>\n",
       "      <td>...</td>\n",
       "      <td>...</td>\n",
       "      <td>...</td>\n",
       "      <td>...</td>\n",
       "      <td>...</td>\n",
       "    </tr>\n",
       "    <tr>\n",
       "      <th>4995</th>\n",
       "      <td>374073</td>\n",
       "      <td>US-8713032-B2</td>\n",
       "      <td>Methods, systems and articles of manufacture f...</td>\n",
       "      <td>20111202</td>\n",
       "      <td>Cross-platform cloud-based map creation</td>\n",
       "      <td>What is claimed is: \\n     \\n       1. A compu...</td>\n",
       "      <td>US08713032</td>\n",
       "      <td>365873243</td>\n",
       "      <td>US08713032</td>\n",
       "      <td>2011</td>\n",
       "      <td>...</td>\n",
       "      <td>4</td>\n",
       "      <td>0</td>\n",
       "      <td>0.686914</td>\n",
       "      <td>0.931641</td>\n",
       "      <td>0.656250</td>\n",
       "      <td>3.0</td>\n",
       "      <td>0.457711</td>\n",
       "      <td>0.428220</td>\n",
       "      <td>1</td>\n",
       "      <td>Cross-platform cloud-based map creation. Metho...</td>\n",
       "    </tr>\n",
       "    <tr>\n",
       "      <th>4996</th>\n",
       "      <td>609358</td>\n",
       "      <td>US-8835927-B2</td>\n",
       "      <td>A display substrate includes a gate line exten...</td>\n",
       "      <td>20121114</td>\n",
       "      <td>Display substrate</td>\n",
       "      <td>What is claimed is: \\n     \\n       1. A displ...</td>\n",
       "      <td>US08835927</td>\n",
       "      <td>410675886</td>\n",
       "      <td>US08835927</td>\n",
       "      <td>2012</td>\n",
       "      <td>...</td>\n",
       "      <td>6</td>\n",
       "      <td>0</td>\n",
       "      <td>0.659722</td>\n",
       "      <td>0.666667</td>\n",
       "      <td>1.000000</td>\n",
       "      <td>2.0</td>\n",
       "      <td>0.359248</td>\n",
       "      <td>0.361225</td>\n",
       "      <td>1</td>\n",
       "      <td>Display substrate. A display substrate include...</td>\n",
       "    </tr>\n",
       "    <tr>\n",
       "      <th>4997</th>\n",
       "      <td>618209</td>\n",
       "      <td>US-9181277-B2</td>\n",
       "      <td>The present invention relates to the field of ...</td>\n",
       "      <td>20121114</td>\n",
       "      <td>Aminoquinazoline derivatives and their salts a...</td>\n",
       "      <td>What is claimed is: \\n     \\n       1. A compo...</td>\n",
       "      <td>US09181277</td>\n",
       "      <td>420889733</td>\n",
       "      <td>US09181277</td>\n",
       "      <td>2012</td>\n",
       "      <td>...</td>\n",
       "      <td>26</td>\n",
       "      <td>0</td>\n",
       "      <td>0.472659</td>\n",
       "      <td>0.911124</td>\n",
       "      <td>0.198413</td>\n",
       "      <td>3.0</td>\n",
       "      <td>0.300691</td>\n",
       "      <td>0.325389</td>\n",
       "      <td>1</td>\n",
       "      <td>Aminoquinazoline derivatives and their salts a...</td>\n",
       "    </tr>\n",
       "    <tr>\n",
       "      <th>4998</th>\n",
       "      <td>242142</td>\n",
       "      <td>US-9221342-B2</td>\n",
       "      <td>A method for displaying graphical objects. The...</td>\n",
       "      <td>20110331</td>\n",
       "      <td>Method and device for displaying information i...</td>\n",
       "      <td>The invention claimed is: \\n     \\n       1. A...</td>\n",
       "      <td>US09221342</td>\n",
       "      <td>381597066</td>\n",
       "      <td>US09221342</td>\n",
       "      <td>2011</td>\n",
       "      <td>...</td>\n",
       "      <td>4</td>\n",
       "      <td>0</td>\n",
       "      <td>0.655223</td>\n",
       "      <td>0.934055</td>\n",
       "      <td>0.850340</td>\n",
       "      <td>4.0</td>\n",
       "      <td>0.476494</td>\n",
       "      <td>0.403608</td>\n",
       "      <td>1</td>\n",
       "      <td>Method and device for displaying information i...</td>\n",
       "    </tr>\n",
       "    <tr>\n",
       "      <th>4999</th>\n",
       "      <td>564583</td>\n",
       "      <td>US-8960017-B2</td>\n",
       "      <td>A method of retrofitting an orifice meter incl...</td>\n",
       "      <td>20121114</td>\n",
       "      <td>System and method for ultrasonic metering usin...</td>\n",
       "      <td>What is claimed is: \\n     \\n       1. A flow ...</td>\n",
       "      <td>US08960017</td>\n",
       "      <td>417939986</td>\n",
       "      <td>US08960017</td>\n",
       "      <td>2012</td>\n",
       "      <td>...</td>\n",
       "      <td>8</td>\n",
       "      <td>0</td>\n",
       "      <td>0.795923</td>\n",
       "      <td>0.562454</td>\n",
       "      <td>0.297297</td>\n",
       "      <td>3.0</td>\n",
       "      <td>0.471472</td>\n",
       "      <td>0.433156</td>\n",
       "      <td>1</td>\n",
       "      <td>System and method for ultrasonic metering usin...</td>\n",
       "    </tr>\n",
       "  </tbody>\n",
       "</table>\n",
       "<p>5000 rows × 30 columns</p>\n",
       "</div>"
      ],
      "text/plain": [
       "      Unnamed: 0 publication_number  \\\n",
       "0         701919      US-9210117-B2   \n",
       "1         356119      US-8715323-B2   \n",
       "2         832228      US-9414578-B2   \n",
       "3         170137      US-7987148-B2   \n",
       "4         156457      US-8519743-B2   \n",
       "...          ...                ...   \n",
       "4995      374073      US-8713032-B2   \n",
       "4996      609358      US-8835927-B2   \n",
       "4997      618209      US-9181277-B2   \n",
       "4998      242142      US-9221342-B2   \n",
       "4999      564583      US-8960017-B2   \n",
       "\n",
       "                                          abstract_text  filing_date  \\\n",
       "0     An invitation information push method includes...     20130208   \n",
       "1     A connector is provided for linear implants su...     20111017   \n",
       "2     A device for spearfishing, which device may in...     20131119   \n",
       "3     Disclosed are embodiments of systems and metho...     20100520   \n",
       "4     A semiconductor integrated circuit comprises a...     20100312   \n",
       "...                                                 ...          ...   \n",
       "4995  Methods, systems and articles of manufacture f...     20111202   \n",
       "4996  A display substrate includes a gate line exten...     20121114   \n",
       "4997  The present invention relates to the field of ...     20121114   \n",
       "4998  A method for displaying graphical objects. The...     20110331   \n",
       "4999  A method of retrofitting an orifice meter incl...     20121114   \n",
       "\n",
       "                                             title_text  \\\n",
       "0         Invitation information push method and system   \n",
       "1                          Coronal angulating connector   \n",
       "2                                Spearfishing apparatus   \n",
       "3     Systems and methods for prioritizing media fil...   \n",
       "4                      Semiconductor integrated circuit   \n",
       "...                                                 ...   \n",
       "4995            Cross-platform cloud-based map creation   \n",
       "4996                                  Display substrate   \n",
       "4997  Aminoquinazoline derivatives and their salts a...   \n",
       "4998  Method and device for displaying information i...   \n",
       "4999  System and method for ultrasonic metering usin...   \n",
       "\n",
       "                                            claims_text  \\\n",
       "0     What is claimed is: \\n     \\n       1. An invi...   \n",
       "1     What is claimed is: \\n     \\n       1. An impl...   \n",
       "2     What is claimed is: \\n     \\n       1. A spear...   \n",
       "3     1. A computer-implemented method for the autom...   \n",
       "4     What is claimed is: \\n     \\n       1. A semic...   \n",
       "...                                                 ...   \n",
       "4995  What is claimed is: \\n     \\n       1. A compu...   \n",
       "4996  What is claimed is: \\n     \\n       1. A displ...   \n",
       "4997  What is claimed is: \\n     \\n       1. A compo...   \n",
       "4998  The invention claimed is: \\n     \\n       1. A...   \n",
       "4999  What is claimed is: \\n     \\n       1. A flow ...   \n",
       "\n",
       "     publication_number_match   appln_id     pub_nbr  filing  ...  fwd_cits7  \\\n",
       "0                  US09210117  407142987  US09210117    2013  ...          2   \n",
       "1                  US08715323  405679017  US08715323    2011  ...         15   \n",
       "2                  US09414578  440484304  US09414578    2013  ...          7   \n",
       "3                  US07987148  328063700  US07987148    2010  ...        122   \n",
       "4                  US08519743  331361461  US08519743    2010  ...          3   \n",
       "...                       ...        ...         ...     ...  ...        ...   \n",
       "4995               US08713032  365873243  US08713032    2011  ...          4   \n",
       "4996               US08835927  410675886  US08835927    2012  ...          6   \n",
       "4997               US09181277  420889733  US09181277    2012  ...         26   \n",
       "4998               US09221342  381597066  US09221342    2011  ...          4   \n",
       "4999               US08960017  417939986  US08960017    2012  ...          8   \n",
       "\n",
       "      breakthrough  generality  originality  radicalness  renewal  \\\n",
       "0                0    0.520408     0.914825     0.402597      2.0   \n",
       "1                0    0.000000     0.226843     0.130435      3.0   \n",
       "2                0    0.753968     0.739062     0.087500      3.0   \n",
       "3                0    0.713885     0.958138     0.566996      5.0   \n",
       "4                0    0.320000     0.534979     0.296296      7.0   \n",
       "...            ...         ...          ...          ...      ...   \n",
       "4995             0    0.686914     0.931641     0.656250      3.0   \n",
       "4996             0    0.659722     0.666667     1.000000      2.0   \n",
       "4997             0    0.472659     0.911124     0.198413      3.0   \n",
       "4998             0    0.655223     0.934055     0.850340      4.0   \n",
       "4999             0    0.795923     0.562454     0.297297      3.0   \n",
       "\n",
       "      quality_index_4  quality_index_6  quality_rank  \\\n",
       "0            0.229088         0.251782             0   \n",
       "1            0.118815         0.198961             0   \n",
       "2            0.353373         0.411789             1   \n",
       "3            0.482869         0.629272             1   \n",
       "4            0.250661         0.252287             0   \n",
       "...               ...              ...           ...   \n",
       "4995         0.457711         0.428220             1   \n",
       "4996         0.359248         0.361225             1   \n",
       "4997         0.300691         0.325389             1   \n",
       "4998         0.476494         0.403608             1   \n",
       "4999         0.471472         0.433156             1   \n",
       "\n",
       "                                                   text  \n",
       "0     Invitation information push method and system....  \n",
       "1     Coronal angulating connector. A connector is p...  \n",
       "2     Spearfishing apparatus. A device for spearfish...  \n",
       "3     Systems and methods for prioritizing media fil...  \n",
       "4     Semiconductor integrated circuit. A semiconduc...  \n",
       "...                                                 ...  \n",
       "4995  Cross-platform cloud-based map creation. Metho...  \n",
       "4996  Display substrate. A display substrate include...  \n",
       "4997  Aminoquinazoline derivatives and their salts a...  \n",
       "4998  Method and device for displaying information i...  \n",
       "4999  System and method for ultrasonic metering usin...  \n",
       "\n",
       "[5000 rows x 30 columns]"
      ]
     },
     "execution_count": 7,
     "metadata": {},
     "output_type": "execute_result"
    }
   ],
   "source": [
    "df_merge_quality"
   ]
  },
  {
   "cell_type": "markdown",
   "metadata": {},
   "source": [
    "### create a model"
   ]
  },
  {
   "cell_type": "code",
   "execution_count": 8,
   "metadata": {},
   "outputs": [
    {
     "name": "stderr",
     "output_type": "stream",
     "text": [
      "Using TensorFlow backend.\n"
     ]
    }
   ],
   "source": [
    "import pickle as cPickle\n",
    "from collections import defaultdict\n",
    "import re\n",
    "\n",
    "from bs4 import BeautifulSoup\n",
    "\n",
    "import sys\n",
    "import os\n",
    "import tensorflow as tf\n",
    "from tensorflow import keras\n",
    "\n",
    "from keras.preprocessing.text import Tokenizer, text_to_word_sequence\n",
    "from keras.preprocessing.sequence import pad_sequences\n",
    "from keras.utils.np_utils import to_categorical\n",
    "\n",
    "from keras.layers import Embedding\n",
    "from keras.layers import Dense, Input, Flatten\n",
    "from keras.layers import Conv1D, MaxPooling1D, Embedding, Dropout, LSTM, GRU, Bidirectional, TimeDistributed\n",
    "from keras.models import Model\n",
    "\n",
    "from keras import backend as K\n",
    "from keras.engine.topology import Layer, InputSpec\n",
    "from keras import initializers"
   ]
  },
  {
   "cell_type": "code",
   "execution_count": 9,
   "metadata": {},
   "outputs": [],
   "source": [
    "MAX_SENT_LENGTH = 30\n",
    "MAX_SENTS = 30\n",
    "MAX_NB_WORDS = 20000\n",
    "EMBEDDING_DIM = 100\n",
    "VALIDATION_SPLIT = 0.2"
   ]
  },
  {
   "cell_type": "code",
   "execution_count": 10,
   "metadata": {},
   "outputs": [],
   "source": [
    "def clean_str(string):\n",
    "    \"\"\"\n",
    "    Tokenization/string cleaning for dataset\n",
    "    Every dataset is lower cased except\n",
    "    \"\"\"\n",
    "    string = re.sub(r\"\\\\\", \"\", string)    \n",
    "    string = re.sub(r\"\\'\", \"\", string)    \n",
    "    string = re.sub(r\"\\\"\", \"\", string)    \n",
    "    return string.strip().lower()"
   ]
  },
  {
   "cell_type": "code",
   "execution_count": 11,
   "metadata": {},
   "outputs": [],
   "source": [
    "data_train = df_merge_quality"
   ]
  },
  {
   "cell_type": "code",
   "execution_count": 12,
   "metadata": {},
   "outputs": [
    {
     "name": "stdout",
     "output_type": "stream",
     "text": [
      "(5000, 30)\n"
     ]
    }
   ],
   "source": [
    "print(data_train.shape)"
   ]
  },
  {
   "cell_type": "code",
   "execution_count": 13,
   "metadata": {},
   "outputs": [
    {
     "data": {
      "text/plain": [
       "0    2992\n",
       "1    2008\n",
       "Name: quality_rank, dtype: int64"
      ]
     },
     "execution_count": 13,
     "metadata": {},
     "output_type": "execute_result"
    }
   ],
   "source": [
    "data_train['quality_rank'].value_counts()"
   ]
  },
  {
   "cell_type": "code",
   "execution_count": 14,
   "metadata": {},
   "outputs": [
    {
     "data": {
      "text/plain": [
       "0.5984"
      ]
     },
     "execution_count": 14,
     "metadata": {},
     "output_type": "execute_result"
    }
   ],
   "source": [
    "2992/5000"
   ]
  },
  {
   "cell_type": "code",
   "execution_count": 62,
   "metadata": {},
   "outputs": [
    {
     "name": "stderr",
     "output_type": "stream",
     "text": [
      "[nltk_data] Downloading package punkt to\n",
      "[nltk_data]     /home/nobu_yamaguchi/nltk_data...\n",
      "[nltk_data]   Package punkt is already up-to-date!\n"
     ]
    },
    {
     "data": {
      "text/plain": [
       "True"
      ]
     },
     "execution_count": 62,
     "metadata": {},
     "output_type": "execute_result"
    }
   ],
   "source": [
    "import nltk\n",
    "nltk.download('punkt')"
   ]
  },
  {
   "cell_type": "code",
   "execution_count": 15,
   "metadata": {},
   "outputs": [],
   "source": [
    "from nltk import tokenize\n",
    "\n",
    "claims = []\n",
    "labels = []\n",
    "texts = []\n",
    "\n",
    "for idx in range(data_train.claims_text.shape[0]):\n",
    "\n",
    "    text = clean_str(str(data_train.iloc[idx]['claims_text']))\n",
    "    texts.append(text)\n",
    "    sentences = tokenize.sent_tokenize(text)\n",
    "    claims.append(sentences)\n",
    "    labels.append(data_train.iloc[idx]['quality_rank'])"
   ]
  },
  {
   "cell_type": "code",
   "execution_count": 16,
   "metadata": {},
   "outputs": [],
   "source": [
    "tokenizer = Tokenizer(num_words=MAX_NB_WORDS)\n",
    "tokenizer.fit_on_texts(texts)\n",
    "data = np.zeros((len(texts), MAX_SENTS, MAX_SENT_LENGTH), dtype='int32')"
   ]
  },
  {
   "cell_type": "code",
   "execution_count": 17,
   "metadata": {},
   "outputs": [
    {
     "data": {
      "text/plain": [
       "(5000, 30, 30)"
      ]
     },
     "execution_count": 17,
     "metadata": {},
     "output_type": "execute_result"
    }
   ],
   "source": [
    "data.shape"
   ]
  },
  {
   "cell_type": "code",
   "execution_count": 18,
   "metadata": {},
   "outputs": [],
   "source": [
    "for i, sentences in enumerate(claims):\n",
    "    for j, sent in enumerate(sentences):\n",
    "        if j < MAX_SENTS:\n",
    "            wordTokens = text_to_word_sequence(sent)\n",
    "            k = 0\n",
    "            for _, word in enumerate(wordTokens):\n",
    "            #for word in wordTokens:\n",
    "                if word in tokenizer.word_index.keys():\n",
    "                    if (k < MAX_SENT_LENGTH) and (tokenizer.word_index[word] < MAX_NB_WORDS):\n",
    "                        data[i, j, k] = tokenizer.word_index[word]\n",
    "                        k = k + 1"
   ]
  },
  {
   "cell_type": "code",
   "execution_count": 19,
   "metadata": {},
   "outputs": [
    {
     "name": "stdout",
     "output_type": "stream",
     "text": [
      "Found 31084 unique tokens.\n"
     ]
    }
   ],
   "source": [
    "word_index = tokenizer.word_index\n",
    "print('Found %s unique tokens.' % len(word_index))"
   ]
  },
  {
   "cell_type": "code",
   "execution_count": 20,
   "metadata": {},
   "outputs": [
    {
     "name": "stdout",
     "output_type": "stream",
     "text": [
      "Shape of data tensor: (5000, 30, 30)\n",
      "Shape of label tensor: (5000, 2)\n"
     ]
    }
   ],
   "source": [
    "labels = to_categorical(np.asarray(labels))\n",
    "print('Shape of data tensor:', data.shape)\n",
    "print('Shape of label tensor:', labels.shape)"
   ]
  },
  {
   "cell_type": "code",
   "execution_count": 18,
   "metadata": {},
   "outputs": [
    {
     "data": {
      "text/plain": [
       "array([[   13,     2,    26,    21,   102,     4,   548,   250,   241,\n",
       "            1,    26,     7,     2,    10,    26,     5,     2,   132,\n",
       "            4,  1277,     1,   250,     4,   216,     2,    10,   196,\n",
       "            5,     2,    12],\n",
       "       [   20,     1,    26,     3,     8,    13,   241,     1,   132,\n",
       "           61,   117,     1,    10,   542,    30,     7,    37,     4,\n",
       "          998,    59,    27,     1,    10,   542,    30,     2,    10,\n",
       "          172,     3,   542],\n",
       "       [   29,     1,    26,     3,     8,    13,   241,     1,   132,\n",
       "           61,   116,     1,   568,    46,     7,    37,     4,   998,\n",
       "           59,    27,     1,    12,   542,    30,     2,    12,   172,\n",
       "            3,   542,    28],\n",
       "       [   32,     1,    26,     3,     8,    29,   241,     1,    46,\n",
       "         1547,     4,     1, 12492,    12,   196,    59,    27,     1,\n",
       "          616,    12,   172,     3,   542,    71,    14,  1636,     4,\n",
       "            1,    75,    26],\n",
       "       [   41,     1,    26,     3,     8,    13,   241,     1,   132,\n",
       "           61,   116,     1,   568,    46,     7,    37,     4,   998,\n",
       "            1,   568,    46,    59,    27,    14,  1204,     3,     1,\n",
       "           75,    26,    28],\n",
       "       [   51,     1,    26,     3,     8,    13,   241,     1,   568,\n",
       "           46,    71,    14,  1221,     4,    80,   489,    25,     1,\n",
       "           75,    26,     9,   146,     4,     1,   103,     1, 12492,\n",
       "           12,   196,     0],\n",
       "       [   69,     1,    26,     3,     8,    13,   241,     1,   132,\n",
       "           61,   150,     1, 12492,  4624,  1129,     7,    37,     4,\n",
       "          998,  8826,    30,     9,     1,    12,   196,     5,   343,\n",
       "          398,     1,  8826],\n",
       "       [   55,     1,    26,     3,     8,    13,   241,     1,  5770,\n",
       "           46,    71,    15,    24,    16,     3,     2,   618,   151,\n",
       "           18,     2,  2752,   123,    23,     1,    12,   542,    30,\n",
       "            0,     0,     0],\n",
       "       [   63,     2,    22,   489,    25,     2,    26,     1,    22,\n",
       "           21,  1969,    16,     3,    14,  1221,    18,  5770,    46,\n",
       "           23,    34,     3,     2,    33,     3,   542,    30,  1327,\n",
       "          103,     2,    10],\n",
       "       [   65,     1,    22,     3,     8,    63,   241,   150,     1,\n",
       "           75,  4624,  1129,    37,    71,    84,   760,    46,     5,\n",
       "         5172,    46,   123,    23,     1,    10,   196,     9,     1,\n",
       "           75,  4624,  1129],\n",
       "       [   92,     1,    22,     3,     8,    63,   241,     1,    75,\n",
       "         4624,  1129,    71,    46,     4,   932,     1,    12,    26,\n",
       "            4,   447,     1,   446,  1221,   123,    23,     1,    10,\n",
       "          172,     3,   542],\n",
       "       [   95,     1,    22,     3,     8,    92,   241,     1,    12,\n",
       "           26,     7,   123,    23,     2,   931, 11954,   463,     5,\n",
       "          241,     1,   446,  1221,    71,  1410,    30,    19,     1,\n",
       "           75,  4624,  1129],\n",
       "       [  113,     1,    22,     3,     8,    63,   241,     1,   446,\n",
       "         1221,    71,   116,    25,     1,    12,    26,   288,  5770,\n",
       "           46,   123,    23,     1,    10,    26,     5,     1,    10,\n",
       "          172,     3,   542],\n",
       "       [  121,     1,    22,     3,     8,   113,   241,     1,  5770,\n",
       "           46,    71,    30,     4,  2256,    14,   542,    28,  3045,\n",
       "            9,     1,    10,    26,   241,     1,    10,   172,     3,\n",
       "          542,    30,     7],\n",
       "       [  124,     1,    22,     3,     8,   113,   241,     1,    12,\n",
       "           26,     7,   123,    23,     2,  2436,     3,     1,    10,\n",
       "           26,     0,     0,     0,     0,     0,     0,     0,     0,\n",
       "            0,     0,     0],\n",
       "       [  141,     2,   139,  4712,   102,    26,    21,   250,   847,\n",
       "           25,     2,   132,     3,     2,    26,     1,   250,    84,\n",
       "           16,    18,    54,   250,     4,   216,     2,    10,   196,\n",
       "           19,     2,   988],\n",
       "       [  163,     1,   139,  4712,   102,    26,     3,     8,   141,\n",
       "          241,     1,    16,    18,    54,   250,     4,   180,     2,\n",
       "           12,   196,   496,    16,    18,    54,   250,     4,   343,\n",
       "          398,  8826,    30],\n",
       "       [  159,     1,   139,  4712,   102,    26,     3,     8,   141,\n",
       "          241,     1,    16,    18,    54,   250,     4,   180,     2,\n",
       "           12,   196,   496,    16,    18,    54,   250,     4,   496,\n",
       "          760,    46,     5],\n",
       "       [  228,     1,   139,  4712,   102,    26,     3,     8,   141,\n",
       "          241,     1,    16,    18,    54,   250,     4,   434,     1,\n",
       "           12,   196,   496,    16,    18,    54,   250,     4,   216,\n",
       "           19,     1,  1146],\n",
       "       [  193,     1,   139,  4712,   102,    26,     3,     8,   141,\n",
       "          241,     1,   250,    37,   496,    16,    18,    54,   250,\n",
       "            4,   280,     1,  5770,    46,    59,    27,     1,   616,\n",
       "          542,    19,     1],\n",
       "       [    0,     0,     0,     0,     0,     0,     0,     0,     0,\n",
       "            0,     0,     0,     0,     0,     0,     0,     0,     0,\n",
       "            0,     0,     0,     0,     0,     0,     0,     0,     0,\n",
       "            0,     0,     0],\n",
       "       [    0,     0,     0,     0,     0,     0,     0,     0,     0,\n",
       "            0,     0,     0,     0,     0,     0,     0,     0,     0,\n",
       "            0,     0,     0,     0,     0,     0,     0,     0,     0,\n",
       "            0,     0,     0],\n",
       "       [    0,     0,     0,     0,     0,     0,     0,     0,     0,\n",
       "            0,     0,     0,     0,     0,     0,     0,     0,     0,\n",
       "            0,     0,     0,     0,     0,     0,     0,     0,     0,\n",
       "            0,     0,     0],\n",
       "       [    0,     0,     0,     0,     0,     0,     0,     0,     0,\n",
       "            0,     0,     0,     0,     0,     0,     0,     0,     0,\n",
       "            0,     0,     0,     0,     0,     0,     0,     0,     0,\n",
       "            0,     0,     0],\n",
       "       [    0,     0,     0,     0,     0,     0,     0,     0,     0,\n",
       "            0,     0,     0,     0,     0,     0,     0,     0,     0,\n",
       "            0,     0,     0,     0,     0,     0,     0,     0,     0,\n",
       "            0,     0,     0],\n",
       "       [    0,     0,     0,     0,     0,     0,     0,     0,     0,\n",
       "            0,     0,     0,     0,     0,     0,     0,     0,     0,\n",
       "            0,     0,     0,     0,     0,     0,     0,     0,     0,\n",
       "            0,     0,     0],\n",
       "       [    0,     0,     0,     0,     0,     0,     0,     0,     0,\n",
       "            0,     0,     0,     0,     0,     0,     0,     0,     0,\n",
       "            0,     0,     0,     0,     0,     0,     0,     0,     0,\n",
       "            0,     0,     0],\n",
       "       [    0,     0,     0,     0,     0,     0,     0,     0,     0,\n",
       "            0,     0,     0,     0,     0,     0,     0,     0,     0,\n",
       "            0,     0,     0,     0,     0,     0,     0,     0,     0,\n",
       "            0,     0,     0],\n",
       "       [    0,     0,     0,     0,     0,     0,     0,     0,     0,\n",
       "            0,     0,     0,     0,     0,     0,     0,     0,     0,\n",
       "            0,     0,     0,     0,     0,     0,     0,     0,     0,\n",
       "            0,     0,     0],\n",
       "       [    0,     0,     0,     0,     0,     0,     0,     0,     0,\n",
       "            0,     0,     0,     0,     0,     0,     0,     0,     0,\n",
       "            0,     0,     0,     0,     0,     0,     0,     0,     0,\n",
       "            0,     0,     0]], dtype=int32)"
      ]
     },
     "execution_count": 18,
     "metadata": {},
     "output_type": "execute_result"
    }
   ],
   "source": [
    "data[0]"
   ]
  },
  {
   "cell_type": "code",
   "execution_count": 21,
   "metadata": {},
   "outputs": [],
   "source": [
    "#data = data[indices]\n",
    "#labels = labels[indices]\n",
    "nb_validation_samples = int(VALIDATION_SPLIT * data.shape[0])"
   ]
  },
  {
   "cell_type": "code",
   "execution_count": 22,
   "metadata": {},
   "outputs": [],
   "source": [
    "x_train = data[:-nb_validation_samples]\n",
    "y_train = labels[:-nb_validation_samples]\n",
    "x_val = data[-nb_validation_samples:]\n",
    "y_val = labels[-nb_validation_samples:]"
   ]
  },
  {
   "cell_type": "code",
   "execution_count": 23,
   "metadata": {},
   "outputs": [
    {
     "name": "stdout",
     "output_type": "stream",
     "text": [
      "Number of positive and negative reviews in traing and validation set\n",
      "[2397. 1603.]\n",
      "[595. 405.]\n"
     ]
    }
   ],
   "source": [
    "print('Number of positive and negative reviews in traing and validation set')\n",
    "print(y_train.sum(axis=0))\n",
    "print(y_val.sum(axis=0))"
   ]
  },
  {
   "cell_type": "code",
   "execution_count": 24,
   "metadata": {},
   "outputs": [],
   "source": [
    "# Standard python helper libraries.\n",
    "import os, sys, re, json, time\n",
    "import itertools, collections\n",
    "from importlib import reload\n",
    "from IPython.display import display\n",
    "\n",
    "# NumPy and SciPy for matrix ops\n",
    "\n",
    "import scipy.sparse\n",
    "\n",
    "\n",
    "# Helper libraries\n",
    "#from w266_common import utils, vocabulary, tf_embed_viz\n",
    "#import glove_helper; reload(glove_helper)\n",
    "\n",
    "#hands = glove_helper.Hands(ndim=100)  # 50, 100, 200, 300 dim are available"
   ]
  },
  {
   "cell_type": "markdown",
   "metadata": {},
   "source": [
    "### use GloVe for embedding"
   ]
  },
  {
   "cell_type": "code",
   "execution_count": 25,
   "metadata": {},
   "outputs": [],
   "source": [
    "GLOVE_DIR = \"data/glove\"\n",
    "embeddings_index = {}\n",
    "f = open(os.path.join(GLOVE_DIR, 'glove.6B.100d.txt'))\n",
    "for line in f:\n",
    "    values = line.split()\n",
    "    word = values[0]\n",
    "    coefs = np.asarray(values[1:], dtype='float32')\n",
    "    embeddings_index[word] = coefs\n",
    "f.close()"
   ]
  },
  {
   "cell_type": "code",
   "execution_count": 26,
   "metadata": {},
   "outputs": [
    {
     "name": "stdout",
     "output_type": "stream",
     "text": [
      "Total 400000 word vectors.\n"
     ]
    }
   ],
   "source": [
    "print('Total %s word vectors.' % len(embeddings_index))"
   ]
  },
  {
   "cell_type": "code",
   "execution_count": 55,
   "metadata": {},
   "outputs": [],
   "source": [
    "# building Hierachical Attention network\n",
    "embedding_matrix = np.random.random((len(word_index) + 1, EMBEDDING_DIM))\n",
    "for word, i in word_index.items():\n",
    "    embedding_vector = embeddings_index.get(word)\n",
    "    if embedding_vector is not None:\n",
    "        # words not found in embedding index will be all-zeros.\n",
    "        embedding_matrix[i] = embedding_vector\n",
    "\n",
    "embedding_layer = Embedding(len(word_index) + 1,\n",
    "                            EMBEDDING_DIM,\n",
    "                            weights=[embedding_matrix],\n",
    "                            input_length=MAX_SENT_LENGTH,\n",
    "                            trainable=False)"
   ]
  },
  {
   "cell_type": "code",
   "execution_count": 56,
   "metadata": {},
   "outputs": [],
   "source": [
    "class AttLayer(Layer):\n",
    "    def __init__(self, attention_dim):\n",
    "        self.init = initializers.get('normal')\n",
    "        self.supports_masking = True\n",
    "        self.attention_dim = attention_dim\n",
    "        super(AttLayer, self).__init__()\n",
    "\n",
    "    def build(self, input_shape):\n",
    "        assert len(input_shape) == 3\n",
    "        self.W = K.variable(self.init((input_shape[-1], self.attention_dim)), name='W')\n",
    "        self.b = K.variable(self.init((self.attention_dim, )), name='b')\n",
    "        self.u = K.variable(self.init((self.attention_dim, 1)), name='u')\n",
    "        self.trainable_weights = [self.W, self.b, self.u]\n",
    "        super(AttLayer, self).build(input_shape)\n",
    "\n",
    "    def compute_mask(self, inputs, mask=None):\n",
    "        return mask\n",
    "\n",
    "    def call(self, x, mask=None):\n",
    "        # size of x :[batch_size, sel_len, attention_dim]\n",
    "        # size of u :[batch_size, attention_dim]\n",
    "        # uit = tanh(xW+b)\n",
    " \n",
    "        uit = K.tanh(K.bias_add(K.dot(x, self.W), self.b)) #\n",
    "\n",
    "        ait = K.dot(uit, self.u)\n",
    "        ait = K.squeeze(ait, -1)\n",
    "\n",
    "        ait = K.exp(ait)\n",
    "\n",
    "\n",
    "        #if mask is not None:\n",
    "        #    # Cast the mask to floatX to avoid float64 upcasting in theano\n",
    "        #    print('mask')\n",
    "        #    ait *= K.cast(mask, K.floatx())\n",
    "\n",
    "        ait /= K.cast(K.sum(ait, axis=1, keepdims=True) + K.epsilon(), K.floatx())\n",
    "\n",
    "        ait = K.expand_dims(ait)\n",
    " \n",
    "        weighted_input = x * ait\n",
    "        output = K.sum(weighted_input, axis=1)\n",
    "\n",
    "        return output\n",
    "\n",
    "    def compute_output_shape(self, input_shape):\n",
    "        return (input_shape[0], input_shape[-1])"
   ]
  },
  {
   "cell_type": "code",
   "execution_count": 57,
   "metadata": {},
   "outputs": [
    {
     "name": "stdout",
     "output_type": "stream",
     "text": [
      "tracking <tf.Variable 'att_layer_7/W:0' shape=(200, 100) dtype=float32> W\n",
      "tracking <tf.Variable 'att_layer_7/b:0' shape=(100,) dtype=float32> b\n",
      "tracking <tf.Variable 'att_layer_7/u:0' shape=(100, 1) dtype=float32> u\n"
     ]
    }
   ],
   "source": [
    "sentence_input = Input(shape=(MAX_SENT_LENGTH,), dtype='int32')\n",
    "embedded_sequences = embedding_layer(sentence_input)\n",
    "l_lstm = Bidirectional(GRU(100, return_sequences=True))(embedded_sequences)\n",
    "l_att = AttLayer(100)(l_lstm)\n",
    "sentEncoder = Model(sentence_input, l_att)"
   ]
  },
  {
   "cell_type": "code",
   "execution_count": 58,
   "metadata": {},
   "outputs": [],
   "source": [
    "claims_input = Input(shape=(MAX_SENTS, MAX_SENT_LENGTH), dtype='int32')\n",
    "claims_encoder = TimeDistributed(sentEncoder)(claims_input)\n",
    "l_lstm_sent = Bidirectional(GRU(30, return_sequences=True))(claims_encoder)"
   ]
  },
  {
   "cell_type": "code",
   "execution_count": 59,
   "metadata": {},
   "outputs": [
    {
     "data": {
      "text/plain": [
       "TensorShape([None, 30, 60])"
      ]
     },
     "execution_count": 59,
     "metadata": {},
     "output_type": "execute_result"
    }
   ],
   "source": [
    "l_lstm_sent.shape"
   ]
  },
  {
   "cell_type": "code",
   "execution_count": 60,
   "metadata": {},
   "outputs": [
    {
     "name": "stdout",
     "output_type": "stream",
     "text": [
      "tracking <tf.Variable 'att_layer_8/W:0' shape=(60, 100) dtype=float32> W\n",
      "tracking <tf.Variable 'att_layer_8/b:0' shape=(100,) dtype=float32> b\n",
      "tracking <tf.Variable 'att_layer_8/u:0' shape=(100, 1) dtype=float32> u\n"
     ]
    }
   ],
   "source": [
    "#l_att_sent = AttLayer(100)(l_lstm_sent)\n",
    "l_att_sent = AttLayer(100)(l_lstm_sent)"
   ]
  },
  {
   "cell_type": "code",
   "execution_count": 61,
   "metadata": {},
   "outputs": [],
   "source": [
    "l_att_dense = Dense(100, activation='relu')(l_att_sent)\n",
    "l_att_dense = Dense(100, activation='relu')(l_att_dense)\n",
    "l_att_dense = Dense(100, activation='relu')(l_att_dense)\n",
    "l_att_sent_drop = Dropout(rate=0.2)(l_att_dense)\n",
    "preds = Dense(2, activation='sigmoid')(l_att_sent_drop)\n",
    "model = Model(claims_input, preds)"
   ]
  },
  {
   "cell_type": "code",
   "execution_count": 62,
   "metadata": {},
   "outputs": [
    {
     "data": {
      "text/plain": [
       "TensorShape([None, 2])"
      ]
     },
     "execution_count": 62,
     "metadata": {},
     "output_type": "execute_result"
    }
   ],
   "source": [
    "preds.shape"
   ]
  },
  {
   "cell_type": "code",
   "execution_count": 63,
   "metadata": {},
   "outputs": [],
   "source": [
    "model.compile(loss='binary_crossentropy',\n",
    "              optimizer='adam',\n",
    "              metrics=['acc'])"
   ]
  },
  {
   "cell_type": "code",
   "execution_count": 64,
   "metadata": {},
   "outputs": [
    {
     "name": "stdout",
     "output_type": "stream",
     "text": [
      "model fitting - Hierachical attention network 0.2\n",
      "Train on 4000 samples, validate on 1000 samples\n",
      "Epoch 1/8\n",
      "4000/4000 [==============================] - 73s 18ms/step - loss: 0.6192 - acc: 0.6636 - val_loss: 0.5924 - val_acc: 0.6970\n",
      "Epoch 2/8\n",
      "4000/4000 [==============================] - 70s 17ms/step - loss: 0.6079 - acc: 0.6714 - val_loss: 0.5883 - val_acc: 0.6850\n",
      "Epoch 3/8\n",
      "4000/4000 [==============================] - 70s 17ms/step - loss: 0.6034 - acc: 0.6737 - val_loss: 0.5909 - val_acc: 0.6860\n",
      "Epoch 4/8\n",
      "4000/4000 [==============================] - 70s 17ms/step - loss: 0.6074 - acc: 0.6708 - val_loss: 0.5951 - val_acc: 0.6965\n",
      "Epoch 5/8\n",
      "4000/4000 [==============================] - 70s 17ms/step - loss: 0.5971 - acc: 0.6839 - val_loss: 0.5814 - val_acc: 0.6880\n",
      "Epoch 6/8\n",
      "4000/4000 [==============================] - 70s 17ms/step - loss: 0.5873 - acc: 0.6910 - val_loss: 0.5716 - val_acc: 0.7035\n",
      "Epoch 7/8\n",
      "4000/4000 [==============================] - 70s 17ms/step - loss: 0.5756 - acc: 0.7023 - val_loss: 0.5909 - val_acc: 0.6945\n",
      "Epoch 8/8\n",
      "4000/4000 [==============================] - 70s 17ms/step - loss: 0.5651 - acc: 0.7050 - val_loss: 0.5769 - val_acc: 0.7010\n"
     ]
    },
    {
     "data": {
      "text/plain": [
       "<keras.callbacks.callbacks.History at 0x7fdebc5af590>"
      ]
     },
     "execution_count": 64,
     "metadata": {},
     "output_type": "execute_result"
    }
   ],
   "source": [
    "print(\"model fitting - Hierachical attention network 0.2\")\n",
    "model.fit(x_train, y_train, validation_data=(x_val, y_val),\n",
    "          epochs=8, batch_size=50)"
   ]
  },
  {
   "cell_type": "code",
   "execution_count": 65,
   "metadata": {},
   "outputs": [],
   "source": [
    "pred_test = model.predict(x_val)\n",
    "np.savetxt('HATT.csv', pred_test)"
   ]
  },
  {
   "cell_type": "code",
   "execution_count": 67,
   "metadata": {},
   "outputs": [],
   "source": [
    "model.save(\"model/HATT_5y\")"
   ]
  },
  {
   "cell_type": "code",
   "execution_count": null,
   "metadata": {},
   "outputs": [],
   "source": []
  }
 ],
 "metadata": {
  "kernelspec": {
   "display_name": "Python 3",
   "language": "python",
   "name": "python3"
  },
  "language_info": {
   "codemirror_mode": {
    "name": "ipython",
    "version": 3
   },
   "file_extension": ".py",
   "mimetype": "text/x-python",
   "name": "python",
   "nbconvert_exporter": "python",
   "pygments_lexer": "ipython3",
   "version": "3.7.6"
  }
 },
 "nbformat": 4,
 "nbformat_minor": 4
}
