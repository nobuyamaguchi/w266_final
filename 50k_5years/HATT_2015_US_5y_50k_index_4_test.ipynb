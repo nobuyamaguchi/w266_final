{
 "cells": [
  {
   "cell_type": "code",
   "execution_count": null,
   "metadata": {},
   "outputs": [],
   "source": [
    "!pip install google-cloud-storage\n",
    "!pip install pandas"
   ]
  },
  {
   "cell_type": "code",
   "execution_count": 1,
   "metadata": {},
   "outputs": [],
   "source": [
    "import numpy as np\n",
    "import pandas as pd"
   ]
  },
  {
   "cell_type": "markdown",
   "metadata": {},
   "source": [
    "### keep only quality_index_6 >= 0"
   ]
  },
  {
   "cell_type": "code",
   "execution_count": 2,
   "metadata": {},
   "outputs": [
    {
     "data": {
      "text/plain": [
       "(50000, 30)"
      ]
     },
     "execution_count": 2,
     "metadata": {},
     "output_type": "execute_result"
    }
   ],
   "source": [
    "df_merge_quality = pd.read_csv('US_patent_abstract_50000_2015_with_title_1_5y.csv')\n",
    "df_merge_quality.shape"
   ]
  },
  {
   "cell_type": "code",
   "execution_count": 3,
   "metadata": {},
   "outputs": [
    {
     "data": {
      "text/plain": [
       "0.9568998205930508"
      ]
     },
     "execution_count": 3,
     "metadata": {},
     "output_type": "execute_result"
    }
   ],
   "source": [
    "max(df_merge_quality['quality_index_4'])"
   ]
  },
  {
   "cell_type": "code",
   "execution_count": 4,
   "metadata": {},
   "outputs": [
    {
     "data": {
      "text/plain": [
       "0.0131293670279051"
      ]
     },
     "execution_count": 4,
     "metadata": {},
     "output_type": "execute_result"
    }
   ],
   "source": [
    "min(df_merge_quality['quality_index_4'])"
   ]
  },
  {
   "cell_type": "code",
   "execution_count": 5,
   "metadata": {},
   "outputs": [],
   "source": [
    "import matplotlib\n",
    "import matplotlib.pyplot as plt\n",
    "%matplotlib inline"
   ]
  },
  {
   "cell_type": "code",
   "execution_count": 6,
   "metadata": {},
   "outputs": [
    {
     "data": {
      "image/png": "[encoded data removed]",
      "text/plain": [
       "<Figure size 432x288 with 1 Axes>"
      ]
     },
     "metadata": {
      "needs_background": "light"
     },
     "output_type": "display_data"
    }
   ],
   "source": [
    "plt.hist(df_merge_quality['quality_index_4'], density=False)  # `density=False` would make counts\n",
    "plt.ylabel('Frequency')\n",
    "plt.xlabel('Quality_Index_4');"
   ]
  },
  {
   "cell_type": "code",
   "execution_count": 7,
   "metadata": {},
   "outputs": [
    {
     "data": {
      "text/html": [
       "<div>\n",
       "<style scoped>\n",
       "    .dataframe tbody tr th:only-of-type {\n",
       "        vertical-align: middle;\n",
       "    }\n",
       "\n",
       "    .dataframe tbody tr th {\n",
       "        vertical-align: top;\n",
       "    }\n",
       "\n",
       "    .dataframe thead th {\n",
       "        text-align: right;\n",
       "    }\n",
       "</style>\n",
       "<table border=\"1\" class=\"dataframe\">\n",
       "  <thead>\n",
       "    <tr style=\"text-align: right;\">\n",
       "      <th></th>\n",
       "      <th>Unnamed: 0</th>\n",
       "      <th>publication_number</th>\n",
       "      <th>abstract_text</th>\n",
       "      <th>filing_date</th>\n",
       "      <th>title_text</th>\n",
       "      <th>claims_text</th>\n",
       "      <th>publication_number_match</th>\n",
       "      <th>appln_id</th>\n",
       "      <th>pub_nbr</th>\n",
       "      <th>filing</th>\n",
       "      <th>...</th>\n",
       "      <th>fwd_cits7</th>\n",
       "      <th>breakthrough</th>\n",
       "      <th>generality</th>\n",
       "      <th>originality</th>\n",
       "      <th>radicalness</th>\n",
       "      <th>renewal</th>\n",
       "      <th>quality_index_4</th>\n",
       "      <th>quality_index_6</th>\n",
       "      <th>quality_rank</th>\n",
       "      <th>text</th>\n",
       "    </tr>\n",
       "  </thead>\n",
       "  <tbody>\n",
       "    <tr>\n",
       "      <th>0</th>\n",
       "      <td>558310</td>\n",
       "      <td>US-8761039-B2</td>\n",
       "      <td>Adaptive generation of channel quality indicat...</td>\n",
       "      <td>20120904</td>\n",
       "      <td>Adaptive generation of channel quality indicat...</td>\n",
       "      <td>What is claimed is: \\n     \\n       1. A user ...</td>\n",
       "      <td>US08761039</td>\n",
       "      <td>410849633</td>\n",
       "      <td>US08761039</td>\n",
       "      <td>2012</td>\n",
       "      <td>...</td>\n",
       "      <td>8</td>\n",
       "      <td>0</td>\n",
       "      <td>0.695102</td>\n",
       "      <td>0.894376</td>\n",
       "      <td>0.666667</td>\n",
       "      <td>2.0</td>\n",
       "      <td>0.376003</td>\n",
       "      <td>0.382909</td>\n",
       "      <td>1</td>\n",
       "      <td>Adaptive generation of channel quality indicat...</td>\n",
       "    </tr>\n",
       "    <tr>\n",
       "      <th>1</th>\n",
       "      <td>898437</td>\n",
       "      <td>US-9265347-B2</td>\n",
       "      <td>A mechanism and method for assembling a base t...</td>\n",
       "      <td>20140129</td>\n",
       "      <td>Cam assembly utilizing 2 or more interconnecte...</td>\n",
       "      <td>I claim: \\n     \\n       1. A mechanism for as...</td>\n",
       "      <td>US09265347</td>\n",
       "      <td>421272321</td>\n",
       "      <td>US09265347</td>\n",
       "      <td>2014</td>\n",
       "      <td>...</td>\n",
       "      <td>0</td>\n",
       "      <td>0</td>\n",
       "      <td>NaN</td>\n",
       "      <td>0.816609</td>\n",
       "      <td>0.188235</td>\n",
       "      <td>2.0</td>\n",
       "      <td>0.269591</td>\n",
       "      <td>0.297736</td>\n",
       "      <td>0</td>\n",
       "      <td>Cam assembly utilizing 2 or more interconnecte...</td>\n",
       "    </tr>\n",
       "    <tr>\n",
       "      <th>2</th>\n",
       "      <td>1059828</td>\n",
       "      <td>US-9499260-B2</td>\n",
       "      <td>An aircraft landing gear wheel is disclosed. A...</td>\n",
       "      <td>20141014</td>\n",
       "      <td>Aircraft landing gear wheel with integral gear...</td>\n",
       "      <td>We claim: \\n     \\n       1. An aircraft landi...</td>\n",
       "      <td>US09499260</td>\n",
       "      <td>459193604</td>\n",
       "      <td>US09499260</td>\n",
       "      <td>2014</td>\n",
       "      <td>...</td>\n",
       "      <td>3</td>\n",
       "      <td>0</td>\n",
       "      <td>0.586420</td>\n",
       "      <td>0.632653</td>\n",
       "      <td>0.380952</td>\n",
       "      <td>2.0</td>\n",
       "      <td>0.323905</td>\n",
       "      <td>0.331917</td>\n",
       "      <td>1</td>\n",
       "      <td>Aircraft landing gear wheel with integral gear...</td>\n",
       "    </tr>\n",
       "    <tr>\n",
       "      <th>3</th>\n",
       "      <td>119949</td>\n",
       "      <td>US-8158424-B2</td>\n",
       "      <td>Previous methods for culturing primate pluripo...</td>\n",
       "      <td>20100405</td>\n",
       "      <td>Primate pluripotent stem cells cultured in med...</td>\n",
       "      <td>1. A method for culturing primate pluripotent ...</td>\n",
       "      <td>US08158424</td>\n",
       "      <td>329269529</td>\n",
       "      <td>US08158424</td>\n",
       "      <td>2010</td>\n",
       "      <td>...</td>\n",
       "      <td>91</td>\n",
       "      <td>0</td>\n",
       "      <td>0.264197</td>\n",
       "      <td>0.612755</td>\n",
       "      <td>0.214286</td>\n",
       "      <td>5.0</td>\n",
       "      <td>0.410151</td>\n",
       "      <td>0.417625</td>\n",
       "      <td>1</td>\n",
       "      <td>Primate pluripotent stem cells cultured in med...</td>\n",
       "    </tr>\n",
       "    <tr>\n",
       "      <th>4</th>\n",
       "      <td>488132</td>\n",
       "      <td>US-9106513-B2</td>\n",
       "      <td>Unified Communication and Collaboration (UC&amp;am...</td>\n",
       "      <td>20120323</td>\n",
       "      <td>Unified communication aware networks</td>\n",
       "      <td>What is claimed is: \\n     \\n       1. A metho...</td>\n",
       "      <td>US09106513</td>\n",
       "      <td>410686774</td>\n",
       "      <td>US09106513</td>\n",
       "      <td>2012</td>\n",
       "      <td>...</td>\n",
       "      <td>21</td>\n",
       "      <td>0</td>\n",
       "      <td>0.699325</td>\n",
       "      <td>0.781910</td>\n",
       "      <td>0.090909</td>\n",
       "      <td>3.0</td>\n",
       "      <td>0.296802</td>\n",
       "      <td>0.305626</td>\n",
       "      <td>0</td>\n",
       "      <td>Unified communication aware networks. Unified ...</td>\n",
       "    </tr>\n",
       "    <tr>\n",
       "      <th>...</th>\n",
       "      <td>...</td>\n",
       "      <td>...</td>\n",
       "      <td>...</td>\n",
       "      <td>...</td>\n",
       "      <td>...</td>\n",
       "      <td>...</td>\n",
       "      <td>...</td>\n",
       "      <td>...</td>\n",
       "      <td>...</td>\n",
       "      <td>...</td>\n",
       "      <td>...</td>\n",
       "      <td>...</td>\n",
       "      <td>...</td>\n",
       "      <td>...</td>\n",
       "      <td>...</td>\n",
       "      <td>...</td>\n",
       "      <td>...</td>\n",
       "      <td>...</td>\n",
       "      <td>...</td>\n",
       "      <td>...</td>\n",
       "      <td>...</td>\n",
       "    </tr>\n",
       "    <tr>\n",
       "      <th>49995</th>\n",
       "      <td>175577</td>\n",
       "      <td>US-8745608-B2</td>\n",
       "      <td>A scheduler of a reconfigurable array, a metho...</td>\n",
       "      <td>20100201</td>\n",
       "      <td>Scheduler of reconfigurable array, method of s...</td>\n",
       "      <td>What is claimed is: \\n     \\n       1. A sched...</td>\n",
       "      <td>US08745608</td>\n",
       "      <td>318230558</td>\n",
       "      <td>US08745608</td>\n",
       "      <td>2010</td>\n",
       "      <td>...</td>\n",
       "      <td>14</td>\n",
       "      <td>0</td>\n",
       "      <td>0.153554</td>\n",
       "      <td>0.879693</td>\n",
       "      <td>0.349206</td>\n",
       "      <td>4.0</td>\n",
       "      <td>0.165703</td>\n",
       "      <td>0.201958</td>\n",
       "      <td>0</td>\n",
       "      <td>Scheduler of reconfigurable array, method of s...</td>\n",
       "    </tr>\n",
       "    <tr>\n",
       "      <th>49996</th>\n",
       "      <td>828296</td>\n",
       "      <td>US-9102164-B2</td>\n",
       "      <td>A data processing apparatus determines a color...</td>\n",
       "      <td>20130905</td>\n",
       "      <td>Data processing apparatus, data processing met...</td>\n",
       "      <td>What is claimed is: \\n     \\n       1. An appa...</td>\n",
       "      <td>US09102164</td>\n",
       "      <td>413583822</td>\n",
       "      <td>US09102164</td>\n",
       "      <td>2013</td>\n",
       "      <td>...</td>\n",
       "      <td>2</td>\n",
       "      <td>0</td>\n",
       "      <td>0.513889</td>\n",
       "      <td>0.768935</td>\n",
       "      <td>0.196078</td>\n",
       "      <td>2.0</td>\n",
       "      <td>0.281970</td>\n",
       "      <td>0.310400</td>\n",
       "      <td>0</td>\n",
       "      <td>Data processing apparatus, data processing met...</td>\n",
       "    </tr>\n",
       "    <tr>\n",
       "      <th>49997</th>\n",
       "      <td>1031377</td>\n",
       "      <td>US-9207365-B2</td>\n",
       "      <td>According to one embodiment, an imaging lens i...</td>\n",
       "      <td>20140815</td>\n",
       "      <td>Imaging lens and solid state imaging device</td>\n",
       "      <td>What is claimed is: \\n     \\n       1. An imag...</td>\n",
       "      <td>US09207365</td>\n",
       "      <td>438132244</td>\n",
       "      <td>US09207365</td>\n",
       "      <td>2014</td>\n",
       "      <td>...</td>\n",
       "      <td>5</td>\n",
       "      <td>0</td>\n",
       "      <td>0.506651</td>\n",
       "      <td>0.796762</td>\n",
       "      <td>0.129870</td>\n",
       "      <td>1.0</td>\n",
       "      <td>0.336999</td>\n",
       "      <td>0.400449</td>\n",
       "      <td>1</td>\n",
       "      <td>Imaging lens and solid state imaging device. A...</td>\n",
       "    </tr>\n",
       "    <tr>\n",
       "      <th>49998</th>\n",
       "      <td>942646</td>\n",
       "      <td>US-9535998-B2</td>\n",
       "      <td>Systems and methods for an information reposit...</td>\n",
       "      <td>20140324</td>\n",
       "      <td>Information repository search system</td>\n",
       "      <td>I claim: \\n     \\n       1. A method comprisin...</td>\n",
       "      <td>US09535998</td>\n",
       "      <td>420403969</td>\n",
       "      <td>US09535998</td>\n",
       "      <td>2014</td>\n",
       "      <td>...</td>\n",
       "      <td>0</td>\n",
       "      <td>0</td>\n",
       "      <td>NaN</td>\n",
       "      <td>0.858850</td>\n",
       "      <td>0.550459</td>\n",
       "      <td>3.0</td>\n",
       "      <td>0.147154</td>\n",
       "      <td>0.200251</td>\n",
       "      <td>0</td>\n",
       "      <td>Information repository search system. Systems ...</td>\n",
       "    </tr>\n",
       "    <tr>\n",
       "      <th>49999</th>\n",
       "      <td>410134</td>\n",
       "      <td>US-9924938-B2</td>\n",
       "      <td>An instrument for delivering a suture transfas...</td>\n",
       "      <td>20111107</td>\n",
       "      <td>Instruments for delivering transfascial suture...</td>\n",
       "      <td>What is claimed is: \\n     \\n       1. An inst...</td>\n",
       "      <td>US09924938</td>\n",
       "      <td>406148988</td>\n",
       "      <td>US09924938</td>\n",
       "      <td>2011</td>\n",
       "      <td>...</td>\n",
       "      <td>7</td>\n",
       "      <td>0</td>\n",
       "      <td>0.140771</td>\n",
       "      <td>0.388179</td>\n",
       "      <td>0.150558</td>\n",
       "      <td>7.0</td>\n",
       "      <td>0.125246</td>\n",
       "      <td>0.225209</td>\n",
       "      <td>0</td>\n",
       "      <td>Instruments for delivering transfascial suture...</td>\n",
       "    </tr>\n",
       "  </tbody>\n",
       "</table>\n",
       "<p>50000 rows × 30 columns</p>\n",
       "</div>"
      ],
      "text/plain": [
       "       Unnamed: 0 publication_number  \\\n",
       "0          558310      US-8761039-B2   \n",
       "1          898437      US-9265347-B2   \n",
       "2         1059828      US-9499260-B2   \n",
       "3          119949      US-8158424-B2   \n",
       "4          488132      US-9106513-B2   \n",
       "...           ...                ...   \n",
       "49995      175577      US-8745608-B2   \n",
       "49996      828296      US-9102164-B2   \n",
       "49997     1031377      US-9207365-B2   \n",
       "49998      942646      US-9535998-B2   \n",
       "49999      410134      US-9924938-B2   \n",
       "\n",
       "                                           abstract_text  filing_date  \\\n",
       "0      Adaptive generation of channel quality indicat...     20120904   \n",
       "1      A mechanism and method for assembling a base t...     20140129   \n",
       "2      An aircraft landing gear wheel is disclosed. A...     20141014   \n",
       "3      Previous methods for culturing primate pluripo...     20100405   \n",
       "4      Unified Communication and Collaboration (UC&am...     20120323   \n",
       "...                                                  ...          ...   \n",
       "49995  A scheduler of a reconfigurable array, a metho...     20100201   \n",
       "49996  A data processing apparatus determines a color...     20130905   \n",
       "49997  According to one embodiment, an imaging lens i...     20140815   \n",
       "49998  Systems and methods for an information reposit...     20140324   \n",
       "49999  An instrument for delivering a suture transfas...     20111107   \n",
       "\n",
       "                                              title_text  \\\n",
       "0      Adaptive generation of channel quality indicat...   \n",
       "1      Cam assembly utilizing 2 or more interconnecte...   \n",
       "2      Aircraft landing gear wheel with integral gear...   \n",
       "3      Primate pluripotent stem cells cultured in med...   \n",
       "4                   Unified communication aware networks   \n",
       "...                                                  ...   \n",
       "49995  Scheduler of reconfigurable array, method of s...   \n",
       "49996  Data processing apparatus, data processing met...   \n",
       "49997        Imaging lens and solid state imaging device   \n",
       "49998               Information repository search system   \n",
       "49999  Instruments for delivering transfascial suture...   \n",
       "\n",
       "                                             claims_text  \\\n",
       "0      What is claimed is: \\n     \\n       1. A user ...   \n",
       "1      I claim: \\n     \\n       1. A mechanism for as...   \n",
       "2      We claim: \\n     \\n       1. An aircraft landi...   \n",
       "3      1. A method for culturing primate pluripotent ...   \n",
       "4      What is claimed is: \\n     \\n       1. A metho...   \n",
       "...                                                  ...   \n",
       "49995  What is claimed is: \\n     \\n       1. A sched...   \n",
       "49996  What is claimed is: \\n     \\n       1. An appa...   \n",
       "49997  What is claimed is: \\n     \\n       1. An imag...   \n",
       "49998  I claim: \\n     \\n       1. A method comprisin...   \n",
       "49999  What is claimed is: \\n     \\n       1. An inst...   \n",
       "\n",
       "      publication_number_match   appln_id     pub_nbr  filing  ...  fwd_cits7  \\\n",
       "0                   US08761039  410849633  US08761039    2012  ...          8   \n",
       "1                   US09265347  421272321  US09265347    2014  ...          0   \n",
       "2                   US09499260  459193604  US09499260    2014  ...          3   \n",
       "3                   US08158424  329269529  US08158424    2010  ...         91   \n",
       "4                   US09106513  410686774  US09106513    2012  ...         21   \n",
       "...                        ...        ...         ...     ...  ...        ...   \n",
       "49995               US08745608  318230558  US08745608    2010  ...         14   \n",
       "49996               US09102164  413583822  US09102164    2013  ...          2   \n",
       "49997               US09207365  438132244  US09207365    2014  ...          5   \n",
       "49998               US09535998  420403969  US09535998    2014  ...          0   \n",
       "49999               US09924938  406148988  US09924938    2011  ...          7   \n",
       "\n",
       "       breakthrough  generality  originality  radicalness  renewal  \\\n",
       "0                 0    0.695102     0.894376     0.666667      2.0   \n",
       "1                 0         NaN     0.816609     0.188235      2.0   \n",
       "2                 0    0.586420     0.632653     0.380952      2.0   \n",
       "3                 0    0.264197     0.612755     0.214286      5.0   \n",
       "4                 0    0.699325     0.781910     0.090909      3.0   \n",
       "...             ...         ...          ...          ...      ...   \n",
       "49995             0    0.153554     0.879693     0.349206      4.0   \n",
       "49996             0    0.513889     0.768935     0.196078      2.0   \n",
       "49997             0    0.506651     0.796762     0.129870      1.0   \n",
       "49998             0         NaN     0.858850     0.550459      3.0   \n",
       "49999             0    0.140771     0.388179     0.150558      7.0   \n",
       "\n",
       "       quality_index_4  quality_index_6  quality_rank  \\\n",
       "0             0.376003         0.382909             1   \n",
       "1             0.269591         0.297736             0   \n",
       "2             0.323905         0.331917             1   \n",
       "3             0.410151         0.417625             1   \n",
       "4             0.296802         0.305626             0   \n",
       "...                ...              ...           ...   \n",
       "49995         0.165703         0.201958             0   \n",
       "49996         0.281970         0.310400             0   \n",
       "49997         0.336999         0.400449             1   \n",
       "49998         0.147154         0.200251             0   \n",
       "49999         0.125246         0.225209             0   \n",
       "\n",
       "                                                    text  \n",
       "0      Adaptive generation of channel quality indicat...  \n",
       "1      Cam assembly utilizing 2 or more interconnecte...  \n",
       "2      Aircraft landing gear wheel with integral gear...  \n",
       "3      Primate pluripotent stem cells cultured in med...  \n",
       "4      Unified communication aware networks. Unified ...  \n",
       "...                                                  ...  \n",
       "49995  Scheduler of reconfigurable array, method of s...  \n",
       "49996  Data processing apparatus, data processing met...  \n",
       "49997  Imaging lens and solid state imaging device. A...  \n",
       "49998  Information repository search system. Systems ...  \n",
       "49999  Instruments for delivering transfascial suture...  \n",
       "\n",
       "[50000 rows x 30 columns]"
      ]
     },
     "execution_count": 7,
     "metadata": {},
     "output_type": "execute_result"
    }
   ],
   "source": [
    "df_merge_quality"
   ]
  },
  {
   "cell_type": "markdown",
   "metadata": {},
   "source": [
    "### create a model"
   ]
  },
  {
   "cell_type": "code",
   "execution_count": 8,
   "metadata": {},
   "outputs": [
    {
     "name": "stderr",
     "output_type": "stream",
     "text": [
      "Using TensorFlow backend.\n"
     ]
    }
   ],
   "source": [
    "import pickle as cPickle\n",
    "from collections import defaultdict\n",
    "import re\n",
    "\n",
    "from bs4 import BeautifulSoup\n",
    "\n",
    "import sys\n",
    "import os\n",
    "import tensorflow as tf\n",
    "from tensorflow import keras\n",
    "\n",
    "from keras.preprocessing.text import Tokenizer, text_to_word_sequence\n",
    "from keras.preprocessing.sequence import pad_sequences\n",
    "from keras.utils.np_utils import to_categorical\n",
    "\n",
    "from keras.layers import Embedding\n",
    "from keras.layers import Dense, Input, Flatten\n",
    "from keras.layers import Conv1D, MaxPooling1D, Embedding, Dropout, LSTM, GRU, Bidirectional, TimeDistributed\n",
    "from keras.models import Model\n",
    "\n",
    "from keras import backend as K\n",
    "from keras.engine.topology import Layer, InputSpec\n",
    "from keras import initializers"
   ]
  },
  {
   "cell_type": "code",
   "execution_count": 9,
   "metadata": {},
   "outputs": [],
   "source": [
    "MAX_SENT_LENGTH = 30\n",
    "MAX_SENTS = 30\n",
    "MAX_NB_WORDS = 20000\n",
    "EMBEDDING_DIM = 100\n",
    "VALIDATION_SPLIT = 0.2\n",
    "TEST_SPLIT = 0.1"
   ]
  },
  {
   "cell_type": "code",
   "execution_count": 10,
   "metadata": {},
   "outputs": [],
   "source": [
    "def clean_str(string):\n",
    "    \"\"\"\n",
    "    Tokenization/string cleaning for dataset\n",
    "    Every dataset is lower cased except\n",
    "    \"\"\"\n",
    "    string = re.sub(r\"\\\\\", \"\", string)    \n",
    "    string = re.sub(r\"\\'\", \"\", string)    \n",
    "    string = re.sub(r\"\\\"\", \"\", string)    \n",
    "    return string.strip().lower()"
   ]
  },
  {
   "cell_type": "code",
   "execution_count": 11,
   "metadata": {},
   "outputs": [],
   "source": [
    "data_train = df_merge_quality"
   ]
  },
  {
   "cell_type": "code",
   "execution_count": 12,
   "metadata": {},
   "outputs": [
    {
     "name": "stdout",
     "output_type": "stream",
     "text": [
      "(50000, 30)\n"
     ]
    }
   ],
   "source": [
    "print(data_train.shape)"
   ]
  },
  {
   "cell_type": "code",
   "execution_count": 13,
   "metadata": {},
   "outputs": [
    {
     "data": {
      "text/plain": [
       "0    29709\n",
       "1    20291\n",
       "Name: quality_rank, dtype: int64"
      ]
     },
     "execution_count": 13,
     "metadata": {},
     "output_type": "execute_result"
    }
   ],
   "source": [
    "data_train['quality_rank'].value_counts()"
   ]
  },
  {
   "cell_type": "code",
   "execution_count": 14,
   "metadata": {},
   "outputs": [
    {
     "data": {
      "text/plain": [
       "0.59418"
      ]
     },
     "execution_count": 14,
     "metadata": {},
     "output_type": "execute_result"
    }
   ],
   "source": [
    "29709/50000"
   ]
  },
  {
   "cell_type": "code",
   "execution_count": 15,
   "metadata": {},
   "outputs": [
    {
     "name": "stderr",
     "output_type": "stream",
     "text": [
      "[nltk_data] Downloading package punkt to\n",
      "[nltk_data]     /home/nobu_yamaguchi/nltk_data...\n",
      "[nltk_data]   Package punkt is already up-to-date!\n"
     ]
    },
    {
     "data": {
      "text/plain": [
       "True"
      ]
     },
     "execution_count": 15,
     "metadata": {},
     "output_type": "execute_result"
    }
   ],
   "source": [
    "import nltk\n",
    "nltk.download('punkt')"
   ]
  },
  {
   "cell_type": "code",
   "execution_count": 16,
   "metadata": {},
   "outputs": [],
   "source": [
    "from nltk import tokenize\n",
    "\n",
    "claims = []\n",
    "labels = []\n",
    "texts = []\n",
    "\n",
    "for idx in range(data_train.claims_text.shape[0]):\n",
    "\n",
    "    text = clean_str(str(data_train.iloc[idx]['claims_text']))\n",
    "    texts.append(text)\n",
    "    sentences = tokenize.sent_tokenize(text)\n",
    "    claims.append(sentences)\n",
    "    labels.append(data_train.iloc[idx]['quality_rank'])"
   ]
  },
  {
   "cell_type": "code",
   "execution_count": 17,
   "metadata": {},
   "outputs": [],
   "source": [
    "tokenizer = Tokenizer(num_words=MAX_NB_WORDS)\n",
    "tokenizer.fit_on_texts(texts)\n",
    "data = np.zeros((len(texts), MAX_SENTS, MAX_SENT_LENGTH), dtype='int32')"
   ]
  },
  {
   "cell_type": "code",
   "execution_count": 18,
   "metadata": {},
   "outputs": [
    {
     "data": {
      "text/plain": [
       "(50000, 30, 30)"
      ]
     },
     "execution_count": 18,
     "metadata": {},
     "output_type": "execute_result"
    }
   ],
   "source": [
    "data.shape"
   ]
  },
  {
   "cell_type": "code",
   "execution_count": 19,
   "metadata": {},
   "outputs": [],
   "source": [
    "for i, sentences in enumerate(claims):\n",
    "    for j, sent in enumerate(sentences):\n",
    "        if j < MAX_SENTS:\n",
    "            wordTokens = text_to_word_sequence(sent)\n",
    "            k = 0\n",
    "            for _, word in enumerate(wordTokens):\n",
    "            #for word in wordTokens:\n",
    "                if word in tokenizer.word_index.keys():\n",
    "                    if (k < MAX_SENT_LENGTH) and (tokenizer.word_index[word] < MAX_NB_WORDS):\n",
    "                        data[i, j, k] = tokenizer.word_index[word]\n",
    "                        k = k + 1"
   ]
  },
  {
   "cell_type": "code",
   "execution_count": 20,
   "metadata": {},
   "outputs": [
    {
     "data": {
      "text/plain": [
       "array([[ 226,    7,   81,    7,   12,    2,   63,  621,  760,   22,    1,\n",
       "         760,   22,   20,   13,  424,   19,  344,  210,  575,   21,    2,\n",
       "         130,  325,    2,  101,   43, 1234,    2,   31],\n",
       "       [  28,    1,  760,   22,    3,    8,   12,    6,   36,    3,    1,\n",
       "         257,   31,    3,  684,    3,   92, 4639,   48,    7,   56,   26,\n",
       "         442,  175,  367,   88,  367,   94, 2725, 1630],\n",
       "       [  35,    1,  760,   22,    3,    8,   12,    6,   36,    3,    1,\n",
       "         257,   31,    3,  684,    3,   92, 4639,   48,   34,   16,   17,\n",
       "          46, 1069, 2510,   19, 1069, 1657, 2610,    4],\n",
       "       [  39,    1,  760,   22,    3,    8,   12,    6,   36,    3,    1,\n",
       "         257,   31,    3,  684,    3,   92, 4639,   48,   34,   15,   23,\n",
       "          12,    2,    9, 1069,  458,   19, 1069,   42],\n",
       "       [  44,    2,   24,  435,   25,  210,   63,  621,  760,    1,   24,\n",
       "          20,  105,    2,  119,   92, 4639,    3,    1,  760,  241,  160,\n",
       "           3,    1,  760,    6,  105,    1,  119,   92],\n",
       "       [  52,    1,   24,    3,    8,   44,    6,   36,    3,    1,  257,\n",
       "          31,    3,  684,    3,   92, 4639,   48,    7,   56,   26,  442,\n",
       "         175,  367,   88,  367,   94, 2725, 1630,    5],\n",
       "       [  64,    1,   24,    3,    8,   44,    6,   36,    3,    1,  257,\n",
       "          31,    3,  684,    3,   92, 4639,   48,   34,   16,   17,   46,\n",
       "        1069, 2510,   19, 1069, 1657, 2610,    4,    1],\n",
       "       [  65,    1,   24,    3,    8,   44,    6,   36,    3,    1,  257,\n",
       "          31,    3,  684,    3,   92, 4639,   48,   34,   15,   23,   12,\n",
       "           2,    9, 1069,  458,   19, 1069,   42,    4],\n",
       "       [  75,    2,   24,   19,  298,  210,   63,  621,  760,    1,   24,\n",
       "          20,  352,    2,   31,    3,  684,    3,   92, 4639,   48,   19,\n",
       "          36,    3,    2,   31,    3,  760,   92, 7700],\n",
       "       [  66,    1,   24,    3,    8,   75,    6,   36,    3,    1,  257,\n",
       "          31,    3,  684,    3,   92, 4639,   48,    7,   56,   26,  442,\n",
       "         175,  367,   88,  367,   94, 2725, 1630,    5],\n",
       "       [  85,    1,   24,    3,    8,   75,    6,   36,    3,    1,  257,\n",
       "          31,    3,  684,    3,   92, 4639,   48,   34,   16,   17,   46,\n",
       "        1069, 2510,   19, 1069, 1657, 2610,    4,    1],\n",
       "       [  89,    1,   24,    3,    8,   75,    6,   36,    3,    1,  257,\n",
       "          31,    3,  684,    3,   92, 4639,   48,   34,   15,   23,   12,\n",
       "           2,    9, 1069,  458,   19, 1069,   42,    4],\n",
       "       [ 111,    2,  123,  330,   72, 1732,  101,  157,  352,  180,  220,\n",
       "           6,    1,  180,  220,   59,  477,   25,    2,   72,   32,  377,\n",
       "           1,   72,   32,    4,  243,    2,  119,   92],\n",
       "       [ 120,    1,  123,  330,   72, 1732,  101,  157,    3,    8,  111,\n",
       "           6,   36,    3,    1,  257,   31,    3,  684,    3,   92, 4639,\n",
       "          48,    7,   56,   26,  442,  175,  367,   88],\n",
       "       [ 118,    1,  123,  330,   72, 1732,  101,  157,    3,    8,  111,\n",
       "           6,   36,    3,    1,  257,   31,    3,  684,    3,   92, 4639,\n",
       "          48,   34,   16,   17,   46, 1069, 2510,   19],\n",
       "       [ 141,    2,   24,   19, 1751,  210,   63,  621,  760,    1,   24,\n",
       "          20,  344,    2,  140,  735,  666, 4794,   24,   19,   36,    3,\n",
       "           2,   31,    3,  760,   92, 7700,    4,  243],\n",
       "       [ 154,    1,   24,    3,    8,  141,    6,   14,  344,    1,  140,\n",
       "         735,  666, 4794,   24,   19,   36,    3,    1,   31,    3,  760,\n",
       "          92, 7700,   34,    2,  475,    2,   42,    4],\n",
       "       [ 181,    1,   24,    3,    8,  141,    6,   36,    3,    1,  257,\n",
       "          31,    3,  684,    3,   92, 4639,   48,    7,   56,   26,  442,\n",
       "         175,  367,   88,  367,   94, 2725, 1630,    5],\n",
       "       [ 230,    1,   24,    3,    8,  141,    6,   14, 1751,    1,  760,\n",
       "          34,  352,    2,  645,  180,   10,    2,  101,    3,    1,  760,\n",
       "          43,    7,  669,   25,    1,  110,    0,    0],\n",
       "       [ 188,    1,  760,   22,    3,    8,   12,    6,    1,  119,   92,\n",
       "        4639,    7,   56,   26,    1,  442,  175,    6,    1,  442, 1231,\n",
       "         347,   16,   17,   46,    3,  677,  914, 2081],\n",
       "       [ 358,    1,   24,    3,    8,   44,    6,    1,  119,   92, 4639,\n",
       "           7,   56,   26,    1,  442,  175,    6,    1,  442, 1231,  347,\n",
       "          16,   17,   46,    3,  677,  914, 2081, 1935],\n",
       "       [ 439,    1,   24,    3,    8,   75,    6,    1,  119,   92, 4639,\n",
       "           7,   56,   26,    1,  442,  175,    6,    1,  442, 1231,  347,\n",
       "          16,   17,   46,    3,  677,  914, 2081, 1935],\n",
       "       [ 526,    1,  123,  330,   72, 1732,  101,  157,    3,    8,  111,\n",
       "           6,    1,  119,   92, 4639,    7,   56,   26,    1,  442,  175,\n",
       "           6,    1,  442, 1231,  347,   16,   17,   46],\n",
       "       [ 566,    1,   24,    3,    8,  141,    6,    1,   92, 7700,   41,\n",
       "          56,   26,    1,  442,  175,    6,    1,  442, 1231,  347,   16,\n",
       "          17,   46,    3,  677,  914, 2081, 1935,  561],\n",
       "       [   0,    0,    0,    0,    0,    0,    0,    0,    0,    0,    0,\n",
       "           0,    0,    0,    0,    0,    0,    0,    0,    0,    0,    0,\n",
       "           0,    0,    0,    0,    0,    0,    0,    0],\n",
       "       [   0,    0,    0,    0,    0,    0,    0,    0,    0,    0,    0,\n",
       "           0,    0,    0,    0,    0,    0,    0,    0,    0,    0,    0,\n",
       "           0,    0,    0,    0,    0,    0,    0,    0],\n",
       "       [   0,    0,    0,    0,    0,    0,    0,    0,    0,    0,    0,\n",
       "           0,    0,    0,    0,    0,    0,    0,    0,    0,    0,    0,\n",
       "           0,    0,    0,    0,    0,    0,    0,    0],\n",
       "       [   0,    0,    0,    0,    0,    0,    0,    0,    0,    0,    0,\n",
       "           0,    0,    0,    0,    0,    0,    0,    0,    0,    0,    0,\n",
       "           0,    0,    0,    0,    0,    0,    0,    0],\n",
       "       [   0,    0,    0,    0,    0,    0,    0,    0,    0,    0,    0,\n",
       "           0,    0,    0,    0,    0,    0,    0,    0,    0,    0,    0,\n",
       "           0,    0,    0,    0,    0,    0,    0,    0],\n",
       "       [   0,    0,    0,    0,    0,    0,    0,    0,    0,    0,    0,\n",
       "           0,    0,    0,    0,    0,    0,    0,    0,    0,    0,    0,\n",
       "           0,    0,    0,    0,    0,    0,    0,    0]], dtype=int32)"
      ]
     },
     "execution_count": 20,
     "metadata": {},
     "output_type": "execute_result"
    }
   ],
   "source": [
    "data[0]"
   ]
  },
  {
   "cell_type": "code",
   "execution_count": 21,
   "metadata": {},
   "outputs": [
    {
     "name": "stdout",
     "output_type": "stream",
     "text": [
      "Found 102990 unique tokens.\n"
     ]
    }
   ],
   "source": [
    "word_index = tokenizer.word_index\n",
    "print('Found %s unique tokens.' % len(word_index))"
   ]
  },
  {
   "cell_type": "code",
   "execution_count": 22,
   "metadata": {},
   "outputs": [
    {
     "name": "stdout",
     "output_type": "stream",
     "text": [
      "Shape of data tensor: (50000, 30, 30)\n",
      "Shape of label tensor: (50000, 2)\n"
     ]
    }
   ],
   "source": [
    "labels = to_categorical(np.asarray(labels))\n",
    "print('Shape of data tensor:', data.shape)\n",
    "print('Shape of label tensor:', labels.shape)"
   ]
  },
  {
   "cell_type": "code",
   "execution_count": 23,
   "metadata": {},
   "outputs": [
    {
     "data": {
      "text/plain": [
       "array([[ 226,    7,   81,    7,   12,    2,   63,  621,  760,   22,    1,\n",
       "         760,   22,   20,   13,  424,   19,  344,  210,  575,   21,    2,\n",
       "         130,  325,    2,  101,   43, 1234,    2,   31],\n",
       "       [  28,    1,  760,   22,    3,    8,   12,    6,   36,    3,    1,\n",
       "         257,   31,    3,  684,    3,   92, 4639,   48,    7,   56,   26,\n",
       "         442,  175,  367,   88,  367,   94, 2725, 1630],\n",
       "       [  35,    1,  760,   22,    3,    8,   12,    6,   36,    3,    1,\n",
       "         257,   31,    3,  684,    3,   92, 4639,   48,   34,   16,   17,\n",
       "          46, 1069, 2510,   19, 1069, 1657, 2610,    4],\n",
       "       [  39,    1,  760,   22,    3,    8,   12,    6,   36,    3,    1,\n",
       "         257,   31,    3,  684,    3,   92, 4639,   48,   34,   15,   23,\n",
       "          12,    2,    9, 1069,  458,   19, 1069,   42],\n",
       "       [  44,    2,   24,  435,   25,  210,   63,  621,  760,    1,   24,\n",
       "          20,  105,    2,  119,   92, 4639,    3,    1,  760,  241,  160,\n",
       "           3,    1,  760,    6,  105,    1,  119,   92],\n",
       "       [  52,    1,   24,    3,    8,   44,    6,   36,    3,    1,  257,\n",
       "          31,    3,  684,    3,   92, 4639,   48,    7,   56,   26,  442,\n",
       "         175,  367,   88,  367,   94, 2725, 1630,    5],\n",
       "       [  64,    1,   24,    3,    8,   44,    6,   36,    3,    1,  257,\n",
       "          31,    3,  684,    3,   92, 4639,   48,   34,   16,   17,   46,\n",
       "        1069, 2510,   19, 1069, 1657, 2610,    4,    1],\n",
       "       [  65,    1,   24,    3,    8,   44,    6,   36,    3,    1,  257,\n",
       "          31,    3,  684,    3,   92, 4639,   48,   34,   15,   23,   12,\n",
       "           2,    9, 1069,  458,   19, 1069,   42,    4],\n",
       "       [  75,    2,   24,   19,  298,  210,   63,  621,  760,    1,   24,\n",
       "          20,  352,    2,   31,    3,  684,    3,   92, 4639,   48,   19,\n",
       "          36,    3,    2,   31,    3,  760,   92, 7700],\n",
       "       [  66,    1,   24,    3,    8,   75,    6,   36,    3,    1,  257,\n",
       "          31,    3,  684,    3,   92, 4639,   48,    7,   56,   26,  442,\n",
       "         175,  367,   88,  367,   94, 2725, 1630,    5],\n",
       "       [  85,    1,   24,    3,    8,   75,    6,   36,    3,    1,  257,\n",
       "          31,    3,  684,    3,   92, 4639,   48,   34,   16,   17,   46,\n",
       "        1069, 2510,   19, 1069, 1657, 2610,    4,    1],\n",
       "       [  89,    1,   24,    3,    8,   75,    6,   36,    3,    1,  257,\n",
       "          31,    3,  684,    3,   92, 4639,   48,   34,   15,   23,   12,\n",
       "           2,    9, 1069,  458,   19, 1069,   42,    4],\n",
       "       [ 111,    2,  123,  330,   72, 1732,  101,  157,  352,  180,  220,\n",
       "           6,    1,  180,  220,   59,  477,   25,    2,   72,   32,  377,\n",
       "           1,   72,   32,    4,  243,    2,  119,   92],\n",
       "       [ 120,    1,  123,  330,   72, 1732,  101,  157,    3,    8,  111,\n",
       "           6,   36,    3,    1,  257,   31,    3,  684,    3,   92, 4639,\n",
       "          48,    7,   56,   26,  442,  175,  367,   88],\n",
       "       [ 118,    1,  123,  330,   72, 1732,  101,  157,    3,    8,  111,\n",
       "           6,   36,    3,    1,  257,   31,    3,  684,    3,   92, 4639,\n",
       "          48,   34,   16,   17,   46, 1069, 2510,   19],\n",
       "       [ 141,    2,   24,   19, 1751,  210,   63,  621,  760,    1,   24,\n",
       "          20,  344,    2,  140,  735,  666, 4794,   24,   19,   36,    3,\n",
       "           2,   31,    3,  760,   92, 7700,    4,  243],\n",
       "       [ 154,    1,   24,    3,    8,  141,    6,   14,  344,    1,  140,\n",
       "         735,  666, 4794,   24,   19,   36,    3,    1,   31,    3,  760,\n",
       "          92, 7700,   34,    2,  475,    2,   42,    4],\n",
       "       [ 181,    1,   24,    3,    8,  141,    6,   36,    3,    1,  257,\n",
       "          31,    3,  684,    3,   92, 4639,   48,    7,   56,   26,  442,\n",
       "         175,  367,   88,  367,   94, 2725, 1630,    5],\n",
       "       [ 230,    1,   24,    3,    8,  141,    6,   14, 1751,    1,  760,\n",
       "          34,  352,    2,  645,  180,   10,    2,  101,    3,    1,  760,\n",
       "          43,    7,  669,   25,    1,  110,    0,    0],\n",
       "       [ 188,    1,  760,   22,    3,    8,   12,    6,    1,  119,   92,\n",
       "        4639,    7,   56,   26,    1,  442,  175,    6,    1,  442, 1231,\n",
       "         347,   16,   17,   46,    3,  677,  914, 2081],\n",
       "       [ 358,    1,   24,    3,    8,   44,    6,    1,  119,   92, 4639,\n",
       "           7,   56,   26,    1,  442,  175,    6,    1,  442, 1231,  347,\n",
       "          16,   17,   46,    3,  677,  914, 2081, 1935],\n",
       "       [ 439,    1,   24,    3,    8,   75,    6,    1,  119,   92, 4639,\n",
       "           7,   56,   26,    1,  442,  175,    6,    1,  442, 1231,  347,\n",
       "          16,   17,   46,    3,  677,  914, 2081, 1935],\n",
       "       [ 526,    1,  123,  330,   72, 1732,  101,  157,    3,    8,  111,\n",
       "           6,    1,  119,   92, 4639,    7,   56,   26,    1,  442,  175,\n",
       "           6,    1,  442, 1231,  347,   16,   17,   46],\n",
       "       [ 566,    1,   24,    3,    8,  141,    6,    1,   92, 7700,   41,\n",
       "          56,   26,    1,  442,  175,    6,    1,  442, 1231,  347,   16,\n",
       "          17,   46,    3,  677,  914, 2081, 1935,  561],\n",
       "       [   0,    0,    0,    0,    0,    0,    0,    0,    0,    0,    0,\n",
       "           0,    0,    0,    0,    0,    0,    0,    0,    0,    0,    0,\n",
       "           0,    0,    0,    0,    0,    0,    0,    0],\n",
       "       [   0,    0,    0,    0,    0,    0,    0,    0,    0,    0,    0,\n",
       "           0,    0,    0,    0,    0,    0,    0,    0,    0,    0,    0,\n",
       "           0,    0,    0,    0,    0,    0,    0,    0],\n",
       "       [   0,    0,    0,    0,    0,    0,    0,    0,    0,    0,    0,\n",
       "           0,    0,    0,    0,    0,    0,    0,    0,    0,    0,    0,\n",
       "           0,    0,    0,    0,    0,    0,    0,    0],\n",
       "       [   0,    0,    0,    0,    0,    0,    0,    0,    0,    0,    0,\n",
       "           0,    0,    0,    0,    0,    0,    0,    0,    0,    0,    0,\n",
       "           0,    0,    0,    0,    0,    0,    0,    0],\n",
       "       [   0,    0,    0,    0,    0,    0,    0,    0,    0,    0,    0,\n",
       "           0,    0,    0,    0,    0,    0,    0,    0,    0,    0,    0,\n",
       "           0,    0,    0,    0,    0,    0,    0,    0],\n",
       "       [   0,    0,    0,    0,    0,    0,    0,    0,    0,    0,    0,\n",
       "           0,    0,    0,    0,    0,    0,    0,    0,    0,    0,    0,\n",
       "           0,    0,    0,    0,    0,    0,    0,    0]], dtype=int32)"
      ]
     },
     "execution_count": 23,
     "metadata": {},
     "output_type": "execute_result"
    }
   ],
   "source": [
    "data[0]"
   ]
  },
  {
   "cell_type": "code",
   "execution_count": null,
   "metadata": {},
   "outputs": [],
   "source": []
  },
  {
   "cell_type": "code",
   "execution_count": 24,
   "metadata": {},
   "outputs": [],
   "source": [
    "#indices = np.arange(data.shape[0])\n",
    "#np.random.shuffle(indices)"
   ]
  },
  {
   "cell_type": "code",
   "execution_count": 25,
   "metadata": {},
   "outputs": [],
   "source": [
    "#data = data[indices]\n",
    "#labels = labels[indices]\n",
    "nb_validation_samples = int(VALIDATION_SPLIT * data.shape[0])\n",
    "nb_test_samples = int(TEST_SPLIT * data.shape[0])"
   ]
  },
  {
   "cell_type": "code",
   "execution_count": 26,
   "metadata": {},
   "outputs": [],
   "source": [
    "x_train = data[:-(nb_validation_samples+nb_test_samples)]\n",
    "y_train = labels[:-(nb_validation_samples+nb_test_samples)]\n",
    "x_val = data[-(nb_validation_samples+nb_test_samples):-nb_test_samples]\n",
    "y_val = labels[-(nb_validation_samples+nb_test_samples):-nb_test_samples]\n",
    "x_test = data[-nb_test_samples:]\n",
    "y_test = labels[-nb_test_samples:]"
   ]
  },
  {
   "cell_type": "code",
   "execution_count": 27,
   "metadata": {},
   "outputs": [
    {
     "name": "stdout",
     "output_type": "stream",
     "text": [
      "Number of positive and negative reviews in traing, validation, and test set\n",
      "[20815. 14185.]\n",
      "[5898. 4102.]\n",
      "[2996. 2004.]\n"
     ]
    }
   ],
   "source": [
    "print('Number of positive and negative reviews in traing, validation, and test set')\n",
    "print(y_train.sum(axis=0))\n",
    "print(y_val.sum(axis=0))\n",
    "print(y_test.sum(axis=0))"
   ]
  },
  {
   "cell_type": "code",
   "execution_count": 28,
   "metadata": {},
   "outputs": [],
   "source": [
    "# Standard python helper libraries.\n",
    "import os, sys, re, json, time\n",
    "import itertools, collections\n",
    "from importlib import reload\n",
    "from IPython.display import display\n",
    "\n",
    "# NumPy and SciPy for matrix ops\n",
    "\n",
    "import scipy.sparse\n",
    "\n",
    "\n",
    "# Helper libraries\n",
    "#from w266_common import utils, vocabulary, tf_embed_viz\n",
    "#import glove_helper; reload(glove_helper)\n",
    "\n",
    "#hands = glove_helper.Hands(ndim=100)  # 50, 100, 200, 300 dim are available"
   ]
  },
  {
   "cell_type": "markdown",
   "metadata": {},
   "source": [
    "### Use GloVe for embedding"
   ]
  },
  {
   "cell_type": "code",
   "execution_count": 29,
   "metadata": {},
   "outputs": [],
   "source": [
    "GLOVE_DIR = \"data/glove\"\n",
    "embeddings_index = {}\n",
    "f = open(os.path.join(GLOVE_DIR, 'glove.6B.100d.txt'))\n",
    "for line in f:\n",
    "    values = line.split()\n",
    "    word = values[0]\n",
    "    coefs = np.asarray(values[1:], dtype='float32')\n",
    "    embeddings_index[word] = coefs\n",
    "f.close()"
   ]
  },
  {
   "cell_type": "code",
   "execution_count": 30,
   "metadata": {},
   "outputs": [
    {
     "name": "stdout",
     "output_type": "stream",
     "text": [
      "Total 400000 word vectors.\n"
     ]
    }
   ],
   "source": [
    "print('Total %s word vectors.' % len(embeddings_index))"
   ]
  },
  {
   "cell_type": "code",
   "execution_count": 31,
   "metadata": {},
   "outputs": [],
   "source": [
    "# building Hierachical Attention network\n",
    "embedding_matrix = np.random.random((len(word_index) + 1, EMBEDDING_DIM))\n",
    "for word, i in word_index.items():\n",
    "    embedding_vector = embeddings_index.get(word)\n",
    "    if embedding_vector is not None:\n",
    "        # words not found in embedding index will be all-zeros.\n",
    "        embedding_matrix[i] = embedding_vector\n",
    "\n",
    "embedding_layer = Embedding(len(word_index) + 1,\n",
    "                            EMBEDDING_DIM,\n",
    "                            weights=[embedding_matrix],\n",
    "                            input_length=MAX_SENT_LENGTH,\n",
    "                            trainable=False)"
   ]
  },
  {
   "cell_type": "code",
   "execution_count": 32,
   "metadata": {},
   "outputs": [],
   "source": [
    "class AttLayer(Layer):\n",
    "    def __init__(self, attention_dim):\n",
    "        self.init = initializers.get('normal')\n",
    "        self.supports_masking = True\n",
    "        self.attention_dim = attention_dim\n",
    "        super(AttLayer, self).__init__()\n",
    "\n",
    "    def build(self, input_shape):\n",
    "        assert len(input_shape) == 3\n",
    "        self.W = K.variable(self.init((input_shape[-1], self.attention_dim)), name='W')\n",
    "        self.b = K.variable(self.init((self.attention_dim, )), name='b')\n",
    "        self.u = K.variable(self.init((self.attention_dim, 1)), name='u')\n",
    "        self.trainable_weights = [self.W, self.b, self.u]\n",
    "        super(AttLayer, self).build(input_shape)\n",
    "\n",
    "    def compute_mask(self, inputs, mask=None):\n",
    "        return mask\n",
    "\n",
    "    def call(self, x, mask=None):\n",
    "        # size of x :[batch_size, sel_len, attention_dim]\n",
    "        # size of u :[batch_size, attention_dim]\n",
    "        # uit = tanh(xW+b)\n",
    " \n",
    "        uit = K.tanh(K.bias_add(K.dot(x, self.W), self.b)) #\n",
    "\n",
    "        ait = K.dot(uit, self.u)\n",
    "        ait = K.squeeze(ait, -1)\n",
    "\n",
    "        ait = K.exp(ait)\n",
    "\n",
    "\n",
    "        #if mask is not None:\n",
    "        #    # Cast the mask to floatX to avoid float64 upcasting in theano\n",
    "        #    print('mask')\n",
    "        #    ait *= K.cast(mask, K.floatx())\n",
    "\n",
    "        ait /= K.cast(K.sum(ait, axis=1, keepdims=True) + K.epsilon(), K.floatx())\n",
    "\n",
    "        ait = K.expand_dims(ait)\n",
    " \n",
    "        weighted_input = x * ait\n",
    "        output = K.sum(weighted_input, axis=1)\n",
    "\n",
    "        return output\n",
    "\n",
    "    def compute_output_shape(self, input_shape):\n",
    "        return (input_shape[0], input_shape[-1])"
   ]
  },
  {
   "cell_type": "code",
   "execution_count": 33,
   "metadata": {},
   "outputs": [
    {
     "name": "stdout",
     "output_type": "stream",
     "text": [
      "tracking <tf.Variable 'att_layer_1/W:0' shape=(200, 100) dtype=float32> W\n",
      "tracking <tf.Variable 'att_layer_1/b:0' shape=(100,) dtype=float32> b\n",
      "tracking <tf.Variable 'att_layer_1/u:0' shape=(100, 1) dtype=float32> u\n"
     ]
    }
   ],
   "source": [
    "sentence_input = Input(shape=(MAX_SENT_LENGTH,), dtype='int32')\n",
    "embedded_sequences = embedding_layer(sentence_input)\n",
    "l_lstm = Bidirectional(GRU(100, return_sequences=True))(embedded_sequences)\n",
    "l_att = AttLayer(100)(l_lstm)\n",
    "sentEncoder = Model(sentence_input, l_att)"
   ]
  },
  {
   "cell_type": "code",
   "execution_count": 34,
   "metadata": {},
   "outputs": [],
   "source": [
    "claims_input = Input(shape=(MAX_SENTS, MAX_SENT_LENGTH), dtype='int32')\n",
    "claims_encoder = TimeDistributed(sentEncoder)(claims_input)\n",
    "l_lstm_sent = Bidirectional(GRU(30, return_sequences=True))(claims_encoder)"
   ]
  },
  {
   "cell_type": "code",
   "execution_count": 35,
   "metadata": {},
   "outputs": [
    {
     "data": {
      "text/plain": [
       "TensorShape([None, 30, 60])"
      ]
     },
     "execution_count": 35,
     "metadata": {},
     "output_type": "execute_result"
    }
   ],
   "source": [
    "l_lstm_sent.shape"
   ]
  },
  {
   "cell_type": "code",
   "execution_count": 36,
   "metadata": {},
   "outputs": [
    {
     "name": "stdout",
     "output_type": "stream",
     "text": [
      "tracking <tf.Variable 'att_layer_2/W:0' shape=(60, 100) dtype=float32> W\n",
      "tracking <tf.Variable 'att_layer_2/b:0' shape=(100,) dtype=float32> b\n",
      "tracking <tf.Variable 'att_layer_2/u:0' shape=(100, 1) dtype=float32> u\n"
     ]
    }
   ],
   "source": [
    "#l_att_sent = AttLayer(100)(l_lstm_sent)\n",
    "l_att_sent = AttLayer(100)(l_lstm_sent)"
   ]
  },
  {
   "cell_type": "code",
   "execution_count": 37,
   "metadata": {},
   "outputs": [],
   "source": [
    "l_att_dense = Dense(100, activation='relu')(l_att_sent)\n",
    "l_att_dense = Dense(100, activation='relu')(l_att_dense)\n",
    "l_att_dense = Dense(100, activation='relu')(l_att_dense)\n",
    "l_att_sent_drop = Dropout(rate=0.4)(l_att_dense)\n",
    "preds = Dense(2, activation='sigmoid')(l_att_sent_drop)\n",
    "model = Model(claims_input, preds)"
   ]
  },
  {
   "cell_type": "code",
   "execution_count": 38,
   "metadata": {},
   "outputs": [
    {
     "data": {
      "text/plain": [
       "TensorShape([None, 2])"
      ]
     },
     "execution_count": 38,
     "metadata": {},
     "output_type": "execute_result"
    }
   ],
   "source": [
    "preds.shape"
   ]
  },
  {
   "cell_type": "code",
   "execution_count": 39,
   "metadata": {},
   "outputs": [],
   "source": [
    "model.compile(loss='binary_crossentropy',\n",
    "              optimizer='adam',\n",
    "              metrics=['acc'])"
   ]
  },
  {
   "cell_type": "code",
   "execution_count": 40,
   "metadata": {},
   "outputs": [
    {
     "name": "stdout",
     "output_type": "stream",
     "text": [
      "model fitting - Hierachical attention network 0.4\n",
      "Train on 35000 samples, validate on 10000 samples\n",
      "Epoch 1/5\n",
      "35000/35000 [==============================] - 400s 11ms/step - loss: 0.6092 - acc: 0.6703 - val_loss: 0.5899 - val_acc: 0.6848\n",
      "Epoch 2/5\n",
      "35000/35000 [==============================] - 398s 11ms/step - loss: 0.5952 - acc: 0.6843 - val_loss: 0.5866 - val_acc: 0.6900\n",
      "Epoch 3/5\n",
      "35000/35000 [==============================] - 396s 11ms/step - loss: 0.5873 - acc: 0.6922 - val_loss: 0.5819 - val_acc: 0.6917\n",
      "Epoch 4/5\n",
      "35000/35000 [==============================] - 396s 11ms/step - loss: 0.5801 - acc: 0.6989 - val_loss: 0.5796 - val_acc: 0.6951\n",
      "Epoch 5/5\n",
      "35000/35000 [==============================] - 396s 11ms/step - loss: 0.5693 - acc: 0.7061 - val_loss: 0.5871 - val_acc: 0.6920\n"
     ]
    },
    {
     "data": {
      "text/plain": [
       "<keras.callbacks.callbacks.History at 0x7fa19b28c590>"
      ]
     },
     "execution_count": 40,
     "metadata": {},
     "output_type": "execute_result"
    }
   ],
   "source": [
    "print(\"model fitting - Hierachical attention network 0.4\")\n",
    "model.fit(x_train, y_train, validation_data=(x_val, y_val),\n",
    "          epochs=5, batch_size=50)"
   ]
  },
  {
   "cell_type": "code",
   "execution_count": 48,
   "metadata": {},
   "outputs": [],
   "source": [
    "pred_val = model.predict(x_val)\n",
    "np.savetxt('HATT_50k_5y.csv', pred_val)"
   ]
  },
  {
   "cell_type": "code",
   "execution_count": 41,
   "metadata": {},
   "outputs": [],
   "source": [
    "model.save_weights(\"model/HATT_50k_5y\")"
   ]
  },
  {
   "cell_type": "code",
   "execution_count": 42,
   "metadata": {},
   "outputs": [
    {
     "name": "stdout",
     "output_type": "stream",
     "text": [
      "5000/5000 [==============================] - 15s 3ms/step\n",
      "test loss, test acc: [0.5873745126724244, 0.6949999928474426]\n"
     ]
    }
   ],
   "source": [
    "test_result = model.evaluate(x_test, y_test)\n",
    "print(\"test loss, test acc:\", test_result)"
   ]
  },
  {
   "cell_type": "code",
   "execution_count": 43,
   "metadata": {},
   "outputs": [],
   "source": [
    "pred_test = model.predict(x_test)\n",
    "np.savetxt('Prediction_Output_50k/HATT_50k_5y_test.csv', pred_test)"
   ]
  },
  {
   "cell_type": "code",
   "execution_count": null,
   "metadata": {},
   "outputs": [],
   "source": []
  }
 ],
 "metadata": {
  "kernelspec": {
   "display_name": "Python 3",
   "language": "python",
   "name": "python3"
  },
  "language_info": {
   "codemirror_mode": {
    "name": "ipython",
    "version": 3
   },
   "file_extension": ".py",
   "mimetype": "text/x-python",
   "name": "python",
   "nbconvert_exporter": "python",
   "pygments_lexer": "ipython3",
   "version": "3.7.6"
  }
 },
 "nbformat": 4,
 "nbformat_minor": 4
}
